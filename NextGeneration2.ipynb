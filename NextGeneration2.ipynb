{
 "cells": [
  {
   "cell_type": "code",
   "execution_count": 1,
   "metadata": {
    "collapsed": false
   },
   "outputs": [
    {
     "data": {
      "text/plain": [
       "Transformation(identity)"
      ]
     },
     "execution_count": 1,
     "metadata": {},
     "output_type": "execute_result"
    }
   ],
   "source": [
    "immutable Transformation\n",
    "    self :: Function\n",
    "    deriv :: Function\n",
    "end\n",
    "\n",
    "function Base.show(io :: IO, m :: Transformation)\n",
    "    print(io, string(\"Transformation(\", m.self, \")\"))\n",
    "end\n",
    "\n",
    "import Core.eval\n",
    "\n",
    "function eval(transformation :: Transformation)\n",
    "    transformation.self\n",
    "end\n",
    "\n",
    "function deriv(transformation :: Transformation)\n",
    "    transformation.deriv\n",
    "end\n",
    "\n",
    "function sigmoid(x)\n",
    "        1. / (1. + exp(-x)) - 0.5\n",
    "end\n",
    "\n",
    "function dsigmoid(x)\n",
    "    exp(-x) / (1. + exp(-x)) ^ 2\n",
    "end\n",
    "\n",
    "const Sigmoid = Transformation(sigmoid, dsigmoid)\n",
    "\n",
    "const Identity = Transformation(identity, one) "
   ]
  },
  {
   "cell_type": "code",
   "execution_count": 2,
   "metadata": {
    "collapsed": false
   },
   "outputs": [
    {
     "data": {
      "text/plain": [
       "apply! (generic function with 1 method)"
      ]
     },
     "execution_count": 2,
     "metadata": {},
     "output_type": "execute_result"
    }
   ],
   "source": [
    "function calc_norm(array :: Matrix{Float64})\n",
    "  sqrt(sumabs2(array) / size(array, 1))\n",
    "end\n",
    "\n",
    "function calc_norm(vector :: Array{Float64, 1})\n",
    "  sqrt(sumabs2(vector))\n",
    "end\n",
    "\n",
    "function restriction(vector)\n",
    "  vector / (calc_norm(vector) + 0.001)\n",
    "end\n",
    "\n",
    "function init(a...)\n",
    "    restriction(randn(a...))\n",
    "end\n",
    "\n",
    "const DefaultRate = 0.01\n",
    "\n",
    "immutable Class\n",
    "    class_name :: String\n",
    "    type_len :: Int64\n",
    "end\n",
    "\n",
    "function Base.show(io :: IO, m :: Class)\n",
    "    print(io, string(\"Class(\", m.class_name, \")\"))\n",
    "end\n",
    "\n",
    "immutable Object\n",
    "    obj_name :: String\n",
    "    class :: Class\n",
    "    value :: Array{Float64, 1}\n",
    "end\n",
    "\n",
    "Object(obj_name :: String, class :: Class) = Object(obj_name, class, init(class.type_len))\n",
    "\n",
    "function Base.show(io :: IO, m :: Object)\n",
    "    print(io, string(\"Obj(\", m.obj_name, \"){\", m.class.class_name, \"}\"))\n",
    "end\n",
    "\n",
    "type DFunction\n",
    "    func_name :: String\n",
    "    in_classes :: Array{Class, 1}\n",
    "    out_class :: Class\n",
    "    f_matrix :: Matrix{Float64}\n",
    "    f_transformation :: Transformation\n",
    "    learning_rate :: Float64\n",
    "end\n",
    "\n",
    "function Base.show(io :: IO, m :: DFunction)\n",
    "    in_names = join([c.class_name for c in m.in_classes], \",\")\n",
    "    print(io, string(\"Func(\", m.func_name, \"){\", in_names, \"->\", m.out_class.class_name, \"}\"))\n",
    "end\n",
    "\n",
    "function LFunction(func_name, in_classes :: Array{Class, 1}, out_class :: Class, learning_rate = DefaultRate)\n",
    "    in_len = sum([class.type_len for class in in_classes])\n",
    "    out_len = out_class.type_len\n",
    "    DFunction(func_name, in_classes, out_class, init(out_len, in_len), Identity, learning_rate)\n",
    "end\n",
    "\n",
    "function SFunction(func_name, in_classes :: Array{Class, 1}, out_class :: Class, learning_rate = DefaultRate)\n",
    "    in_len = sum([class.type_len for class in in_classes])\n",
    "    out_len = out_class.type_len\n",
    "    DFunction(func_name, in_classes, out_class, init(out_len, in_len), Sigmoid, learning_rate)\n",
    "end\n",
    "\n",
    "function DFunction(func_name, in_classes :: Array{Class, 1}, out_class :: Class, f_transformation = Sigmoid, learning_rate = DefaultRate)\n",
    "    in_len = sum([class.type_len for class in in_classes])\n",
    "    out_len = out_class.type_len\n",
    "    DFunction(func_name, in_classes, out_class, init(out_len, in_len), f_transformation, learning_rate)\n",
    "end\n",
    "\n",
    "function CoFunction(func_name, in_class :: Class, f_transformation = Sigmoid)\n",
    "    DFunction(func_name, [in_class], in_class, diagm(ones(in_class.type_len)), f_transformation, 0.0)\n",
    "end\n",
    "\n",
    "function apply(func :: DFunction, objs :: Array{Object, 1})\n",
    "    inputs = vcat([obj.value for obj in objs]...)\n",
    "    outputs = eval(func.f_transformation).(func.f_matrix * inputs)\n",
    "    Object(\"untitled\", func.out_class, outputs)\n",
    "end\n",
    "\n",
    "function apply!(func :: DFunction, in_objs :: Array{Object, 1}, out_obj :: Object)\n",
    "    inputs = vcat([obj.value for obj in in_objs]...)\n",
    "    out_obj.value .= eval(func.f_transformation).(func.f_matrix * inputs)\n",
    "end"
   ]
  },
  {
   "cell_type": "code",
   "execution_count": 3,
   "metadata": {
    "collapsed": false
   },
   "outputs": [
    {
     "data": {
      "text/plain": [
       "Obj(untitled){Action}"
      ]
     },
     "execution_count": 3,
     "metadata": {},
     "output_type": "execute_result"
    }
   ],
   "source": [
    "Sensor = Class(\"Sensor\", 100)\n",
    "sensor = Object(\"sensor\", Sensor)\n",
    "Action = Class(\"Action\", 120)\n",
    "action = Object(\"action\", Action)\n",
    "act = DFunction(\"act\", [Sensor, Sensor, Action], Action)\n",
    "apply(act, [sensor, sensor, action])"
   ]
  },
  {
   "cell_type": "code",
   "execution_count": 4,
   "metadata": {
    "collapsed": false
   },
   "outputs": [
    {
     "data": {
      "text/plain": [
       "bottom_up (generic function with 1 method)"
      ]
     },
     "execution_count": 4,
     "metadata": {},
     "output_type": "execute_result"
    }
   ],
   "source": [
    "type Tree\n",
    "    op\n",
    "    value\n",
    "    subtrees :: Array{Tree, 1}\n",
    "end\n",
    "\n",
    "function Base.show(io :: IO, m :: Tree)\n",
    "    if length(m.subtrees) > 0\n",
    "        print(io, \"[\")\n",
    "    end\n",
    "    print(io, string(m.op))\n",
    "    if length(m.subtrees) > 0\n",
    "        print(io, \", \")\n",
    "    end\n",
    "    subs = join([string(subm) for subm in m.subtrees], \", \")\n",
    "    print(io, subs)\n",
    "    if length(m.subtrees) > 0\n",
    "        print(io, \"]\")\n",
    "    end\n",
    "end\n",
    "\n",
    "function beautify(m :: Tree, indent :: Int64)\n",
    "    indentation = join([\"    \" for i in 1:indent])\n",
    "    string(indentation, m.op, \"\\n\", join([beautify(sub, indent + 1) for sub in m.subtrees]))\n",
    "end\n",
    "\n",
    "beautify(m :: Tree) = beautify(m, 0)\n",
    "\n",
    "pprint(m) = print(beautify(m))\n",
    "    \n",
    "function _bottom_up(func :: Function, tree :: Tree, dict :: Dict)\n",
    "    function f()\n",
    "        func(tree, [_bottom_up(func, t, dict) for t in tree.subtrees])\n",
    "    end\n",
    "    get!(f, dict, tree)\n",
    "end\n",
    "\n",
    "## bottom_up(func :: Function, tree :: Tree) = _bottom_up(func, tree, Dict())\n",
    "\n",
    "function bottom_up(func :: Function, tree :: Tree)\n",
    "    func(tree, [bottom_up(func, t) for t in tree.subtrees])\n",
    "end"
   ]
  },
  {
   "cell_type": "code",
   "execution_count": 5,
   "metadata": {
    "collapsed": false
   },
   "outputs": [
    {
     "data": {
      "text/plain": [
       "eval_tree! (generic function with 1 method)"
      ]
     },
     "execution_count": 5,
     "metadata": {},
     "output_type": "execute_result"
    }
   ],
   "source": [
    "function lens_split(x :: Array, lens :: Array{Int64, 1})\n",
    "    ind = cumsum(lens)\n",
    "    n = length(ind)\n",
    "    ind = [0; ind]\n",
    "    [view(x, (ind[i]+1):ind[i+1]) for i in 1:n]\n",
    "end\n",
    "\n",
    "function init_node!(op :: Object, value :: Dict)\n",
    "    value[:value] = Array{Float64, 1}(op.class.type_len)\n",
    "    value[:d] = Array{Float64, 1}(op.class.type_len)\n",
    "end\n",
    "\n",
    "function init_node!(op :: DFunction, value :: Dict)\n",
    "    value[:pre_matrix] = Array{Float64, 1}(size(op.f_matrix, 2))\n",
    "    value[:pre_transform] = Array{Float64, 1}(op.out_class.type_len)\n",
    "    value[:value] = Array{Float64, 1}(op.out_class.type_len)\n",
    "    value[:inputs] = lens_split(value[:pre_matrix], [c.type_len for c in op.in_classes])\n",
    "    value[:d] = Array{Float64, 1}(op.out_class.type_len)\n",
    "    value[:pre_transform_d] = Array{Float64, 1}(op.out_class.type_len)\n",
    "    value[:pre_matrix_d] = Array{Float64, 1}(size(op.f_matrix, 2))\n",
    "    value[:input_ds] = lens_split(value[:pre_matrix_d], [c.type_len for c in op.in_classes])\n",
    "end\n",
    "\n",
    "function _init_tree!(tree :: Tree, _)\n",
    "    init_node!(tree.op, tree.value)\n",
    "    tree\n",
    "end\n",
    "    \n",
    "function init_tree!(tree :: Tree)\n",
    "    bottom_up(_init_tree!, tree)\n",
    "end\n",
    "\n",
    "function eval_node!(op :: Object, value :: Dict, value_list)\n",
    "    value[:value] .= op.value\n",
    "end\n",
    "\n",
    "function eval_node!(op :: DFunction, value :: Dict, value_list)\n",
    "    i = 1\n",
    "    for v in value_list\n",
    "        value[:inputs][i] .= v[:value]\n",
    "        i += 1\n",
    "    end\n",
    "    ## value[:pre_matrix] .= vcat([v[:post_feature] for v in value_list]...)\n",
    "    A_mul_B!(value[:pre_transform], op.f_matrix, value[:pre_matrix])\n",
    "    value[:value] .= eval(op.f_transformation).(value[:pre_transform])\n",
    "end\n",
    "\n",
    "function _eval_tree!(tree :: Tree, _)\n",
    "    eval_node!(tree.op, tree.value, (t.value for t in tree.subtrees))\n",
    "    tree\n",
    "end\n",
    "    \n",
    "## function eval_tree!(tree :: Tree)\n",
    "##     bottom_up(_eval_tree!, tree)\n",
    "## end\n",
    "    \n",
    "function eval_tree!(tree :: Tree)\n",
    "    foreach(eval_tree!, tree.subtrees)\n",
    "    eval_node!(tree.op, tree.value, (t.value for t in tree.subtrees))\n",
    "    tree\n",
    "end"
   ]
  },
  {
   "cell_type": "code",
   "execution_count": 6,
   "metadata": {
    "collapsed": false
   },
   "outputs": [
    {
     "data": {
      "text/plain": [
       "0.0"
      ]
     },
     "execution_count": 6,
     "metadata": {},
     "output_type": "execute_result"
    }
   ],
   "source": [
    "Sensor = Class(\"Sensor\", 100)\n",
    "sensor = Object(\"sensor\", Sensor)\n",
    "Action = Class(\"Action\", 120)\n",
    "action = Object(\"action\", Action)\n",
    "act = DFunction(\"act\", [Sensor, Action], Action)\n",
    "tree = Tree(act, Dict(), [Tree(sensor, Dict(), []), Tree(action, Dict(), [])])\n",
    "init_tree!(tree)\n",
    "sum(abs(eval_tree!(tree).value[:value] - apply(act, [sensor, action]).value))"
   ]
  },
  {
   "cell_type": "code",
   "execution_count": 7,
   "metadata": {
    "collapsed": false
   },
   "outputs": [
    {
     "data": {
      "text/plain": [
       "bp_tree! (generic function with 1 method)"
      ]
     },
     "execution_count": 7,
     "metadata": {},
     "output_type": "execute_result"
    }
   ],
   "source": [
    "function bp_transformation!(transformation, inputs, d, new_d)\n",
    "    new_d .= deriv(transformation).(inputs)\n",
    "    for i in 1:length(d)\n",
    "        new_d[i] *= d[i]\n",
    "    end\n",
    "end\n",
    "\n",
    "function bp_matrix!(inputs, matrix, d, step, new_d)\n",
    "    ## step = 0.01\n",
    "    ## dmatrix = reshape(d, (length(d), 1)) * reshape(inputs, (1, length(inputs)))\n",
    "    ## matrix[:, :] += step * reshape(d, (length(d), 1)) * reshape(inputs, (1, length(inputs)))\n",
    "    for j in 1:size(matrix, 2)\n",
    "        new_d[j] = 0.0\n",
    "        for i in 1:size(matrix, 1)\n",
    "            matrix[i, j] += step * d[i] * inputs[j]\n",
    "            new_d[j] += matrix[i, j] * d[i]\n",
    "        end\n",
    "    end\n",
    "end\n",
    "\n",
    "function bp_function!(op :: DFunction, value :: Dict)\n",
    "    bp_transformation!(op.f_transformation, value[:pre_transform], value[:d], value[:pre_transform_d])\n",
    "    bp_matrix!(value[:pre_matrix], op.f_matrix, value[:pre_transform_d], op.learning_rate, value[:pre_matrix_d])\n",
    "end\n",
    "\n",
    "function bp_tree!(tree :: Tree)\n",
    "    if typeof(tree.op) == DFunction\n",
    "        bp_function!(tree.op, tree.value)\n",
    "        for i in 1:length(tree.subtrees)\n",
    "            tree.subtrees[i].value[:d] .= tree.value[:input_ds][i]\n",
    "            bp_tree!(tree.subtrees[i])\n",
    "        end\n",
    "        ## ds = lens_split(d, [c.feature_len for c in tree.op.in_classes])\n",
    "        ## for i in 1:length(tree.subtrees)\n",
    "        ##     bp_tree!(tree.subtrees[i], tree.value[:ds][i])\n",
    "        ## end\n",
    "        ## dds = map(bp_class!, tree.op.in_classes, [t.value for t in tree.subtrees], tree.value[:ds])\n",
    "        ## foreach(bp_tree!, tree.subtrees, dds)\n",
    "    end\n",
    "end"
   ]
  },
  {
   "cell_type": "code",
   "execution_count": 8,
   "metadata": {
    "collapsed": false
   },
   "outputs": [],
   "source": [
    "Sensor = Class(\"Sensor\", 100)\n",
    "sensor = Object(\"sensor\", Sensor)\n",
    "Action = Class(\"Action\", 120)\n",
    "action = Object(\"action\", Action)\n",
    "act = DFunction(\"act\", [Sensor, Action], Action)\n",
    "tree = Tree(act, Dict(), [Tree(sensor, Dict(), []), Tree(action, Dict(), [])])\n",
    "init_tree!(tree)\n",
    "d = ones(length(eval_tree!(tree).value[:value])) - eval_tree!(tree).value[:value]\n",
    "for i in 1:5000\n",
    "    tree.value[:d] .= ones(length(eval_tree!(tree).value[:value])) - eval_tree!(tree).value[:value]\n",
    "    bp_tree!(tree)\n",
    "end\n",
    "## maximum(abs(ones(length(eval_tree!(tree).value[:value])) - eval_tree!(tree).value[:value]))"
   ]
  },
  {
   "cell_type": "code",
   "execution_count": 9,
   "metadata": {
    "collapsed": false
   },
   "outputs": [
    {
     "data": {
      "text/plain": [
       "train! (generic function with 2 methods)"
      ]
     },
     "execution_count": 9,
     "metadata": {},
     "output_type": "execute_result"
    }
   ],
   "source": [
    "function toTree(op)\n",
    "    Tree(op, Dict(), [])\n",
    "end\n",
    "\n",
    "function toTree(skeleton :: Array)\n",
    "    op = skeleton[1]\n",
    "    subs = skeleton[2:end]\n",
    "    Tree(op, Dict(), [toTree(s) for s in subs])\n",
    "end\n",
    "\n",
    "function add!(dict :: Dict, dict1 :: Dict)\n",
    "    for key in keys(dict1)\n",
    "        dict[key] = vcat(get!(dict, key, []), dict1[key])\n",
    "    end\n",
    "    dict\n",
    "end\n",
    "\n",
    "function _index(tree :: Tree, inds :: Array)\n",
    "    ind = Dict{Any, Any}(tree.op => [tree])\n",
    "    for ind1 in inds\n",
    "        add!(ind, ind1)\n",
    "    end\n",
    "    ind\n",
    "end\n",
    "\n",
    "index(tree :: Tree) = bottom_up(_index, tree)\n",
    "\n",
    "type Axiom\n",
    "    tree1 :: Tree\n",
    "    tree2 :: Tree\n",
    "    index :: Dict\n",
    "end\n",
    "\n",
    "function Base.show(io :: IO, m :: Axiom)\n",
    "    print(io, \"Axiom[\")\n",
    "    print(io, m.tree1)\n",
    "    print(io, \", \")\n",
    "    print(io, m.tree2)\n",
    "    print(io, \"]\")\n",
    "end\n",
    "\n",
    "function beautify(m :: Axiom)\n",
    "    string(\"Axiom:\\n\", beautify(m.tree1, 1), \"\\n\", beautify(m.tree2, 1), \"\\n\")\n",
    "end\n",
    "\n",
    "Axiom(tree1 :: Tree, tree2 :: Tree) = Axiom(tree1, tree2, add!(index(tree1), index(tree2)))\n",
    "\n",
    "Axiom(skeleton1, skeleton2) = Axiom(toTree(skeleton1), toTree(skeleton2))\n",
    "\n",
    "function push!(index :: Dict, ops :: Array)\n",
    "    n = length(ops)\n",
    "    for i in 1:n\n",
    "        for t in index[i]\n",
    "            t.op = ops[i]\n",
    "        end\n",
    "    end\n",
    "end\n",
    "\n",
    "function push!(index :: Dict, ops :: Dict)\n",
    "    for key in keys(ops)\n",
    "        if haskey(index, key)\n",
    "            ts = index[key]\n",
    "            for t in ts\n",
    "                t.op = ops[key]\n",
    "            end\n",
    "        end\n",
    "    end\n",
    "end\n",
    "\n",
    "function push!(axiom :: Axiom, ops)\n",
    "    push!(axiom.index, variables)\n",
    "end\n",
    "\n",
    "function train!(axiom :: Axiom, variables, n = 1)\n",
    "    push!(axiom.index, variables)\n",
    "    init_tree!(axiom.tree1)\n",
    "    init_tree!(axiom.tree2)\n",
    "    d1 :: Array{Float64, 1} = axiom.tree1.value[:d]\n",
    "    d2 :: Array{Float64, 1} = axiom.tree2.value[:d]\n",
    "    v1 :: Array{Float64, 1} = axiom.tree1.value[:value]\n",
    "    v2 :: Array{Float64, 1} = axiom.tree2.value[:value]\n",
    "    for i in 1:n\n",
    "        eval_tree!(axiom.tree2)\n",
    "        eval_tree!(axiom.tree1)\n",
    "        for j in 1:length(d1)\n",
    "                d1[j] = v2[j] - v1[j]\n",
    "                d2[j] = -d1[j]\n",
    "        end\n",
    "        bp_tree!(axiom.tree1)\n",
    "        bp_tree!(axiom.tree2)\n",
    "    end\n",
    "end"
   ]
  },
  {
   "cell_type": "code",
   "execution_count": 10,
   "metadata": {
    "collapsed": false
   },
   "outputs": [
    {
     "data": {
      "text/plain": [
       "Axiom[[1, [2, 3]], 3]"
      ]
     },
     "execution_count": 10,
     "metadata": {},
     "output_type": "execute_result"
    }
   ],
   "source": [
    "Sensor = Class(\"Sensor\", 100)\n",
    "sensor = Object(\"sensor\", Sensor)\n",
    "Action = Class(\"Action\", 120)\n",
    "action = Object(\"action\", Action)\n",
    "act = DFunction(\"act\", [Sensor], Action)\n",
    "invact = DFunction(\"invact\", [Action], Sensor)\n",
    "axiom = Axiom([1, [2, 3]], 3)"
   ]
  },
  {
   "cell_type": "code",
   "execution_count": 11,
   "metadata": {
    "collapsed": false
   },
   "outputs": [],
   "source": [
    "## @time train!(axiom, [invact, act, sensor], 10000)\n",
    "train!(axiom, [invact, act, sensor], 10000)\n",
    "## @time foreach(i -> eval_tree!(axiom.tree1), 1:10000)\n",
    "maximum(abs(eval_tree!(axiom.tree2).value[:value] - eval_tree!(axiom.tree1).value[:value]))\n",
    "Profile.clear()\n",
    "@profile train!(axiom, [invact, act, sensor], 1000)\n",
    "## Profile.print()\n",
    "## Profile.print(format = :flat)"
   ]
  },
  {
   "cell_type": "code",
   "execution_count": 12,
   "metadata": {
    "collapsed": false
   },
   "outputs": [
    {
     "data": {
      "text/plain": [
       "Axiom[[Func(lambda){Variable,LambdaTerm->LambdaTerm}, v, [Func(app){LambdaTerm,LambdaTerm->LambdaTerm}, t, [Func(var2term){Variable->LambdaTerm}, v]]], t]"
      ]
     },
     "execution_count": 12,
     "metadata": {},
     "output_type": "execute_result"
    }
   ],
   "source": [
    "## Lambda Calculus\n",
    "\n",
    "Variable = Class(\"Variable\", 100)\n",
    "LambdaTerm = Class(\"LambdaTerm\", 200)\n",
    "var2term = DFunction(\"var2term\", [Variable], LambdaTerm)\n",
    "app = DFunction(\"app\", [LambdaTerm, LambdaTerm], LambdaTerm)\n",
    "lambda = DFunction(\"lambda\", [Variable, LambdaTerm], LambdaTerm)\n",
    "\n",
    "## substitution\n",
    "## t1 [x = t2]\n",
    "subs = DFunction(\"subs\", [LambdaTerm, Variable, LambdaTerm], LambdaTerm)\n",
    "## x[x := N]       ≡ N\n",
    "axiom_s1 = Axiom([subs, [var2term, :v], :v, :t], :t)\n",
    "## y[x := N]       ≡ y, if x ≠ y\n",
    "axiom_s2 = Axiom([subs, [var2term, :v1], :v2, :t], [var2term, :v1])\n",
    "## (M1 M2)[x := N] ≡ (M1[x := N]) (M2[x := N])\n",
    "axiom_s3 = Axiom([subs, [app, :t1, :t2], :v, :t], [app, [subs, :t1, :v, :t], [subs, :t2, :v, :t]])\n",
    "## (λx.M)[x := N]  ≡ λx.M\n",
    "axiom_s4 = Axiom([subs, [lambda, :v, :t1], :v, :t2], [lambda, :v, :t1])\n",
    "## (λy.M)[x := N]  ≡ λy.(M[x := N]), if x ≠ y, provided y ∉ FV(N)\n",
    "axiom_s5 = Axiom([subs, [lambda, :v1, :t1], :v2, :t2], [lambda, :v1, [subs, :t1, :v2, :t2]])\n",
    "\n",
    "## beta-reduction of  ((λV.E) E′)  is E[V := E′].\n",
    "axiom_beta = Axiom([app, [lambda, :v, :t], :t1], [subs, :t, :v, :t1])\n",
    "## eta-reduction\n",
    "axiom_eta = Axiom([lambda, :v, [app, :t, [var2term, :v]]], :t)"
   ]
  },
  {
   "cell_type": "code",
   "execution_count": 13,
   "metadata": {
    "collapsed": false
   },
   "outputs": [
    {
     "data": {
      "text/plain": [
       "Obj(t2){LambdaTerm}"
      ]
     },
     "execution_count": 13,
     "metadata": {},
     "output_type": "execute_result"
    }
   ],
   "source": [
    "dict = Dict()\n",
    "dict[:v] = Object(\"v\", Variable)\n",
    "dict[:v1] = Object(\"v1\", Variable)\n",
    "dict[:v2] = Object(\"v2\", Variable)\n",
    "dict[:t] = Object(\"t\", LambdaTerm)\n",
    "dict[:t1] = Object(\"t1\", LambdaTerm)\n",
    "dict[:t2] = Object(\"t2\", LambdaTerm)"
   ]
  },
  {
   "cell_type": "code",
   "execution_count": 14,
   "metadata": {
    "collapsed": false
   },
   "outputs": [],
   "source": [
    "## @time train!(axiom_s5, dict, 1000)\n",
    "train!(axiom_eta, dict, 1000)"
   ]
  },
  {
   "cell_type": "code",
   "execution_count": 15,
   "metadata": {
    "collapsed": false
   },
   "outputs": [
    {
     "data": {
      "text/plain": [
       "Pair"
      ]
     },
     "execution_count": 15,
     "metadata": {},
     "output_type": "execute_result"
    }
   ],
   "source": [
    "type Pair\n",
    "    class1 :: Class\n",
    "    class2 :: Class\n",
    "    pclass :: Class\n",
    "    \n",
    "    pair :: DFunction\n",
    "    first :: DFunction\n",
    "    second :: DFunction\n",
    "    first! :: DFunction\n",
    "    second! :: DFunction\n",
    "    \n",
    "    axiom_first :: Axiom\n",
    "    axiom_second :: Axiom\n",
    "    axiom_first! :: Axiom\n",
    "    axiom_second! :: Axiom\n",
    "end\n",
    "\n",
    "function Base.show(io :: IO, m :: Pair)\n",
    "    print(io, string(\"Module.Pair(\", m.class1.class_name, \",\", m.class2.class_name, \"->\", m.pclass.class_name, \")\"))\n",
    "end\n",
    "\n",
    "function Pair(class1 :: Class, class2 :: Class, pclass :: Class)\n",
    "    pair = DFunction(\"pair\", [class1, class2], pclass)\n",
    "    first = DFunction(\"first\", [pclass], class1)\n",
    "    second = DFunction(\"second\", [pclass], class2)\n",
    "    first! = DFunction(\"first!\", [pclass, class1], pclass)\n",
    "    second! = DFunction(\"second!\", [pclass, class2], pclass)\n",
    "    \n",
    "    axiom_first = Axiom([first, [pair, :x, :y]], :x)\n",
    "    axiom_second = Axiom([second, [pair, :x, :y]], :y)\n",
    "    axiom_first! = Axiom([first!, :xy, :x], [pair, :x, [second, :xy]])\n",
    "    axiom_second! = Axiom([second!, :xy, :y], [pair, [first, :xy], :y])\n",
    "    \n",
    "    Pair(class1, class2, pclass, pair, first, second, first!, second!, axiom_first, axiom_second, axiom_first!, axiom_second!)\n",
    "end\n",
    "\n",
    "function Pair(class1 :: Class, class2 :: Class, type_len :: Int64)\n",
    "    post_name = string(\"_\", class1.class_name, \"_\", class2.class_name)\n",
    "    pair_name = string(\"Pair\", post_name)\n",
    "    pclass = Class(pair_name, type_len)\n",
    "    Pair(class1, class2, pclass)\n",
    "end\n",
    "\n",
    "## @time p = Pair(Sensor, Action, 70)"
   ]
  },
  {
   "cell_type": "code",
   "execution_count": 16,
   "metadata": {
    "collapsed": false
   },
   "outputs": [
    {
     "data": {
      "text/plain": [
       "List"
      ]
     },
     "execution_count": 16,
     "metadata": {},
     "output_type": "execute_result"
    }
   ],
   "source": [
    "type List\n",
    "    class :: Class\n",
    "    lclass :: Class\n",
    "    \n",
    "    empty :: Object\n",
    "\n",
    "    cons :: DFunction\n",
    "    first :: DFunction\n",
    "    rest :: DFunction\n",
    "    first! :: DFunction\n",
    "    rest! :: DFunction\n",
    "    \n",
    "    axiom_first :: Axiom\n",
    "    axiom_rest :: Axiom\n",
    "    axiom_first! :: Axiom\n",
    "    axiom_rest! :: Axiom\n",
    "end\n",
    "\n",
    "function Base.show(io :: IO, m :: List)\n",
    "    print(io, string(\"Module.List(\", m.class.class_name, \"->\", m.lclass.class_name, \")\"))\n",
    "end\n",
    "\n",
    "function List(class :: Class, lclass :: Class)\n",
    "    empty = Object(\"empty\", lclass)\n",
    "    empty.value .= 0.\n",
    "    \n",
    "    cons = DFunction(\"cons\", [class, lclass], lclass)\n",
    "    first = DFunction(\"first\", [lclass], class)\n",
    "    rest = DFunction(\"rest\", [lclass], lclass)\n",
    "    first! = DFunction(\"first!\", [lclass, class], lclass)\n",
    "    rest! = DFunction(\"rest!\", [lclass, lclass], lclass)\n",
    "    \n",
    "    axiom_first = Axiom([first, [cons, :x, :xs]], :x)\n",
    "    axiom_rest = Axiom([rest, [cons, :x, :xs]], :xs)\n",
    "    axiom_first! = Axiom([first!, :xxs, :x], [cons, :x, [rest, :xxs]])\n",
    "    axiom_rest! = Axiom([rest!, :xxs, :xs], [cons, [first, :xxs], :xs])\n",
    "    \n",
    "    List(class, lclass, empty, cons, first, rest, first!, rest!, axiom_first, axiom_rest, axiom_first!, axiom_rest!)\n",
    "end\n",
    "\n",
    "function List(class :: Class, type_len :: Int64)\n",
    "    list_name = string(\"List\", \"_\", class.class_name)\n",
    "    lclass = Class(list_name, type_len)\n",
    "    List(class, lclass)\n",
    "end\n",
    "\n",
    "## @time l = List(Sensor, 70)"
   ]
  },
  {
   "cell_type": "code",
   "execution_count": 18,
   "metadata": {
    "collapsed": false
   },
   "outputs": [
    {
     "data": {
      "text/plain": [
       "Axiom[[Func(f_eval){Prog,Env->Prog}, [Func(cons){Prog,Prog->Prog}, p1, p2], e], [Func(f_eval){Prog,Env->Prog}, p2, [Func(eval){Prog,Env->Env}, p1, e]]]"
      ]
     },
     "execution_count": 18,
     "metadata": {},
     "output_type": "execute_result"
    }
   ],
   "source": [
    "## Binding, Frame and Environment\n",
    "\n",
    "Variable = Class(\"Variable\", 100)\n",
    "Prog = Class(\"Prog\", 100)\n",
    "Bindingc = Class(\"Binding\", 100)\n",
    "Binding = Pair(Variable, Prog, Bindingc)\n",
    "Framec = Class(\"Frame\", 100)\n",
    "Frame = List(Bindingc, Framec)\n",
    "Envc = Class(\"Env\", 200)\n",
    "Env = List(Framec, Envc)\n",
    "\n",
    "lookup = DFunction(\"lookup\", [Envc, Variable], Prog)\n",
    "axiom_lookup1 = Axiom([lookup, [Env.cons, [Frame.cons, [Binding.pair, :v1, :t1], :f2], :e2], :v1], :t1)\n",
    "axiom_lookup2 = Axiom([lookup, [Env.cons, [Frame.cons, [Binding.pair, :v1, :t1], :f2], :e2], :v2], \n",
    "                      [lookup, [Env.cons, :f2, :e2], :v2])\n",
    "axiom_lookup3 = Axiom([lookup, [Env.cons, Frame.empty, :e2], :v1], [lookup, :e2, :v1])\n",
    "\n",
    "set = DFunction(\"set\", [Envc, Variable, Prog], Envc)\n",
    "axiom_set1 = Axiom([set, [Env.cons, [Frame.cons, [Binding.pair, :v1, :t1], :f2], :e2], :v1, :t2], \n",
    "                   [Env.cons, [Frame.cons, [Binding.pair, :v1, :t2], :f2], :e2])\n",
    "axiom_set2 = Axiom([set, [Env.cons, [Frame.cons, [Binding.pair, :v1, :t1], :f2], :e2], :v2, :t2], \n",
    "                   [Env.cons, [Frame.cons, [Binding.pair, :v1, :t1], \n",
    "                                           [Env.first, [set, [Env.cons, :f2, :e2], :v2, :t2]]], \n",
    "                              [Env.rest, [set, [Env.cons, :f2, :e2], :v2, :t2]]])\n",
    "axiom_set3 = Axiom([set, [Env.cons, Frame.empty, :e], :v, :p], [Env.cons, Frame.empty, [set, :e, :v, :p]])\n",
    "\n",
    "add_binding = DFunction(\"add_binding\", [Framec, Variable, Prog], Framec)\n",
    "axiom_add_binding = Axiom([add_binding, :f, :v, :p], [Frame.cons, [Binding.pair, :v, :p], :f])\n",
    "def = DFunction(\"def\", [Envc, Variable, Prog], Envc)\n",
    "axiom_def = Axiom([def, :e, :v, :p], [Env.first!, :e, [add_binding, [Env.first, :e], :v, :p]])\n",
    "extend = DFunction(\"extend\", [Envc, Variable, Prog], Envc)\n",
    "axiom_extend = Axiom([extend, :e, :v, :p], [def, [Env.cons, Env.empty, :e], :v, :p])\n",
    "\n",
    "var = DFunction(\"var\", [Variable], Prog)\n",
    "definition = DFunction(\"definition\", [Variable, Prog], Prog) \n",
    "assignment = DFunction(\"assignment\", [Variable, Prog], Prog) \n",
    "procedure = DFunction(\"procedure\", [Variable, Prog], Prog)\n",
    "func_call = DFunction(\"func_call\", [Prog, Prog], Prog)\n",
    "Seq = List(Prog, Prog)\n",
    "\n",
    "f_eval = DFunction(\"f_eval\", [Prog, Envc], Prog)\n",
    "s_eval = DFunction(\"eval\", [Prog, Envc], Envc)\n",
    "\n",
    "axiom_var_s = Axiom([s_eval, [var, :v], :e], :e)\n",
    "axiom_var_f = Axiom([f_eval, [var, :v], :e], [lookup, :e, :v])\n",
    "axiom_definition_s = Axiom([s_eval, [definition, :v, :p], :e], [def, [s_eval, :p, :e], :v, [f_eval, :p, :e]])\n",
    "axiom_definition_f = Axiom([f_eval, [definition, :v, :p], :e], [f_eval, :p, :e])\n",
    "axiom_assignment_s = Axiom([s_eval, [assignment, :v, :p], :e], [set, [s_eval, :p, :e], :v, [f_eval, :p, :e]])\n",
    "axiom_assignment_f = Axiom([f_eval, [assignment, :v, :p], :e], [f_eval, :p, :e])\n",
    "axiom_proc_s = Axiom([s_eval, [procedure, :v, :p], :e], :e)\n",
    "axiom_proc_f = Axiom([f_eval, [procedure, :v, :p], :e], [procedure, :v, :p])\n",
    "axiom_func_s1 = Axiom([s_eval, [func_call, :p1, :p2], :e], [s_eval, [func_call, [f_eval, :p1, :e], [f_eval, :p2, :e]], :e])\n",
    "axiom_func_f1 = Axiom([f_eval, [func_call, :p1, :p2], :e], [f_eval, [func_call, [f_eval, :p1, :e], [f_eval, :p2, :e]], :e])\n",
    "axiom_func_s2 = Axiom([s_eval, [func_call, [procedure, :v, :p1], :p2], :e], [Env.rest, [s_eval, :p1, [extend, :e, :v, :p2]]])\n",
    "axiom_func_f2 = Axiom([f_eval, [func_call, [procedure, :v, :p1], :p2], :e], [f_eval, :p1, [extend, :e, :v, :p2]])\n",
    "axiom_seq_s = Axiom([s_eval, [Seq.cons, :p1, :p2], :e], [s_eval, :p2, [s_eval, :p1, :e]])\n",
    "axiom_seq_f = Axiom([f_eval, [Seq.cons, :p1, :p2], :e], [f_eval, :p2, [s_eval, :p1, :e]])"
   ]
  },
  {
   "cell_type": "code",
   "execution_count": null,
   "metadata": {
    "collapsed": true
   },
   "outputs": [],
   "source": []
  }
 ],
 "metadata": {
  "anaconda-cloud": {},
  "kernelspec": {
   "display_name": "Julia 0.5.0",
   "language": "julia",
   "name": "julia-0.5"
  },
  "language_info": {
   "file_extension": ".jl",
   "mimetype": "application/julia",
   "name": "julia",
   "version": "0.5.0"
  }
 },
 "nbformat": 4,
 "nbformat_minor": 1
}
