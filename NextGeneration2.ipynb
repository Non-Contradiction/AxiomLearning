{
 "cells": [
  {
   "cell_type": "code",
   "execution_count": 1,
   "metadata": {
    "collapsed": false
   },
   "outputs": [
    {
     "data": {
      "text/plain": [
       "Transformation(identity,one)"
      ]
     },
     "execution_count": 1,
     "metadata": {},
     "output_type": "execute_result"
    }
   ],
   "source": [
    "immutable Transformation\n",
    "    self :: Function\n",
    "    deriv :: Function\n",
    "end\n",
    "\n",
    "import Core.eval\n",
    "\n",
    "function eval(transformation :: Transformation)\n",
    "    transformation.self\n",
    "end\n",
    "\n",
    "function deriv(transformation :: Transformation)\n",
    "    transformation.deriv\n",
    "end\n",
    "\n",
    "function sigmoid(x)\n",
    "        1. / (1. + exp(-x)) - 0.5\n",
    "end\n",
    "\n",
    "function dsigmoid(x)\n",
    "    exp(-x) / (1. + exp(-x)) ^ 2\n",
    "end\n",
    "\n",
    "const Sigmoid = Transformation(sigmoid, dsigmoid)\n",
    "\n",
    "const Identity = Transformation(identity, one) "
   ]
  },
  {
   "cell_type": "code",
   "execution_count": 2,
   "metadata": {
    "collapsed": false
   },
   "outputs": [
    {
     "data": {
      "text/plain": [
       "apply! (generic function with 1 method)"
      ]
     },
     "execution_count": 2,
     "metadata": {},
     "output_type": "execute_result"
    }
   ],
   "source": [
    "function calc_norm(array :: Matrix{Float64})\n",
    "  sqrt(sumabs2(array) / size(array, 1))\n",
    "end\n",
    "\n",
    "function calc_norm(vector :: Array{Float64, 1})\n",
    "  sqrt(sumabs2(vector))\n",
    "end\n",
    "\n",
    "function restriction(vector)\n",
    "  vector / (calc_norm(vector) + 0.001)\n",
    "end\n",
    "\n",
    "function init(a...)\n",
    "    restriction(randn(a...))\n",
    "end\n",
    "\n",
    "const DefaultRate = 0.01\n",
    "\n",
    "immutable Class\n",
    "    class_name :: String\n",
    "    type_len :: Int64\n",
    "end\n",
    "\n",
    "type Object\n",
    "    class :: Class\n",
    "    value :: Array{Float64, 1}\n",
    "end\n",
    "\n",
    "Object(class :: Class) = Object(class, init(class.type_len))\n",
    "\n",
    "type DFunction\n",
    "    in_classes :: Array{Class, 1}\n",
    "    out_class :: Class\n",
    "    f_matrix :: Matrix{Float64}\n",
    "    f_transformation :: Transformation\n",
    "    learning_rate :: Float64\n",
    "end\n",
    "\n",
    "function LFunction(in_classes :: Array{Class, 1}, out_class :: Class, learning_rate = DefaultRate)\n",
    "    in_len = sum([class.type_len for class in in_classes])\n",
    "    out_len = out_class.type_len\n",
    "    DFunction(in_classes, out_class, init(out_len, in_len), Identity, learning_rate)\n",
    "end\n",
    "\n",
    "function SFunction(in_classes :: Array{Class, 1}, out_class :: Class, learning_rate = DefaultRate)\n",
    "    in_len = sum([class.type_len for class in in_classes])\n",
    "    out_len = out_class.type_len\n",
    "    DFunction(in_classes, out_class, init(out_len, in_len), Sigmoid, learning_rate)\n",
    "end\n",
    "\n",
    "function DFunction(in_classes :: Array{Class, 1}, out_class :: Class, f_transformation = Sigmoid, learning_rate = DefaultRate)\n",
    "    in_len = sum([class.type_len for class in in_classes])\n",
    "    out_len = out_class.type_len\n",
    "    DFunction(in_classes, out_class, init(out_len, in_len), f_transformation, learning_rate)\n",
    "end\n",
    "\n",
    "function CoFunction(in_class :: Class, f_transformation = Sigmoid)\n",
    "    DFunction([in_class], in_class, diagm(ones(in_class.type_len)), f_transformation, 0.0)\n",
    "end\n",
    "\n",
    "function apply(func :: DFunction, objs :: Array{Object, 1})\n",
    "    inputs = vcat([obj.value for obj in objs]...)\n",
    "    outputs = eval(func.f_transformation).(func.f_matrix * inputs)\n",
    "    Object(func.out_class, outputs)\n",
    "end\n",
    "\n",
    "function apply!(func :: DFunction, in_objs :: Array{Object, 1}, out_obj :: Object)\n",
    "    inputs = vcat([obj.value for obj in in_objs]...)\n",
    "    out_obj.value .= eval(func.f_transformation).(func.f_matrix * inputs)\n",
    "end"
   ]
  },
  {
   "cell_type": "code",
   "execution_count": 3,
   "metadata": {
    "collapsed": false
   },
   "outputs": [
    {
     "data": {
      "text/plain": [
       "Object(Class(\"Action\",120),[-0.00989273,0.000711335,-0.00982096,0.00317703,-0.00214918,0.00346893,-0.00395179,0.00698046,0.0223216,0.0441083  …  -0.0324586,0.0257685,-0.0154239,-0.013352,-0.0244933,0.0394573,-0.000261382,0.0380902,0.00641128,-0.0030648])"
      ]
     },
     "execution_count": 3,
     "metadata": {},
     "output_type": "execute_result"
    }
   ],
   "source": [
    "Sensor = Class(\"Sensor\", 100)\n",
    "sensor = Object(Sensor)\n",
    "Action = Class(\"Action\", 120)\n",
    "action = Object(Action)\n",
    "act = DFunction([Sensor, Sensor, Action], Action)\n",
    "apply(act, [sensor, sensor, action])"
   ]
  },
  {
   "cell_type": "code",
   "execution_count": 4,
   "metadata": {
    "collapsed": false
   },
   "outputs": [
    {
     "data": {
      "text/plain": [
       "bottom_up (generic function with 1 method)"
      ]
     },
     "execution_count": 4,
     "metadata": {},
     "output_type": "execute_result"
    }
   ],
   "source": [
    "type Tree\n",
    "    op\n",
    "    value\n",
    "    subtrees :: Array{Tree, 1}\n",
    "end\n",
    "\n",
    "function _bottom_up(func :: Function, tree :: Tree, dict :: Dict)\n",
    "    function f()\n",
    "        func(tree, [_bottom_up(func, t, dict) for t in tree.subtrees])\n",
    "    end\n",
    "    get!(f, dict, tree)\n",
    "end\n",
    "\n",
    "## bottom_up(func :: Function, tree :: Tree) = _bottom_up(func, tree, Dict())\n",
    "\n",
    "function bottom_up(func :: Function, tree :: Tree)\n",
    "    func(tree, [bottom_up(func, t) for t in tree.subtrees])\n",
    "end"
   ]
  },
  {
   "cell_type": "code",
   "execution_count": 5,
   "metadata": {
    "collapsed": false
   },
   "outputs": [
    {
     "data": {
      "text/plain": [
       "eval_tree! (generic function with 1 method)"
      ]
     },
     "execution_count": 5,
     "metadata": {},
     "output_type": "execute_result"
    }
   ],
   "source": [
    "function lens_split(x :: Array, lens :: Array{Int64, 1})\n",
    "    ind = cumsum(lens)\n",
    "    n = length(ind)\n",
    "    ind = [0; ind]\n",
    "    [view(x, (ind[i]+1):ind[i+1]) for i in 1:n]\n",
    "end\n",
    "\n",
    "function init_node!(op :: Object, value :: Dict)\n",
    "    value[:value] = Array{Float64, 1}(op.class.type_len)\n",
    "    value[:d] = Array{Float64, 1}(op.class.type_len)\n",
    "end\n",
    "\n",
    "function init_node!(op :: DFunction, value :: Dict)\n",
    "    value[:pre_matrix] = Array{Float64, 1}(size(op.f_matrix, 2))\n",
    "    value[:pre_transform] = Array{Float64, 1}(op.out_class.type_len)\n",
    "    value[:value] = Array{Float64, 1}(op.out_class.type_len)\n",
    "    value[:inputs] = lens_split(value[:pre_matrix], [c.type_len for c in op.in_classes])\n",
    "    value[:d] = Array{Float64, 1}(op.out_class.type_len)\n",
    "    value[:pre_transform_d] = Array{Float64, 1}(op.out_class.type_len)\n",
    "    value[:pre_matrix_d] = Array{Float64, 1}(size(op.f_matrix, 2))\n",
    "    value[:input_ds] = lens_split(value[:pre_matrix_d], [c.type_len for c in op.in_classes])\n",
    "end\n",
    "\n",
    "function _init_tree!(tree :: Tree, _)\n",
    "    init_node!(tree.op, tree.value)\n",
    "    tree\n",
    "end\n",
    "    \n",
    "function init_tree!(tree :: Tree)\n",
    "    bottom_up(_init_tree!, tree)\n",
    "end\n",
    "\n",
    "function eval_node!(op :: Object, value :: Dict, value_list)\n",
    "    value[:value] .= op.value\n",
    "end\n",
    "\n",
    "function eval_node!(op :: DFunction, value :: Dict, value_list)\n",
    "    i = 1\n",
    "    for v in value_list\n",
    "        value[:inputs][i] .= v[:value]\n",
    "        i += 1\n",
    "    end\n",
    "    ## value[:pre_matrix] .= vcat([v[:post_feature] for v in value_list]...)\n",
    "    A_mul_B!(value[:pre_transform], op.f_matrix, value[:pre_matrix])\n",
    "    value[:value] .= eval(op.f_transformation).(value[:pre_transform])\n",
    "end\n",
    "\n",
    "function _eval_tree!(tree :: Tree, _)\n",
    "    eval_node!(tree.op, tree.value, (t.value for t in tree.subtrees))\n",
    "    tree\n",
    "end\n",
    "    \n",
    "## function eval_tree!(tree :: Tree)\n",
    "##     bottom_up(_eval_tree!, tree)\n",
    "## end\n",
    "    \n",
    "function eval_tree!(tree :: Tree)\n",
    "    foreach(eval_tree!, tree.subtrees)\n",
    "    eval_node!(tree.op, tree.value, (t.value for t in tree.subtrees))\n",
    "    tree\n",
    "end"
   ]
  },
  {
   "cell_type": "code",
   "execution_count": 6,
   "metadata": {
    "collapsed": false
   },
   "outputs": [
    {
     "data": {
      "text/plain": [
       "120-element Array{Float64,1}:\n",
       " 0.0\n",
       " 0.0\n",
       " 0.0\n",
       " 0.0\n",
       " 0.0\n",
       " 0.0\n",
       " 0.0\n",
       " 0.0\n",
       " 0.0\n",
       " 0.0\n",
       " 0.0\n",
       " 0.0\n",
       " 0.0\n",
       " ⋮  \n",
       " 0.0\n",
       " 0.0\n",
       " 0.0\n",
       " 0.0\n",
       " 0.0\n",
       " 0.0\n",
       " 0.0\n",
       " 0.0\n",
       " 0.0\n",
       " 0.0\n",
       " 0.0\n",
       " 0.0"
      ]
     },
     "execution_count": 6,
     "metadata": {},
     "output_type": "execute_result"
    }
   ],
   "source": [
    "Sensor = Class(\"Sensor\", 100)\n",
    "sensor = Object(Sensor)\n",
    "Action = Class(\"Action\", 120)\n",
    "action = Object(Action)\n",
    "act = DFunction([Sensor, Action], Action)\n",
    "tree = Tree(act, Dict(), [Tree(sensor, Dict(), []), Tree(action, Dict(), [])])\n",
    "init_tree!(tree)\n",
    "eval_tree!(tree).value[:value] - apply(act, [sensor, action]).value"
   ]
  },
  {
   "cell_type": "code",
   "execution_count": 7,
   "metadata": {
    "collapsed": false
   },
   "outputs": [
    {
     "data": {
      "text/plain": [
       "bp_tree! (generic function with 1 method)"
      ]
     },
     "execution_count": 7,
     "metadata": {},
     "output_type": "execute_result"
    }
   ],
   "source": [
    "function bp_transformation!(transformation, inputs, d, new_d)\n",
    "    new_d .= deriv(transformation).(inputs)\n",
    "    for i in 1:length(d)\n",
    "        new_d[i] *= d[i]\n",
    "    end\n",
    "end\n",
    "\n",
    "function bp_matrix!(inputs, matrix, d, step, new_d)\n",
    "    ## step = 0.01\n",
    "    ## dmatrix = reshape(d, (length(d), 1)) * reshape(inputs, (1, length(inputs)))\n",
    "    ## matrix[:, :] += step * reshape(d, (length(d), 1)) * reshape(inputs, (1, length(inputs)))\n",
    "    for j in 1:size(matrix, 2)\n",
    "        new_d[j] = 0.0\n",
    "        for i in 1:size(matrix, 1)\n",
    "            matrix[i, j] += step * d[i] * inputs[j]\n",
    "            new_d[j] += matrix[i, j] * d[i]\n",
    "        end\n",
    "    end\n",
    "end\n",
    "\n",
    "function bp_function!(op :: DFunction, value :: Dict)\n",
    "    bp_transformation!(op.f_transformation, value[:pre_transform], value[:d], value[:pre_transform_d])\n",
    "    bp_matrix!(value[:pre_matrix], op.f_matrix, value[:pre_transform_d], op.learning_rate, value[:pre_matrix_d])\n",
    "end\n",
    "\n",
    "function bp_tree!(tree :: Tree)\n",
    "    if typeof(tree.op) == DFunction\n",
    "        bp_function!(tree.op, tree.value)\n",
    "        for i in 1:length(tree.subtrees)\n",
    "            tree.subtrees[i].value[:d] .= tree.value[:input_ds][i]\n",
    "            bp_tree!(tree.subtrees[i])\n",
    "        end\n",
    "        ## ds = lens_split(d, [c.feature_len for c in tree.op.in_classes])\n",
    "        ## for i in 1:length(tree.subtrees)\n",
    "        ##     bp_tree!(tree.subtrees[i], tree.value[:ds][i])\n",
    "        ## end\n",
    "        ## dds = map(bp_class!, tree.op.in_classes, [t.value for t in tree.subtrees], tree.value[:ds])\n",
    "        ## foreach(bp_tree!, tree.subtrees, dds)\n",
    "    end\n",
    "end"
   ]
  },
  {
   "cell_type": "code",
   "execution_count": 8,
   "metadata": {
    "collapsed": false
   },
   "outputs": [
    {
     "data": {
      "text/plain": [
       "0.5199747764908644"
      ]
     },
     "execution_count": 8,
     "metadata": {},
     "output_type": "execute_result"
    }
   ],
   "source": [
    "Sensor = Class(\"Sensor\", 100)\n",
    "sensor = Object(Sensor)\n",
    "Action = Class(\"Action\", 120)\n",
    "action = Object(Action)\n",
    "act = DFunction([Sensor, Action], Action)\n",
    "tree = Tree(act, Dict(), [Tree(sensor, Dict(), []), Tree(action, Dict(), [])])\n",
    "init_tree!(tree)\n",
    "d = ones(length(eval_tree!(tree).value[:value])) - eval_tree!(tree).value[:value]\n",
    "for i in 1:5000\n",
    "    tree.value[:d] .= ones(length(eval_tree!(tree).value[:value])) - eval_tree!(tree).value[:value]\n",
    "    bp_tree!(tree)\n",
    "end\n",
    "maximum(abs(ones(length(eval_tree!(tree).value[:value])) - eval_tree!(tree).value[:value]))"
   ]
  },
  {
   "cell_type": "code",
   "execution_count": 9,
   "metadata": {
    "collapsed": false
   },
   "outputs": [
    {
     "data": {
      "text/plain": [
       "train! (generic function with 2 methods)"
      ]
     },
     "execution_count": 9,
     "metadata": {},
     "output_type": "execute_result"
    }
   ],
   "source": [
    "function toTree(op)\n",
    "    Tree(op, Dict(), [])\n",
    "end\n",
    "\n",
    "function toTree(skeleton :: Array)\n",
    "    op = skeleton[1]\n",
    "    subs = skeleton[2:end]\n",
    "    Tree(op, Dict(), [toTree(s) for s in subs])\n",
    "end\n",
    "\n",
    "function add!(dict :: Dict, dict1 :: Dict)\n",
    "    for key in keys(dict1)\n",
    "        dict[key] = vcat(get!(dict, key, []), dict1[key])\n",
    "    end\n",
    "    dict\n",
    "end\n",
    "\n",
    "function _index(tree :: Tree, inds :: Array)\n",
    "    ind = Dict{Any, Any}(tree.op => [tree])\n",
    "    for ind1 in inds\n",
    "        add!(ind, ind1)\n",
    "    end\n",
    "    ind\n",
    "end\n",
    "\n",
    "index(tree :: Tree) = bottom_up(_index, tree)\n",
    "\n",
    "type Axiom\n",
    "    tree1 :: Tree\n",
    "    tree2 :: Tree\n",
    "    index :: Dict\n",
    "end\n",
    "\n",
    "Axiom(tree1 :: Tree, tree2 :: Tree) = Axiom(tree1, tree2, add!(index(tree1), index(tree2)))\n",
    "\n",
    "Axiom(skeleton1, skeleton2) = Axiom(toTree(skeleton1), toTree(skeleton2))\n",
    "\n",
    "function push!(index :: Dict, ops :: Array)\n",
    "    n = length(ops)\n",
    "    for i in 1:n\n",
    "        for t in index[i]\n",
    "            t.op = ops[i]\n",
    "        end\n",
    "    end\n",
    "end\n",
    "\n",
    "function push!(index :: Dict, ops :: Dict)\n",
    "    for key in keys(ops)\n",
    "        if haskey(index, key)\n",
    "            ts = index[key]\n",
    "            for t in ts\n",
    "                t.op = ops[key]\n",
    "            end\n",
    "        end\n",
    "    end\n",
    "end\n",
    "\n",
    "function push!(axiom :: Axiom, ops)\n",
    "    push!(axiom.index, variables)\n",
    "end\n",
    "\n",
    "function train!(axiom :: Axiom, variables, n = 1)\n",
    "    push!(axiom.index, variables)\n",
    "    init_tree!(axiom.tree1)\n",
    "    init_tree!(axiom.tree2)\n",
    "    d1 :: Array{Float64, 1} = axiom.tree1.value[:d]\n",
    "    d2 :: Array{Float64, 1} = axiom.tree2.value[:d]\n",
    "    v1 :: Array{Float64, 1} = axiom.tree1.value[:value]\n",
    "    v2 :: Array{Float64, 1} = axiom.tree2.value[:value]\n",
    "    for i in 1:n\n",
    "        eval_tree!(axiom.tree2)\n",
    "        eval_tree!(axiom.tree1)\n",
    "        for j in 1:length(d1)\n",
    "                d1[j] = v2[j] - v1[j]\n",
    "                d2[j] = -d1[j]\n",
    "        end\n",
    "        bp_tree!(axiom.tree1)\n",
    "        bp_tree!(axiom.tree2)\n",
    "    end\n",
    "end"
   ]
  },
  {
   "cell_type": "code",
   "execution_count": 10,
   "metadata": {
    "collapsed": false
   },
   "outputs": [
    {
     "data": {
      "text/plain": [
       "Axiom(Tree(1,Dict{Any,Any}(),Tree[Tree(2,Dict{Any,Any}(),Tree[Tree(3,Dict{Any,Any}(),Tree[])])]),Tree(3,Dict{Any,Any}(),Tree[]),Dict{Any,Any}(Pair{Any,Any}(2,Any[Tree(2,Dict{Any,Any}(),Tree[Tree(3,Dict{Any,Any}(),Tree[])])]),Pair{Any,Any}(3,Any[Tree(3,Dict{Any,Any}(),Tree[]),Tree(3,Dict{Any,Any}(),Tree[])]),Pair{Any,Any}(1,Tree[Tree(1,Dict{Any,Any}(),Tree[Tree(2,Dict{Any,Any}(),Tree[Tree(3,Dict{Any,Any}(),Tree[])])])])))"
      ]
     },
     "execution_count": 10,
     "metadata": {},
     "output_type": "execute_result"
    }
   ],
   "source": [
    "Sensor = Class(\"Sensor\", 100)\n",
    "sensor = Object(Sensor)\n",
    "Action = Class(\"Action\", 120)\n",
    "action = Object(Action)\n",
    "act = DFunction([Sensor], Action)\n",
    "invact = DFunction([Action], Sensor)\n",
    "axiom = Axiom([1, [2, 3]], 3)"
   ]
  },
  {
   "cell_type": "code",
   "execution_count": 11,
   "metadata": {
    "collapsed": false
   },
   "outputs": [
    {
     "name": "stdout",
     "output_type": "stream",
     "text": [
      "  1.979595 seconds (212.49 k allocations: 4.385 MB, 0.63% gc time)\n",
      "  0.289891 seconds (91.39 k allocations: 1.437 MB)\n"
     ]
    }
   ],
   "source": [
    "@time train!(axiom, [invact, act, sensor], 10000)\n",
    "@time foreach(i -> eval_tree!(axiom.tree1), 1:10000)\n",
    "maximum(abs(eval_tree!(axiom.tree2).value[:value] - eval_tree!(axiom.tree1).value[:value]))\n",
    "Profile.clear()\n",
    "@profile train!(axiom, [invact, act, sensor], 1000)\n",
    "## Profile.print()\n",
    "## Profile.print(format = :flat)"
   ]
  },
  {
   "cell_type": "code",
   "execution_count": 12,
   "metadata": {
    "collapsed": false
   },
   "outputs": [
    {
     "data": {
      "text/plain": [
       "Axiom(Tree(DFunction(Class[Class(\"Variable\",100),Class(\"LambdaTerm\",200)],Class(\"LambdaTerm\",200),[-0.0135713 -0.0111923 … -0.0475288 0.102797; 0.0159264 0.0285803 … 0.0673325 -0.0282245; … ; 0.0428357 -0.0668975 … 0.0351212 -0.0688542; 0.0429872 -0.0919481 … 0.00540028 -0.00327438],Transformation(sigmoid,dsigmoid),0.01),Dict{Any,Any}(),Tree[Tree(:v,Dict{Any,Any}(),Tree[]),Tree(DFunction(Class[Class(\"LambdaTerm\",200),Class(\"LambdaTerm\",200)],Class(\"LambdaTerm\",200),[0.078969 0.00264338 … 0.0609423 -0.0125844; -0.0510452 0.00293141 … -0.0263179 -0.0278305; … ; 0.00854411 -0.0566449 … 0.0751089 -0.0558558; -0.031944 0.00303537 … -0.0122896 0.0392358],Transformation(sigmoid,dsigmoid),0.01),Dict{Any,Any}(),Tree[Tree(:t,Dict{Any,Any}(),Tree[]),Tree(DFunction(Class[Class(\"Variable\",100)],Class(\"LambdaTerm\",200),[-0.258278 0.17852 … 0.0488142 0.196751; 0.00900318 -0.0114557 … -0.0845612 -0.0305385; … ; -0.0230711 0.064504 … -0.00179347 -0.215298; 0.0606277 -0.0363926 … -0.0761296 0.0305013],Transformation(sigmoid,dsigmoid),0.01),Dict{Any,Any}(),Tree[Tree(:v,Dict{Any,Any}(),Tree[])])])]),Tree(:t,Dict{Any,Any}(),Tree[]),Dict{Any,Any}(Pair{Any,Any}(DFunction(Class[Class(\"LambdaTerm\",200),Class(\"LambdaTerm\",200)],Class(\"LambdaTerm\",200),[0.078969 0.00264338 … 0.0609423 -0.0125844; -0.0510452 0.00293141 … -0.0263179 -0.0278305; … ; 0.00854411 -0.0566449 … 0.0751089 -0.0558558; -0.031944 0.00303537 … -0.0122896 0.0392358],Transformation(sigmoid,dsigmoid),0.01),Any[Tree(DFunction(Class[Class(\"LambdaTerm\",200),Class(\"LambdaTerm\",200)],Class(\"LambdaTerm\",200),[0.078969 0.00264338 … 0.0609423 -0.0125844; -0.0510452 0.00293141 … -0.0263179 -0.0278305; … ; 0.00854411 -0.0566449 … 0.0751089 -0.0558558; -0.031944 0.00303537 … -0.0122896 0.0392358],Transformation(sigmoid,dsigmoid),0.01),Dict{Any,Any}(),Tree[Tree(:t,Dict{Any,Any}(),Tree[]),Tree(DFunction(Class[Class(\"Variable\",100)],Class(\"LambdaTerm\",200),[-0.258278 0.17852 … 0.0488142 0.196751; 0.00900318 -0.0114557 … -0.0845612 -0.0305385; … ; -0.0230711 0.064504 … -0.00179347 -0.215298; 0.0606277 -0.0363926 … -0.0761296 0.0305013],Transformation(sigmoid,dsigmoid),0.01),Dict{Any,Any}(),Tree[Tree(:v,Dict{Any,Any}(),Tree[])])])]),Pair{Any,Any}(:v,Any[Tree(:v,Dict{Any,Any}(),Tree[]),Tree(:v,Dict{Any,Any}(),Tree[])]),Pair{Any,Any}(:t,Any[Tree(:t,Dict{Any,Any}(),Tree[]),Tree(:t,Dict{Any,Any}(),Tree[])]),Pair{Any,Any}(DFunction(Class[Class(\"Variable\",100),Class(\"LambdaTerm\",200)],Class(\"LambdaTerm\",200),[-0.0135713 -0.0111923 … -0.0475288 0.102797; 0.0159264 0.0285803 … 0.0673325 -0.0282245; … ; 0.0428357 -0.0668975 … 0.0351212 -0.0688542; 0.0429872 -0.0919481 … 0.00540028 -0.00327438],Transformation(sigmoid,dsigmoid),0.01),Tree[Tree(DFunction(Class[Class(\"Variable\",100),Class(\"LambdaTerm\",200)],Class(\"LambdaTerm\",200),[-0.0135713 -0.0111923 … -0.0475288 0.102797; 0.0159264 0.0285803 … 0.0673325 -0.0282245; … ; 0.0428357 -0.0668975 … 0.0351212 -0.0688542; 0.0429872 -0.0919481 … 0.00540028 -0.00327438],Transformation(sigmoid,dsigmoid),0.01),Dict{Any,Any}(),Tree[Tree(:v,Dict{Any,Any}(),Tree[]),Tree(DFunction(Class[Class(\"LambdaTerm\",200),Class(\"LambdaTerm\",200)],Class(\"LambdaTerm\",200),[0.078969 0.00264338 … 0.0609423 -0.0125844; -0.0510452 0.00293141 … -0.0263179 -0.0278305; … ; 0.00854411 -0.0566449 … 0.0751089 -0.0558558; -0.031944 0.00303537 … -0.0122896 0.0392358],Transformation(sigmoid,dsigmoid),0.01),Dict{Any,Any}(),Tree[Tree(:t,Dict{Any,Any}(),Tree[]),Tree(DFunction(Class[Class(\"Variable\",100)],Class(\"LambdaTerm\",200),[-0.258278 0.17852 … 0.0488142 0.196751; 0.00900318 -0.0114557 … -0.0845612 -0.0305385; … ; -0.0230711 0.064504 … -0.00179347 -0.215298; 0.0606277 -0.0363926 … -0.0761296 0.0305013],Transformation(sigmoid,dsigmoid),0.01),Dict{Any,Any}(),Tree[Tree(:v,Dict{Any,Any}(),Tree[])])])])]),Pair{Any,Any}(DFunction(Class[Class(\"Variable\",100)],Class(\"LambdaTerm\",200),[-0.258278 0.17852 … 0.0488142 0.196751; 0.00900318 -0.0114557 … -0.0845612 -0.0305385; … ; -0.0230711 0.064504 … -0.00179347 -0.215298; 0.0606277 -0.0363926 … -0.0761296 0.0305013],Transformation(sigmoid,dsigmoid),0.01),Any[Tree(DFunction(Class[Class(\"Variable\",100)],Class(\"LambdaTerm\",200),[-0.258278 0.17852 … 0.0488142 0.196751; 0.00900318 -0.0114557 … -0.0845612 -0.0305385; … ; -0.0230711 0.064504 … -0.00179347 -0.215298; 0.0606277 -0.0363926 … -0.0761296 0.0305013],Transformation(sigmoid,dsigmoid),0.01),Dict{Any,Any}(),Tree[Tree(:v,Dict{Any,Any}(),Tree[])])])))"
      ]
     },
     "execution_count": 12,
     "metadata": {},
     "output_type": "execute_result"
    }
   ],
   "source": [
    "## Lambda Calculus\n",
    "\n",
    "Variable = Class(\"Variable\", 100)\n",
    "LambdaTerm = Class(\"LambdaTerm\", 200)\n",
    "var2term = DFunction([Variable], LambdaTerm)\n",
    "app = DFunction([LambdaTerm, LambdaTerm], LambdaTerm)\n",
    "lambda = DFunction([Variable, LambdaTerm], LambdaTerm)\n",
    "\n",
    "## substitution\n",
    "## t1 [x = t2]\n",
    "subs = DFunction([LambdaTerm, Variable, LambdaTerm], LambdaTerm)\n",
    "## x[x := N]       ≡ N\n",
    "axiom_s1 = Axiom([subs, [var2term, :v], :v, :t], :t)\n",
    "## y[x := N]       ≡ y, if x ≠ y\n",
    "axiom_s2 = Axiom([subs, [var2term, :v1], :v2, :t], [var2term, :v1])\n",
    "## (M1 M2)[x := N] ≡ (M1[x := N]) (M2[x := N])\n",
    "axiom_s3 = Axiom([subs, [app, :t1, :t2], :v, :t], [app, [subs, :t1, :v, :t], [subs, :t2, :v, :t]])\n",
    "## (λx.M)[x := N]  ≡ λx.M\n",
    "axiom_s4 = Axiom([subs, [lambda, :v, :t1], :v, :t2], [lambda, :v, :t1])\n",
    "## (λy.M)[x := N]  ≡ λy.(M[x := N]), if x ≠ y, provided y ∉ FV(N)\n",
    "axiom_s5 = Axiom([subs, [lambda, :v1, :t1], :v2, :t2], [lambda, :v1, [subs, :t1, :v2, :t2]])\n",
    "\n",
    "## beta-reduction of  ((λV.E) E′)  is E[V := E′].\n",
    "axiom_beta = Axiom([app, [lambda, :v, :t], :t1], [subs, :t, :v, :t1])\n",
    "## eta-reduction\n",
    "axiom_eta = Axiom([lambda, :v, [app, :t, [var2term, :v]]], :t)"
   ]
  },
  {
   "cell_type": "code",
   "execution_count": 13,
   "metadata": {
    "collapsed": false
   },
   "outputs": [
    {
     "data": {
      "text/plain": [
       "Object(Class(\"LambdaTerm\",200),[-0.0285769,0.042028,-0.0510516,0.117618,-0.146887,-0.0117117,0.0435173,-0.0833209,0.0544871,0.0132202  …  0.122447,-0.0896062,0.116571,-0.0201273,0.1169,0.0500459,0.0637783,-0.015164,-0.00209812,-0.0304327])"
      ]
     },
     "execution_count": 13,
     "metadata": {},
     "output_type": "execute_result"
    }
   ],
   "source": [
    "dict = Dict()\n",
    "dict[:v] = Object(Variable)\n",
    "dict[:v1] = Object(Variable)\n",
    "dict[:v2] = Object(Variable)\n",
    "dict[:t] = Object(LambdaTerm)\n",
    "dict[:t1] = Object(LambdaTerm)\n",
    "dict[:t2] = Object(LambdaTerm)"
   ]
  },
  {
   "cell_type": "code",
   "execution_count": 14,
   "metadata": {
    "collapsed": false
   },
   "outputs": [
    {
     "name": "stdout",
     "output_type": "stream",
     "text": [
      "  2.210167 seconds (54.40 k allocations: 1.306 MB)\n"
     ]
    }
   ],
   "source": [
    "@time train!(axiom_s5, dict, 1000)"
   ]
  },
  {
   "cell_type": "code",
   "execution_count": 19,
   "metadata": {
    "collapsed": false
   },
   "outputs": [
    {
     "name": "stdout",
     "output_type": "stream",
     "text": [
      "  0.039926 seconds (20.07 k allocations: 1.706 MB)\n"
     ]
    },
    {
     "name": "stderr",
     "output_type": "stream",
     "text": [
      "WARNING: Method definition (::Type{Main.Pair})(Main.Class, Main.DFunction, Main.DFunction, Main.DFunction, Main.DFunction, Main.DFunction, Main.Axiom, Main.Axiom, Main.Axiom, Main.Axiom) in module Main at In[18]:2 overwritten at In[19]:2.\n",
      "WARNING: Method definition (::Type{Main.Pair})(Any, Any, Any, Any, Any, Any, Any, Any, Any, Any) in module Main at In[18]:2 overwritten at In[19]:2.\n",
      "WARNING: Method definition (::Type{Main.Pair})(Main.Class, Main.Class, Int64) in module Main at In[18]:17 overwritten at In[19]:17.\n"
     ]
    },
    {
     "data": {
      "text/plain": [
       "Pair(Class(\"Pair_Sensor_Action\",70),DFunction(Class[Class(\"Sensor\",100),Class(\"Action\",120)],Class(\"Pair_Sensor_Action\",70),[0.0337646 -0.0690434 … 0.0271811 -0.046406; -0.00755438 0.152953 … 0.0732673 -0.0312492; … ; 0.115982 -0.0182171 … 0.0364762 0.141189; -0.0659663 -0.147159 … 0.0738494 -0.0318756],Transformation(sigmoid,dsigmoid),0.01),DFunction(Class[Class(\"Pair_Sensor_Action\",70)],Class(\"Sensor\",100),[0.289884 -0.0185713 … -0.00250749 -0.0863891; 0.140652 0.103434 … -0.285008 0.0266675; … ; 0.054545 0.09965 … 0.0781973 -0.0397117; 0.0616697 0.107472 … 0.0337716 -0.0266583],Transformation(sigmoid,dsigmoid),0.01),DFunction(Class[Class(\"Pair_Sensor_Action\",70)],Class(\"Action\",120),[-0.225809 0.100341 … 0.0660144 0.0326232; -0.111896 -0.185515 … -0.0428772 -0.107698; … ; -0.111966 0.019644 … 0.058352 0.0821587; -0.0949172 -0.168639 … -0.0498104 -0.0105251],Transformation(sigmoid,dsigmoid),0.01),DFunction(Class[Class(\"Pair_Sensor_Action\",70),Class(\"Sensor\",100)],Class(\"Pair_Sensor_Action\",70),[-0.120277 0.043208 … 0.0980988 0.0487885; 0.0880164 0.0587552 … -0.022698 -0.0909394; … ; -0.0362549 -0.126503 … -0.037475 -0.0310301; -0.0311864 0.0224189 … -0.0537672 -0.0478474],Transformation(sigmoid,dsigmoid),0.01),DFunction(Class[Class(\"Pair_Sensor_Action\",70),Class(\"Action\",120)],Class(\"Pair_Sensor_Action\",70),[0.0839586 -0.0503283 … -0.0368618 0.0549798; -0.0112493 -0.0235325 … -0.0437429 0.0350177; … ; -0.0903121 0.02874 … 0.00867916 -0.00719275; -0.111935 0.0102566 … 0.0255391 -0.0332422],Transformation(sigmoid,dsigmoid),0.01),Axiom(Tree(DFunction(Class[Class(\"Pair_Sensor_Action\",70)],Class(\"Sensor\",100),[0.289884 -0.0185713 … -0.00250749 -0.0863891; 0.140652 0.103434 … -0.285008 0.0266675; … ; 0.054545 0.09965 … 0.0781973 -0.0397117; 0.0616697 0.107472 … 0.0337716 -0.0266583],Transformation(sigmoid,dsigmoid),0.01),Dict{Any,Any}(),Tree[Tree(DFunction(Class[Class(\"Sensor\",100),Class(\"Action\",120)],Class(\"Pair_Sensor_Action\",70),[0.0337646 -0.0690434 … 0.0271811 -0.046406; -0.00755438 0.152953 … 0.0732673 -0.0312492; … ; 0.115982 -0.0182171 … 0.0364762 0.141189; -0.0659663 -0.147159 … 0.0738494 -0.0318756],Transformation(sigmoid,dsigmoid),0.01),Dict{Any,Any}(),Tree[Tree(:x,Dict{Any,Any}(),Tree[]),Tree(:y,Dict{Any,Any}(),Tree[])])]),Tree(:x,Dict{Any,Any}(),Tree[]),Dict{Any,Any}(Pair{Any,Any}(:y,Any[Tree(:y,Dict{Any,Any}(),Tree[])]),Pair{Any,Any}(DFunction(Class[Class(\"Sensor\",100),Class(\"Action\",120)],Class(\"Pair_Sensor_Action\",70),[0.0337646 -0.0690434 … 0.0271811 -0.046406; -0.00755438 0.152953 … 0.0732673 -0.0312492; … ; 0.115982 -0.0182171 … 0.0364762 0.141189; -0.0659663 -0.147159 … 0.0738494 -0.0318756],Transformation(sigmoid,dsigmoid),0.01),Any[Tree(DFunction(Class[Class(\"Sensor\",100),Class(\"Action\",120)],Class(\"Pair_Sensor_Action\",70),[0.0337646 -0.0690434 … 0.0271811 -0.046406; -0.00755438 0.152953 … 0.0732673 -0.0312492; … ; 0.115982 -0.0182171 … 0.0364762 0.141189; -0.0659663 -0.147159 … 0.0738494 -0.0318756],Transformation(sigmoid,dsigmoid),0.01),Dict{Any,Any}(),Tree[Tree(:x,Dict{Any,Any}(),Tree[]),Tree(:y,Dict{Any,Any}(),Tree[])])]),Pair{Any,Any}(:x,Any[Tree(:x,Dict{Any,Any}(),Tree[]),Tree(:x,Dict{Any,Any}(),Tree[])]),Pair{Any,Any}(DFunction(Class[Class(\"Pair_Sensor_Action\",70)],Class(\"Sensor\",100),[0.289884 -0.0185713 … -0.00250749 -0.0863891; 0.140652 0.103434 … -0.285008 0.0266675; … ; 0.054545 0.09965 … 0.0781973 -0.0397117; 0.0616697 0.107472 … 0.0337716 -0.0266583],Transformation(sigmoid,dsigmoid),0.01),Tree[Tree(DFunction(Class[Class(\"Pair_Sensor_Action\",70)],Class(\"Sensor\",100),[0.289884 -0.0185713 … -0.00250749 -0.0863891; 0.140652 0.103434 … -0.285008 0.0266675; … ; 0.054545 0.09965 … 0.0781973 -0.0397117; 0.0616697 0.107472 … 0.0337716 -0.0266583],Transformation(sigmoid,dsigmoid),0.01),Dict{Any,Any}(),Tree[Tree(DFunction(Class[Class(\"Sensor\",100),Class(\"Action\",120)],Class(\"Pair_Sensor_Action\",70),[0.0337646 -0.0690434 … 0.0271811 -0.046406; -0.00755438 0.152953 … 0.0732673 -0.0312492; … ; 0.115982 -0.0182171 … 0.0364762 0.141189; -0.0659663 -0.147159 … 0.0738494 -0.0318756],Transformation(sigmoid,dsigmoid),0.01),Dict{Any,Any}(),Tree[Tree(:x,Dict{Any,Any}(),Tree[]),Tree(:y,Dict{Any,Any}(),Tree[])])])]))),Axiom(Tree(DFunction(Class[Class(\"Pair_Sensor_Action\",70)],Class(\"Action\",120),[-0.225809 0.100341 … 0.0660144 0.0326232; -0.111896 -0.185515 … -0.0428772 -0.107698; … ; -0.111966 0.019644 … 0.058352 0.0821587; -0.0949172 -0.168639 … -0.0498104 -0.0105251],Transformation(sigmoid,dsigmoid),0.01),Dict{Any,Any}(),Tree[Tree(DFunction(Class[Class(\"Sensor\",100),Class(\"Action\",120)],Class(\"Pair_Sensor_Action\",70),[0.0337646 -0.0690434 … 0.0271811 -0.046406; -0.00755438 0.152953 … 0.0732673 -0.0312492; … ; 0.115982 -0.0182171 … 0.0364762 0.141189; -0.0659663 -0.147159 … 0.0738494 -0.0318756],Transformation(sigmoid,dsigmoid),0.01),Dict{Any,Any}(),Tree[Tree(:x,Dict{Any,Any}(),Tree[]),Tree(:y,Dict{Any,Any}(),Tree[])])]),Tree(:y,Dict{Any,Any}(),Tree[]),Dict{Any,Any}(Pair{Any,Any}(:y,Any[Tree(:y,Dict{Any,Any}(),Tree[]),Tree(:y,Dict{Any,Any}(),Tree[])]),Pair{Any,Any}(DFunction(Class[Class(\"Pair_Sensor_Action\",70)],Class(\"Action\",120),[-0.225809 0.100341 … 0.0660144 0.0326232; -0.111896 -0.185515 … -0.0428772 -0.107698; … ; -0.111966 0.019644 … 0.058352 0.0821587; -0.0949172 -0.168639 … -0.0498104 -0.0105251],Transformation(sigmoid,dsigmoid),0.01),Tree[Tree(DFunction(Class[Class(\"Pair_Sensor_Action\",70)],Class(\"Action\",120),[-0.225809 0.100341 … 0.0660144 0.0326232; -0.111896 -0.185515 … -0.0428772 -0.107698; … ; -0.111966 0.019644 … 0.058352 0.0821587; -0.0949172 -0.168639 … -0.0498104 -0.0105251],Transformation(sigmoid,dsigmoid),0.01),Dict{Any,Any}(),Tree[Tree(DFunction(Class[Class(\"Sensor\",100),Class(\"Action\",120)],Class(\"Pair_Sensor_Action\",70),[0.0337646 -0.0690434 … 0.0271811 -0.046406; -0.00755438 0.152953 … 0.0732673 -0.0312492; … ; 0.115982 -0.0182171 … 0.0364762 0.141189; -0.0659663 -0.147159 … 0.0738494 -0.0318756],Transformation(sigmoid,dsigmoid),0.01),Dict{Any,Any}(),Tree[Tree(:x,Dict{Any,Any}(),Tree[]),Tree(:y,Dict{Any,Any}(),Tree[])])])]),Pair{Any,Any}(DFunction(Class[Class(\"Sensor\",100),Class(\"Action\",120)],Class(\"Pair_Sensor_Action\",70),[0.0337646 -0.0690434 … 0.0271811 -0.046406; -0.00755438 0.152953 … 0.0732673 -0.0312492; … ; 0.115982 -0.0182171 … 0.0364762 0.141189; -0.0659663 -0.147159 … 0.0738494 -0.0318756],Transformation(sigmoid,dsigmoid),0.01),Any[Tree(DFunction(Class[Class(\"Sensor\",100),Class(\"Action\",120)],Class(\"Pair_Sensor_Action\",70),[0.0337646 -0.0690434 … 0.0271811 -0.046406; -0.00755438 0.152953 … 0.0732673 -0.0312492; … ; 0.115982 -0.0182171 … 0.0364762 0.141189; -0.0659663 -0.147159 … 0.0738494 -0.0318756],Transformation(sigmoid,dsigmoid),0.01),Dict{Any,Any}(),Tree[Tree(:x,Dict{Any,Any}(),Tree[]),Tree(:y,Dict{Any,Any}(),Tree[])])]),Pair{Any,Any}(:x,Any[Tree(:x,Dict{Any,Any}(),Tree[])]))),Axiom(Tree(DFunction(Class[Class(\"Pair_Sensor_Action\",70),Class(\"Sensor\",100)],Class(\"Pair_Sensor_Action\",70),[-0.120277 0.043208 … 0.0980988 0.0487885; 0.0880164 0.0587552 … -0.022698 -0.0909394; … ; -0.0362549 -0.126503 … -0.037475 -0.0310301; -0.0311864 0.0224189 … -0.0537672 -0.0478474],Transformation(sigmoid,dsigmoid),0.01),Dict{Any,Any}(),Tree[Tree(:xy,Dict{Any,Any}(),Tree[]),Tree(:x,Dict{Any,Any}(),Tree[])]),Tree(DFunction(Class[Class(\"Sensor\",100),Class(\"Action\",120)],Class(\"Pair_Sensor_Action\",70),[0.0337646 -0.0690434 … 0.0271811 -0.046406; -0.00755438 0.152953 … 0.0732673 -0.0312492; … ; 0.115982 -0.0182171 … 0.0364762 0.141189; -0.0659663 -0.147159 … 0.0738494 -0.0318756],Transformation(sigmoid,dsigmoid),0.01),Dict{Any,Any}(),Tree[Tree(:x,Dict{Any,Any}(),Tree[]),Tree(DFunction(Class[Class(\"Pair_Sensor_Action\",70)],Class(\"Action\",120),[-0.225809 0.100341 … 0.0660144 0.0326232; -0.111896 -0.185515 … -0.0428772 -0.107698; … ; -0.111966 0.019644 … 0.058352 0.0821587; -0.0949172 -0.168639 … -0.0498104 -0.0105251],Transformation(sigmoid,dsigmoid),0.01),Dict{Any,Any}(),Tree[Tree(:xy,Dict{Any,Any}(),Tree[])])]),Dict{Any,Any}(Pair{Any,Any}(:xy,Any[Tree(:xy,Dict{Any,Any}(),Tree[]),Tree(:xy,Dict{Any,Any}(),Tree[])]),Pair{Any,Any}(DFunction(Class[Class(\"Pair_Sensor_Action\",70),Class(\"Sensor\",100)],Class(\"Pair_Sensor_Action\",70),[-0.120277 0.043208 … 0.0980988 0.0487885; 0.0880164 0.0587552 … -0.022698 -0.0909394; … ; -0.0362549 -0.126503 … -0.037475 -0.0310301; -0.0311864 0.0224189 … -0.0537672 -0.0478474],Transformation(sigmoid,dsigmoid),0.01),Tree[Tree(DFunction(Class[Class(\"Pair_Sensor_Action\",70),Class(\"Sensor\",100)],Class(\"Pair_Sensor_Action\",70),[-0.120277 0.043208 … 0.0980988 0.0487885; 0.0880164 0.0587552 … -0.022698 -0.0909394; … ; -0.0362549 -0.126503 … -0.037475 -0.0310301; -0.0311864 0.0224189 … -0.0537672 -0.0478474],Transformation(sigmoid,dsigmoid),0.01),Dict{Any,Any}(),Tree[Tree(:xy,Dict{Any,Any}(),Tree[]),Tree(:x,Dict{Any,Any}(),Tree[])])]),Pair{Any,Any}(DFunction(Class[Class(\"Pair_Sensor_Action\",70)],Class(\"Action\",120),[-0.225809 0.100341 … 0.0660144 0.0326232; -0.111896 -0.185515 … -0.0428772 -0.107698; … ; -0.111966 0.019644 … 0.058352 0.0821587; -0.0949172 -0.168639 … -0.0498104 -0.0105251],Transformation(sigmoid,dsigmoid),0.01),Any[Tree(DFunction(Class[Class(\"Pair_Sensor_Action\",70)],Class(\"Action\",120),[-0.225809 0.100341 … 0.0660144 0.0326232; -0.111896 -0.185515 … -0.0428772 -0.107698; … ; -0.111966 0.019644 … 0.058352 0.0821587; -0.0949172 -0.168639 … -0.0498104 -0.0105251],Transformation(sigmoid,dsigmoid),0.01),Dict{Any,Any}(),Tree[Tree(:xy,Dict{Any,Any}(),Tree[])])]),Pair{Any,Any}(:x,Any[Tree(:x,Dict{Any,Any}(),Tree[]),Tree(:x,Dict{Any,Any}(),Tree[])]),Pair{Any,Any}(DFunction(Class[Class(\"Sensor\",100),Class(\"Action\",120)],Class(\"Pair_Sensor_Action\",70),[0.0337646 -0.0690434 … 0.0271811 -0.046406; -0.00755438 0.152953 … 0.0732673 -0.0312492; … ; 0.115982 -0.0182171 … 0.0364762 0.141189; -0.0659663 -0.147159 … 0.0738494 -0.0318756],Transformation(sigmoid,dsigmoid),0.01),Any[Tree(DFunction(Class[Class(\"Sensor\",100),Class(\"Action\",120)],Class(\"Pair_Sensor_Action\",70),[0.0337646 -0.0690434 … 0.0271811 -0.046406; -0.00755438 0.152953 … 0.0732673 -0.0312492; … ; 0.115982 -0.0182171 … 0.0364762 0.141189; -0.0659663 -0.147159 … 0.0738494 -0.0318756],Transformation(sigmoid,dsigmoid),0.01),Dict{Any,Any}(),Tree[Tree(:x,Dict{Any,Any}(),Tree[]),Tree(DFunction(Class[Class(\"Pair_Sensor_Action\",70)],Class(\"Action\",120),[-0.225809 0.100341 … 0.0660144 0.0326232; -0.111896 -0.185515 … -0.0428772 -0.107698; … ; -0.111966 0.019644 … 0.058352 0.0821587; -0.0949172 -0.168639 … -0.0498104 -0.0105251],Transformation(sigmoid,dsigmoid),0.01),Dict{Any,Any}(),Tree[Tree(:xy,Dict{Any,Any}(),Tree[])])])]))),Axiom(Tree(DFunction(Class[Class(\"Pair_Sensor_Action\",70),Class(\"Action\",120)],Class(\"Pair_Sensor_Action\",70),[0.0839586 -0.0503283 … -0.0368618 0.0549798; -0.0112493 -0.0235325 … -0.0437429 0.0350177; … ; -0.0903121 0.02874 … 0.00867916 -0.00719275; -0.111935 0.0102566 … 0.0255391 -0.0332422],Transformation(sigmoid,dsigmoid),0.01),Dict{Any,Any}(),Tree[Tree(:xy,Dict{Any,Any}(),Tree[]),Tree(:y,Dict{Any,Any}(),Tree[])]),Tree(DFunction(Class[Class(\"Sensor\",100),Class(\"Action\",120)],Class(\"Pair_Sensor_Action\",70),[0.0337646 -0.0690434 … 0.0271811 -0.046406; -0.00755438 0.152953 … 0.0732673 -0.0312492; … ; 0.115982 -0.0182171 … 0.0364762 0.141189; -0.0659663 -0.147159 … 0.0738494 -0.0318756],Transformation(sigmoid,dsigmoid),0.01),Dict{Any,Any}(),Tree[Tree(DFunction(Class[Class(\"Pair_Sensor_Action\",70)],Class(\"Sensor\",100),[0.289884 -0.0185713 … -0.00250749 -0.0863891; 0.140652 0.103434 … -0.285008 0.0266675; … ; 0.054545 0.09965 … 0.0781973 -0.0397117; 0.0616697 0.107472 … 0.0337716 -0.0266583],Transformation(sigmoid,dsigmoid),0.01),Dict{Any,Any}(),Tree[Tree(:xy,Dict{Any,Any}(),Tree[])]),Tree(:y,Dict{Any,Any}(),Tree[])]),Dict{Any,Any}(Pair{Any,Any}(:xy,Any[Tree(:xy,Dict{Any,Any}(),Tree[]),Tree(:xy,Dict{Any,Any}(),Tree[])]),Pair{Any,Any}(:y,Any[Tree(:y,Dict{Any,Any}(),Tree[]),Tree(:y,Dict{Any,Any}(),Tree[])]),Pair{Any,Any}(DFunction(Class[Class(\"Pair_Sensor_Action\",70),Class(\"Action\",120)],Class(\"Pair_Sensor_Action\",70),[0.0839586 -0.0503283 … -0.0368618 0.0549798; -0.0112493 -0.0235325 … -0.0437429 0.0350177; … ; -0.0903121 0.02874 … 0.00867916 -0.00719275; -0.111935 0.0102566 … 0.0255391 -0.0332422],Transformation(sigmoid,dsigmoid),0.01),Tree[Tree(DFunction(Class[Class(\"Pair_Sensor_Action\",70),Class(\"Action\",120)],Class(\"Pair_Sensor_Action\",70),[0.0839586 -0.0503283 … -0.0368618 0.0549798; -0.0112493 -0.0235325 … -0.0437429 0.0350177; … ; -0.0903121 0.02874 … 0.00867916 -0.00719275; -0.111935 0.0102566 … 0.0255391 -0.0332422],Transformation(sigmoid,dsigmoid),0.01),Dict{Any,Any}(),Tree[Tree(:xy,Dict{Any,Any}(),Tree[]),Tree(:y,Dict{Any,Any}(),Tree[])])]),Pair{Any,Any}(DFunction(Class[Class(\"Sensor\",100),Class(\"Action\",120)],Class(\"Pair_Sensor_Action\",70),[0.0337646 -0.0690434 … 0.0271811 -0.046406; -0.00755438 0.152953 … 0.0732673 -0.0312492; … ; 0.115982 -0.0182171 … 0.0364762 0.141189; -0.0659663 -0.147159 … 0.0738494 -0.0318756],Transformation(sigmoid,dsigmoid),0.01),Any[Tree(DFunction(Class[Class(\"Sensor\",100),Class(\"Action\",120)],Class(\"Pair_Sensor_Action\",70),[0.0337646 -0.0690434 … 0.0271811 -0.046406; -0.00755438 0.152953 … 0.0732673 -0.0312492; … ; 0.115982 -0.0182171 … 0.0364762 0.141189; -0.0659663 -0.147159 … 0.0738494 -0.0318756],Transformation(sigmoid,dsigmoid),0.01),Dict{Any,Any}(),Tree[Tree(DFunction(Class[Class(\"Pair_Sensor_Action\",70)],Class(\"Sensor\",100),[0.289884 -0.0185713 … -0.00250749 -0.0863891; 0.140652 0.103434 … -0.285008 0.0266675; … ; 0.054545 0.09965 … 0.0781973 -0.0397117; 0.0616697 0.107472 … 0.0337716 -0.0266583],Transformation(sigmoid,dsigmoid),0.01),Dict{Any,Any}(),Tree[Tree(:xy,Dict{Any,Any}(),Tree[])]),Tree(:y,Dict{Any,Any}(),Tree[])])]),Pair{Any,Any}(DFunction(Class[Class(\"Pair_Sensor_Action\",70)],Class(\"Sensor\",100),[0.289884 -0.0185713 … -0.00250749 -0.0863891; 0.140652 0.103434 … -0.285008 0.0266675; … ; 0.054545 0.09965 … 0.0781973 -0.0397117; 0.0616697 0.107472 … 0.0337716 -0.0266583],Transformation(sigmoid,dsigmoid),0.01),Any[Tree(DFunction(Class[Class(\"Pair_Sensor_Action\",70)],Class(\"Sensor\",100),[0.289884 -0.0185713 … -0.00250749 -0.0863891; 0.140652 0.103434 … -0.285008 0.0266675; … ; 0.054545 0.09965 … 0.0781973 -0.0397117; 0.0616697 0.107472 … 0.0337716 -0.0266583],Transformation(sigmoid,dsigmoid),0.01),Dict{Any,Any}(),Tree[Tree(:xy,Dict{Any,Any}(),Tree[])])]))))"
      ]
     },
     "execution_count": 19,
     "metadata": {},
     "output_type": "execute_result"
    }
   ],
   "source": [
    "type Pair\n",
    "    class :: Class\n",
    "    \n",
    "    pair :: DFunction\n",
    "    first :: DFunction\n",
    "    second :: DFunction\n",
    "    first! :: DFunction\n",
    "    second! :: DFunction\n",
    "    \n",
    "    axiom_first :: Axiom\n",
    "    axiom_second :: Axiom\n",
    "    axiom_first! :: Axiom\n",
    "    axiom_second! :: Axiom\n",
    "end\n",
    "\n",
    "function Pair(class1 :: Class, class2 :: Class, type_len :: Int64)\n",
    "    post_name = string(\"_\", class1.class_name, \"_\", class2.class_name)\n",
    "    pair_name = string(\"Pair\", post_name)\n",
    "    pclass = Class(pair_name, type_len)\n",
    "    \n",
    "    pair = DFunction([class1, class2], pclass)\n",
    "    first = DFunction([pclass], class1)\n",
    "    second = DFunction([pclass], class2)\n",
    "    first! = DFunction([pclass, class1], pclass)\n",
    "    second! = DFunction([pclass, class2], pclass)\n",
    "    \n",
    "    axiom_first = Axiom([first, [pair, :x, :y]], :x)\n",
    "    axiom_second = Axiom([second, [pair, :x, :y]], :y)\n",
    "    axiom_first! = Axiom([first!, :xy, :x], [pair, :x, [second, :xy]])\n",
    "    axiom_second! = Axiom([second!, :xy, :y], [pair, [first, :xy], :y])\n",
    "    \n",
    "    Pair(pclass, pair, first, second, first!, second!, axiom_first, axiom_second, axiom_first!, axiom_second!)\n",
    "end\n",
    "\n",
    "@time p = Pair(Sensor, Action, 70)"
   ]
  },
  {
   "cell_type": "code",
   "execution_count": 17,
   "metadata": {
    "collapsed": false
   },
   "outputs": [
    {
     "name": "stdout",
     "output_type": "stream",
     "text": [
      "  0.044888 seconds (22.00 k allocations: 1.621 MB)\n"
     ]
    },
    {
     "name": "stderr",
     "output_type": "stream",
     "text": [
      "WARNING: Method definition (::Type{Main.List})(Main.Class, Main.Object, Main.DFunction, Main.DFunction, Main.DFunction, Main.DFunction, Main.DFunction, Main.Axiom, Main.Axiom, Main.Axiom, Main.Axiom) in module Main at In[16]:2 overwritten at In[17]:2.\n",
      "WARNING: Method definition (::Type{Main.List})(Any, Any, Any, Any, Any, Any, Any, Any, Any, Any, Any) in module Main at In[16]:2 overwritten at In[17]:2.\n",
      "WARNING: Method definition (::Type{Main.List})(Main.Class, Int64) in module Main at In[16]:19 overwritten at In[17]:19.\n"
     ]
    },
    {
     "data": {
      "text/plain": [
       "List(Class(\"List_Sensor\",70),Object(Class(\"List_Sensor\",70),[0.0,0.0,0.0,0.0,0.0,0.0,0.0,0.0,0.0,0.0  …  0.0,0.0,0.0,0.0,0.0,0.0,0.0,0.0,0.0,0.0]),DFunction(Class[Class(\"Sensor\",100),Class(\"List_Sensor\",70)],Class(\"List_Sensor\",70),[-0.0478205 0.210448 … -0.0367765 -0.0568566; 0.0687008 0.0680562 … -0.00742547 0.0326543; … ; 0.0354132 -0.0833955 … 0.00737178 0.0304305; -0.0665069 0.0519551 … 0.0926316 0.0435637],Transformation(sigmoid,dsigmoid),0.01),DFunction(Class[Class(\"List_Sensor\",70)],Class(\"Sensor\",100),[-0.0300245 0.0874222 … -0.0889879 0.0131396; -0.0296792 -0.0114043 … -0.113019 -0.1596; … ; -0.164922 -0.00853376 … 0.0733155 0.0825224; 0.0749854 0.0309507 … 0.164426 -0.0965762],Transformation(sigmoid,dsigmoid),0.01),DFunction(Class[Class(\"List_Sensor\",70)],Class(\"List_Sensor\",70),[-0.0870762 0.0205628 … 0.0369546 -0.117241; -0.0436353 -0.00401807 … 0.00348527 0.0322049; … ; 0.0955265 -0.0878023 … 0.147869 0.161563; -0.0681513 0.0393811 … -0.0267199 0.0108862],Transformation(sigmoid,dsigmoid),0.01),DFunction(Class[Class(\"List_Sensor\",70),Class(\"Sensor\",100)],Class(\"List_Sensor\",70),[-0.0380166 -0.114037 … 0.0400209 0.0252752; 0.115434 -0.0550069 … 0.13389 -0.0840715; … ; -0.0235598 0.00934951 … 0.0115304 0.139265; 0.0601009 -0.110151 … 0.0804987 0.112479],Transformation(sigmoid,dsigmoid),0.01),DFunction(Class[Class(\"List_Sensor\",70),Class(\"List_Sensor\",70)],Class(\"List_Sensor\",70),[0.00236088 0.06155 … 0.0948505 0.0155033; -0.11696 0.0282898 … -0.00463887 0.00463739; … ; -0.0661055 0.0607077 … -0.047901 0.0398093; -0.0480969 0.046793 … 0.0547914 0.209755],Transformation(sigmoid,dsigmoid),0.01),Axiom(Tree(DFunction(Class[Class(\"List_Sensor\",70)],Class(\"Sensor\",100),[-0.0300245 0.0874222 … -0.0889879 0.0131396; -0.0296792 -0.0114043 … -0.113019 -0.1596; … ; -0.164922 -0.00853376 … 0.0733155 0.0825224; 0.0749854 0.0309507 … 0.164426 -0.0965762],Transformation(sigmoid,dsigmoid),0.01),Dict{Any,Any}(),Tree[Tree(DFunction(Class[Class(\"Sensor\",100),Class(\"List_Sensor\",70)],Class(\"List_Sensor\",70),[-0.0478205 0.210448 … -0.0367765 -0.0568566; 0.0687008 0.0680562 … -0.00742547 0.0326543; … ; 0.0354132 -0.0833955 … 0.00737178 0.0304305; -0.0665069 0.0519551 … 0.0926316 0.0435637],Transformation(sigmoid,dsigmoid),0.01),Dict{Any,Any}(),Tree[Tree(:x,Dict{Any,Any}(),Tree[]),Tree(:xs,Dict{Any,Any}(),Tree[])])]),Tree(:x,Dict{Any,Any}(),Tree[]),Dict{Any,Any}(Pair{Any,Any}(:x,Any[Tree(:x,Dict{Any,Any}(),Tree[]),Tree(:x,Dict{Any,Any}(),Tree[])]),Pair{Any,Any}(:xs,Any[Tree(:xs,Dict{Any,Any}(),Tree[])]),Pair{Any,Any}(DFunction(Class[Class(\"List_Sensor\",70)],Class(\"Sensor\",100),[-0.0300245 0.0874222 … -0.0889879 0.0131396; -0.0296792 -0.0114043 … -0.113019 -0.1596; … ; -0.164922 -0.00853376 … 0.0733155 0.0825224; 0.0749854 0.0309507 … 0.164426 -0.0965762],Transformation(sigmoid,dsigmoid),0.01),Tree[Tree(DFunction(Class[Class(\"List_Sensor\",70)],Class(\"Sensor\",100),[-0.0300245 0.0874222 … -0.0889879 0.0131396; -0.0296792 -0.0114043 … -0.113019 -0.1596; … ; -0.164922 -0.00853376 … 0.0733155 0.0825224; 0.0749854 0.0309507 … 0.164426 -0.0965762],Transformation(sigmoid,dsigmoid),0.01),Dict{Any,Any}(),Tree[Tree(DFunction(Class[Class(\"Sensor\",100),Class(\"List_Sensor\",70)],Class(\"List_Sensor\",70),[-0.0478205 0.210448 … -0.0367765 -0.0568566; 0.0687008 0.0680562 … -0.00742547 0.0326543; … ; 0.0354132 -0.0833955 … 0.00737178 0.0304305; -0.0665069 0.0519551 … 0.0926316 0.0435637],Transformation(sigmoid,dsigmoid),0.01),Dict{Any,Any}(),Tree[Tree(:x,Dict{Any,Any}(),Tree[]),Tree(:xs,Dict{Any,Any}(),Tree[])])])]),Pair{Any,Any}(DFunction(Class[Class(\"Sensor\",100),Class(\"List_Sensor\",70)],Class(\"List_Sensor\",70),[-0.0478205 0.210448 … -0.0367765 -0.0568566; 0.0687008 0.0680562 … -0.00742547 0.0326543; … ; 0.0354132 -0.0833955 … 0.00737178 0.0304305; -0.0665069 0.0519551 … 0.0926316 0.0435637],Transformation(sigmoid,dsigmoid),0.01),Any[Tree(DFunction(Class[Class(\"Sensor\",100),Class(\"List_Sensor\",70)],Class(\"List_Sensor\",70),[-0.0478205 0.210448 … -0.0367765 -0.0568566; 0.0687008 0.0680562 … -0.00742547 0.0326543; … ; 0.0354132 -0.0833955 … 0.00737178 0.0304305; -0.0665069 0.0519551 … 0.0926316 0.0435637],Transformation(sigmoid,dsigmoid),0.01),Dict{Any,Any}(),Tree[Tree(:x,Dict{Any,Any}(),Tree[]),Tree(:xs,Dict{Any,Any}(),Tree[])])]))),Axiom(Tree(DFunction(Class[Class(\"List_Sensor\",70)],Class(\"List_Sensor\",70),[-0.0870762 0.0205628 … 0.0369546 -0.117241; -0.0436353 -0.00401807 … 0.00348527 0.0322049; … ; 0.0955265 -0.0878023 … 0.147869 0.161563; -0.0681513 0.0393811 … -0.0267199 0.0108862],Transformation(sigmoid,dsigmoid),0.01),Dict{Any,Any}(),Tree[Tree(DFunction(Class[Class(\"Sensor\",100),Class(\"List_Sensor\",70)],Class(\"List_Sensor\",70),[-0.0478205 0.210448 … -0.0367765 -0.0568566; 0.0687008 0.0680562 … -0.00742547 0.0326543; … ; 0.0354132 -0.0833955 … 0.00737178 0.0304305; -0.0665069 0.0519551 … 0.0926316 0.0435637],Transformation(sigmoid,dsigmoid),0.01),Dict{Any,Any}(),Tree[Tree(:x,Dict{Any,Any}(),Tree[]),Tree(:xs,Dict{Any,Any}(),Tree[])])]),Tree(:xs,Dict{Any,Any}(),Tree[]),Dict{Any,Any}(Pair{Any,Any}(DFunction(Class[Class(\"List_Sensor\",70)],Class(\"List_Sensor\",70),[-0.0870762 0.0205628 … 0.0369546 -0.117241; -0.0436353 -0.00401807 … 0.00348527 0.0322049; … ; 0.0955265 -0.0878023 … 0.147869 0.161563; -0.0681513 0.0393811 … -0.0267199 0.0108862],Transformation(sigmoid,dsigmoid),0.01),Tree[Tree(DFunction(Class[Class(\"List_Sensor\",70)],Class(\"List_Sensor\",70),[-0.0870762 0.0205628 … 0.0369546 -0.117241; -0.0436353 -0.00401807 … 0.00348527 0.0322049; … ; 0.0955265 -0.0878023 … 0.147869 0.161563; -0.0681513 0.0393811 … -0.0267199 0.0108862],Transformation(sigmoid,dsigmoid),0.01),Dict{Any,Any}(),Tree[Tree(DFunction(Class[Class(\"Sensor\",100),Class(\"List_Sensor\",70)],Class(\"List_Sensor\",70),[-0.0478205 0.210448 … -0.0367765 -0.0568566; 0.0687008 0.0680562 … -0.00742547 0.0326543; … ; 0.0354132 -0.0833955 … 0.00737178 0.0304305; -0.0665069 0.0519551 … 0.0926316 0.0435637],Transformation(sigmoid,dsigmoid),0.01),Dict{Any,Any}(),Tree[Tree(:x,Dict{Any,Any}(),Tree[]),Tree(:xs,Dict{Any,Any}(),Tree[])])])]),Pair{Any,Any}(:x,Any[Tree(:x,Dict{Any,Any}(),Tree[])]),Pair{Any,Any}(:xs,Any[Tree(:xs,Dict{Any,Any}(),Tree[]),Tree(:xs,Dict{Any,Any}(),Tree[])]),Pair{Any,Any}(DFunction(Class[Class(\"Sensor\",100),Class(\"List_Sensor\",70)],Class(\"List_Sensor\",70),[-0.0478205 0.210448 … -0.0367765 -0.0568566; 0.0687008 0.0680562 … -0.00742547 0.0326543; … ; 0.0354132 -0.0833955 … 0.00737178 0.0304305; -0.0665069 0.0519551 … 0.0926316 0.0435637],Transformation(sigmoid,dsigmoid),0.01),Any[Tree(DFunction(Class[Class(\"Sensor\",100),Class(\"List_Sensor\",70)],Class(\"List_Sensor\",70),[-0.0478205 0.210448 … -0.0367765 -0.0568566; 0.0687008 0.0680562 … -0.00742547 0.0326543; … ; 0.0354132 -0.0833955 … 0.00737178 0.0304305; -0.0665069 0.0519551 … 0.0926316 0.0435637],Transformation(sigmoid,dsigmoid),0.01),Dict{Any,Any}(),Tree[Tree(:x,Dict{Any,Any}(),Tree[]),Tree(:xs,Dict{Any,Any}(),Tree[])])]))),Axiom(Tree(DFunction(Class[Class(\"List_Sensor\",70),Class(\"Sensor\",100)],Class(\"List_Sensor\",70),[-0.0380166 -0.114037 … 0.0400209 0.0252752; 0.115434 -0.0550069 … 0.13389 -0.0840715; … ; -0.0235598 0.00934951 … 0.0115304 0.139265; 0.0601009 -0.110151 … 0.0804987 0.112479],Transformation(sigmoid,dsigmoid),0.01),Dict{Any,Any}(),Tree[Tree(:xxs,Dict{Any,Any}(),Tree[]),Tree(:x,Dict{Any,Any}(),Tree[])]),Tree(DFunction(Class[Class(\"Sensor\",100),Class(\"List_Sensor\",70)],Class(\"List_Sensor\",70),[-0.0478205 0.210448 … -0.0367765 -0.0568566; 0.0687008 0.0680562 … -0.00742547 0.0326543; … ; 0.0354132 -0.0833955 … 0.00737178 0.0304305; -0.0665069 0.0519551 … 0.0926316 0.0435637],Transformation(sigmoid,dsigmoid),0.01),Dict{Any,Any}(),Tree[Tree(:x,Dict{Any,Any}(),Tree[]),Tree(DFunction(Class[Class(\"List_Sensor\",70)],Class(\"List_Sensor\",70),[-0.0870762 0.0205628 … 0.0369546 -0.117241; -0.0436353 -0.00401807 … 0.00348527 0.0322049; … ; 0.0955265 -0.0878023 … 0.147869 0.161563; -0.0681513 0.0393811 … -0.0267199 0.0108862],Transformation(sigmoid,dsigmoid),0.01),Dict{Any,Any}(),Tree[Tree(:xxs,Dict{Any,Any}(),Tree[])])]),Dict{Any,Any}(Pair{Any,Any}(DFunction(Class[Class(\"List_Sensor\",70),Class(\"Sensor\",100)],Class(\"List_Sensor\",70),[-0.0380166 -0.114037 … 0.0400209 0.0252752; 0.115434 -0.0550069 … 0.13389 -0.0840715; … ; -0.0235598 0.00934951 … 0.0115304 0.139265; 0.0601009 -0.110151 … 0.0804987 0.112479],Transformation(sigmoid,dsigmoid),0.01),Tree[Tree(DFunction(Class[Class(\"List_Sensor\",70),Class(\"Sensor\",100)],Class(\"List_Sensor\",70),[-0.0380166 -0.114037 … 0.0400209 0.0252752; 0.115434 -0.0550069 … 0.13389 -0.0840715; … ; -0.0235598 0.00934951 … 0.0115304 0.139265; 0.0601009 -0.110151 … 0.0804987 0.112479],Transformation(sigmoid,dsigmoid),0.01),Dict{Any,Any}(),Tree[Tree(:xxs,Dict{Any,Any}(),Tree[]),Tree(:x,Dict{Any,Any}(),Tree[])])]),Pair{Any,Any}(DFunction(Class[Class(\"List_Sensor\",70)],Class(\"List_Sensor\",70),[-0.0870762 0.0205628 … 0.0369546 -0.117241; -0.0436353 -0.00401807 … 0.00348527 0.0322049; … ; 0.0955265 -0.0878023 … 0.147869 0.161563; -0.0681513 0.0393811 … -0.0267199 0.0108862],Transformation(sigmoid,dsigmoid),0.01),Any[Tree(DFunction(Class[Class(\"List_Sensor\",70)],Class(\"List_Sensor\",70),[-0.0870762 0.0205628 … 0.0369546 -0.117241; -0.0436353 -0.00401807 … 0.00348527 0.0322049; … ; 0.0955265 -0.0878023 … 0.147869 0.161563; -0.0681513 0.0393811 … -0.0267199 0.0108862],Transformation(sigmoid,dsigmoid),0.01),Dict{Any,Any}(),Tree[Tree(:xxs,Dict{Any,Any}(),Tree[])])]),Pair{Any,Any}(:xxs,Any[Tree(:xxs,Dict{Any,Any}(),Tree[]),Tree(:xxs,Dict{Any,Any}(),Tree[])]),Pair{Any,Any}(:x,Any[Tree(:x,Dict{Any,Any}(),Tree[]),Tree(:x,Dict{Any,Any}(),Tree[])]),Pair{Any,Any}(DFunction(Class[Class(\"Sensor\",100),Class(\"List_Sensor\",70)],Class(\"List_Sensor\",70),[-0.0478205 0.210448 … -0.0367765 -0.0568566; 0.0687008 0.0680562 … -0.00742547 0.0326543; … ; 0.0354132 -0.0833955 … 0.00737178 0.0304305; -0.0665069 0.0519551 … 0.0926316 0.0435637],Transformation(sigmoid,dsigmoid),0.01),Any[Tree(DFunction(Class[Class(\"Sensor\",100),Class(\"List_Sensor\",70)],Class(\"List_Sensor\",70),[-0.0478205 0.210448 … -0.0367765 -0.0568566; 0.0687008 0.0680562 … -0.00742547 0.0326543; … ; 0.0354132 -0.0833955 … 0.00737178 0.0304305; -0.0665069 0.0519551 … 0.0926316 0.0435637],Transformation(sigmoid,dsigmoid),0.01),Dict{Any,Any}(),Tree[Tree(:x,Dict{Any,Any}(),Tree[]),Tree(DFunction(Class[Class(\"List_Sensor\",70)],Class(\"List_Sensor\",70),[-0.0870762 0.0205628 … 0.0369546 -0.117241; -0.0436353 -0.00401807 … 0.00348527 0.0322049; … ; 0.0955265 -0.0878023 … 0.147869 0.161563; -0.0681513 0.0393811 … -0.0267199 0.0108862],Transformation(sigmoid,dsigmoid),0.01),Dict{Any,Any}(),Tree[Tree(:xxs,Dict{Any,Any}(),Tree[])])])]))),Axiom(Tree(DFunction(Class[Class(\"List_Sensor\",70),Class(\"List_Sensor\",70)],Class(\"List_Sensor\",70),[0.00236088 0.06155 … 0.0948505 0.0155033; -0.11696 0.0282898 … -0.00463887 0.00463739; … ; -0.0661055 0.0607077 … -0.047901 0.0398093; -0.0480969 0.046793 … 0.0547914 0.209755],Transformation(sigmoid,dsigmoid),0.01),Dict{Any,Any}(),Tree[Tree(:xxs,Dict{Any,Any}(),Tree[]),Tree(:xs,Dict{Any,Any}(),Tree[])]),Tree(DFunction(Class[Class(\"Sensor\",100),Class(\"List_Sensor\",70)],Class(\"List_Sensor\",70),[-0.0478205 0.210448 … -0.0367765 -0.0568566; 0.0687008 0.0680562 … -0.00742547 0.0326543; … ; 0.0354132 -0.0833955 … 0.00737178 0.0304305; -0.0665069 0.0519551 … 0.0926316 0.0435637],Transformation(sigmoid,dsigmoid),0.01),Dict{Any,Any}(),Tree[Tree(DFunction(Class[Class(\"List_Sensor\",70)],Class(\"Sensor\",100),[-0.0300245 0.0874222 … -0.0889879 0.0131396; -0.0296792 -0.0114043 … -0.113019 -0.1596; … ; -0.164922 -0.00853376 … 0.0733155 0.0825224; 0.0749854 0.0309507 … 0.164426 -0.0965762],Transformation(sigmoid,dsigmoid),0.01),Dict{Any,Any}(),Tree[Tree(:xxs,Dict{Any,Any}(),Tree[])]),Tree(:xs,Dict{Any,Any}(),Tree[])]),Dict{Any,Any}(Pair{Any,Any}(:xxs,Any[Tree(:xxs,Dict{Any,Any}(),Tree[]),Tree(:xxs,Dict{Any,Any}(),Tree[])]),Pair{Any,Any}(:xs,Any[Tree(:xs,Dict{Any,Any}(),Tree[]),Tree(:xs,Dict{Any,Any}(),Tree[])]),Pair{Any,Any}(DFunction(Class[Class(\"List_Sensor\",70),Class(\"List_Sensor\",70)],Class(\"List_Sensor\",70),[0.00236088 0.06155 … 0.0948505 0.0155033; -0.11696 0.0282898 … -0.00463887 0.00463739; … ; -0.0661055 0.0607077 … -0.047901 0.0398093; -0.0480969 0.046793 … 0.0547914 0.209755],Transformation(sigmoid,dsigmoid),0.01),Tree[Tree(DFunction(Class[Class(\"List_Sensor\",70),Class(\"List_Sensor\",70)],Class(\"List_Sensor\",70),[0.00236088 0.06155 … 0.0948505 0.0155033; -0.11696 0.0282898 … -0.00463887 0.00463739; … ; -0.0661055 0.0607077 … -0.047901 0.0398093; -0.0480969 0.046793 … 0.0547914 0.209755],Transformation(sigmoid,dsigmoid),0.01),Dict{Any,Any}(),Tree[Tree(:xxs,Dict{Any,Any}(),Tree[]),Tree(:xs,Dict{Any,Any}(),Tree[])])]),Pair{Any,Any}(DFunction(Class[Class(\"Sensor\",100),Class(\"List_Sensor\",70)],Class(\"List_Sensor\",70),[-0.0478205 0.210448 … -0.0367765 -0.0568566; 0.0687008 0.0680562 … -0.00742547 0.0326543; … ; 0.0354132 -0.0833955 … 0.00737178 0.0304305; -0.0665069 0.0519551 … 0.0926316 0.0435637],Transformation(sigmoid,dsigmoid),0.01),Any[Tree(DFunction(Class[Class(\"Sensor\",100),Class(\"List_Sensor\",70)],Class(\"List_Sensor\",70),[-0.0478205 0.210448 … -0.0367765 -0.0568566; 0.0687008 0.0680562 … -0.00742547 0.0326543; … ; 0.0354132 -0.0833955 … 0.00737178 0.0304305; -0.0665069 0.0519551 … 0.0926316 0.0435637],Transformation(sigmoid,dsigmoid),0.01),Dict{Any,Any}(),Tree[Tree(DFunction(Class[Class(\"List_Sensor\",70)],Class(\"Sensor\",100),[-0.0300245 0.0874222 … -0.0889879 0.0131396; -0.0296792 -0.0114043 … -0.113019 -0.1596; … ; -0.164922 -0.00853376 … 0.0733155 0.0825224; 0.0749854 0.0309507 … 0.164426 -0.0965762],Transformation(sigmoid,dsigmoid),0.01),Dict{Any,Any}(),Tree[Tree(:xxs,Dict{Any,Any}(),Tree[])]),Tree(:xs,Dict{Any,Any}(),Tree[])])]),Pair{Any,Any}(DFunction(Class[Class(\"List_Sensor\",70)],Class(\"Sensor\",100),[-0.0300245 0.0874222 … -0.0889879 0.0131396; -0.0296792 -0.0114043 … -0.113019 -0.1596; … ; -0.164922 -0.00853376 … 0.0733155 0.0825224; 0.0749854 0.0309507 … 0.164426 -0.0965762],Transformation(sigmoid,dsigmoid),0.01),Any[Tree(DFunction(Class[Class(\"List_Sensor\",70)],Class(\"Sensor\",100),[-0.0300245 0.0874222 … -0.0889879 0.0131396; -0.0296792 -0.0114043 … -0.113019 -0.1596; … ; -0.164922 -0.00853376 … 0.0733155 0.0825224; 0.0749854 0.0309507 … 0.164426 -0.0965762],Transformation(sigmoid,dsigmoid),0.01),Dict{Any,Any}(),Tree[Tree(:xxs,Dict{Any,Any}(),Tree[])])]))))"
      ]
     },
     "execution_count": 17,
     "metadata": {},
     "output_type": "execute_result"
    }
   ],
   "source": [
    "type List\n",
    "    class :: Class\n",
    "    \n",
    "    empty :: Object\n",
    "\n",
    "    cons :: DFunction\n",
    "    first :: DFunction\n",
    "    rest :: DFunction\n",
    "    first! :: DFunction\n",
    "    rest! :: DFunction\n",
    "    \n",
    "    axiom_first :: Axiom\n",
    "    axiom_rest :: Axiom\n",
    "    axiom_first! :: Axiom\n",
    "    axiom_rest! :: Axiom\n",
    "end\n",
    "\n",
    "function List(class :: Class, type_len :: Int64)\n",
    "    list_name = string(\"List\", \"_\", class.class_name)\n",
    "    lclass = Class(list_name, type_len)\n",
    "    \n",
    "    empty = Object(lclass)\n",
    "    empty.value .= 0.\n",
    "    \n",
    "    cons = DFunction([class, lclass], lclass)\n",
    "    first = DFunction([lclass], class)\n",
    "    rest = DFunction([lclass], lclass)\n",
    "    first! = DFunction([lclass, class], lclass)\n",
    "    rest! = DFunction([lclass, lclass], lclass)\n",
    "    \n",
    "    axiom_first = Axiom([first, [cons, :x, :xs]], :x)\n",
    "    axiom_rest = Axiom([rest, [cons, :x, :xs]], :xs)\n",
    "    axiom_first! = Axiom([first!, :xxs, :x], [cons, :x, [rest, :xxs]])\n",
    "    axiom_rest! = Axiom([rest!, :xxs, :xs], [cons, [first, :xxs], :xs])\n",
    "    \n",
    "    List(lclass, empty, cons, first, rest, first!, rest!, axiom_first, axiom_rest, axiom_first!, axiom_rest!)\n",
    "end\n",
    "\n",
    "@time l = List(Sensor, 70)"
   ]
  },
  {
   "cell_type": "code",
   "execution_count": 22,
   "metadata": {
    "collapsed": false
   },
   "outputs": [
    {
     "data": {
      "text/plain": [
       "List(Class(\"List_List_Pair_Variable_LambdaTerm\",200),Object(Class(\"List_List_Pair_Variable_LambdaTerm\",200),[0.0,0.0,0.0,0.0,0.0,0.0,0.0,0.0,0.0,0.0  …  0.0,0.0,0.0,0.0,0.0,0.0,0.0,0.0,0.0,0.0]),DFunction(Class[Class(\"List_Pair_Variable_LambdaTerm\",100),Class(\"List_List_Pair_Variable_LambdaTerm\",200)],Class(\"List_List_Pair_Variable_LambdaTerm\",200),[0.0219447 0.00255691 … 0.109151 0.0401103; 0.0106217 0.00593834 … 0.0782847 -0.00735332; … ; 0.0307018 0.0553384 … 0.098546 0.0143964; -0.105442 0.0076203 … -0.0140332 -0.0492025],Transformation(sigmoid,dsigmoid),0.01),DFunction(Class[Class(\"List_List_Pair_Variable_LambdaTerm\",200)],Class(\"List_Pair_Variable_LambdaTerm\",100),[0.0298028 -0.00290223 … -0.0244336 0.03121; -0.0246511 0.0841432 … -0.126051 -0.0497068; … ; -0.0296114 -0.14479 … 0.033668 -0.0920792; -0.0348156 0.0464107 … 0.0591687 0.0752593],Transformation(sigmoid,dsigmoid),0.01),DFunction(Class[Class(\"List_List_Pair_Variable_LambdaTerm\",200)],Class(\"List_List_Pair_Variable_LambdaTerm\",200),[-0.150435 0.0563645 … -0.0585662 0.0436899; 0.0082273 0.029464 … -0.0577243 -0.0481128; … ; -0.0600313 -0.137223 … 0.15946 -0.130665; 0.0204283 -0.143614 … 0.026437 0.0387711],Transformation(sigmoid,dsigmoid),0.01),DFunction(Class[Class(\"List_List_Pair_Variable_LambdaTerm\",200),Class(\"List_Pair_Variable_LambdaTerm\",100)],Class(\"List_List_Pair_Variable_LambdaTerm\",200),[0.0210711 -0.0131441 … 0.0622463 0.0655766; 0.118109 -0.0299965 … 0.0519984 -0.0821272; … ; -0.0302408 0.0881542 … -0.104406 0.0493678; 0.123108 -0.0855947 … -0.0273336 -0.0666056],Transformation(sigmoid,dsigmoid),0.01),DFunction(Class[Class(\"List_List_Pair_Variable_LambdaTerm\",200),Class(\"List_List_Pair_Variable_LambdaTerm\",200)],Class(\"List_List_Pair_Variable_LambdaTerm\",200),[0.0869364 -0.0627386 … 0.0549656 -0.0271867; -0.0629699 0.0535336 … 0.0345124 -0.0724735; … ; 0.0957401 0.0597516 … 0.0162612 -0.0773167; -0.0213006 0.123978 … 0.022468 -0.1089],Transformation(sigmoid,dsigmoid),0.01),Axiom(Tree(DFunction(Class[Class(\"List_List_Pair_Variable_LambdaTerm\",200)],Class(\"List_Pair_Variable_LambdaTerm\",100),[0.0298028 -0.00290223 … -0.0244336 0.03121; -0.0246511 0.0841432 … -0.126051 -0.0497068; … ; -0.0296114 -0.14479 … 0.033668 -0.0920792; -0.0348156 0.0464107 … 0.0591687 0.0752593],Transformation(sigmoid,dsigmoid),0.01),Dict{Any,Any}(),Tree[Tree(DFunction(Class[Class(\"List_Pair_Variable_LambdaTerm\",100),Class(\"List_List_Pair_Variable_LambdaTerm\",200)],Class(\"List_List_Pair_Variable_LambdaTerm\",200),[0.0219447 0.00255691 … 0.109151 0.0401103; 0.0106217 0.00593834 … 0.0782847 -0.00735332; … ; 0.0307018 0.0553384 … 0.098546 0.0143964; -0.105442 0.0076203 … -0.0140332 -0.0492025],Transformation(sigmoid,dsigmoid),0.01),Dict{Any,Any}(),Tree[Tree(:x,Dict{Any,Any}(),Tree[]),Tree(:xs,Dict{Any,Any}(),Tree[])])]),Tree(:x,Dict{Any,Any}(),Tree[]),Dict{Any,Any}(Pair{Any,Any}(DFunction(Class[Class(\"List_List_Pair_Variable_LambdaTerm\",200)],Class(\"List_Pair_Variable_LambdaTerm\",100),[0.0298028 -0.00290223 … -0.0244336 0.03121; -0.0246511 0.0841432 … -0.126051 -0.0497068; … ; -0.0296114 -0.14479 … 0.033668 -0.0920792; -0.0348156 0.0464107 … 0.0591687 0.0752593],Transformation(sigmoid,dsigmoid),0.01),Tree[Tree(DFunction(Class[Class(\"List_List_Pair_Variable_LambdaTerm\",200)],Class(\"List_Pair_Variable_LambdaTerm\",100),[0.0298028 -0.00290223 … -0.0244336 0.03121; -0.0246511 0.0841432 … -0.126051 -0.0497068; … ; -0.0296114 -0.14479 … 0.033668 -0.0920792; -0.0348156 0.0464107 … 0.0591687 0.0752593],Transformation(sigmoid,dsigmoid),0.01),Dict{Any,Any}(),Tree[Tree(DFunction(Class[Class(\"List_Pair_Variable_LambdaTerm\",100),Class(\"List_List_Pair_Variable_LambdaTerm\",200)],Class(\"List_List_Pair_Variable_LambdaTerm\",200),[0.0219447 0.00255691 … 0.109151 0.0401103; 0.0106217 0.00593834 … 0.0782847 -0.00735332; … ; 0.0307018 0.0553384 … 0.098546 0.0143964; -0.105442 0.0076203 … -0.0140332 -0.0492025],Transformation(sigmoid,dsigmoid),0.01),Dict{Any,Any}(),Tree[Tree(:x,Dict{Any,Any}(),Tree[]),Tree(:xs,Dict{Any,Any}(),Tree[])])])]),Pair{Any,Any}(DFunction(Class[Class(\"List_Pair_Variable_LambdaTerm\",100),Class(\"List_List_Pair_Variable_LambdaTerm\",200)],Class(\"List_List_Pair_Variable_LambdaTerm\",200),[0.0219447 0.00255691 … 0.109151 0.0401103; 0.0106217 0.00593834 … 0.0782847 -0.00735332; … ; 0.0307018 0.0553384 … 0.098546 0.0143964; -0.105442 0.0076203 … -0.0140332 -0.0492025],Transformation(sigmoid,dsigmoid),0.01),Any[Tree(DFunction(Class[Class(\"List_Pair_Variable_LambdaTerm\",100),Class(\"List_List_Pair_Variable_LambdaTerm\",200)],Class(\"List_List_Pair_Variable_LambdaTerm\",200),[0.0219447 0.00255691 … 0.109151 0.0401103; 0.0106217 0.00593834 … 0.0782847 -0.00735332; … ; 0.0307018 0.0553384 … 0.098546 0.0143964; -0.105442 0.0076203 … -0.0140332 -0.0492025],Transformation(sigmoid,dsigmoid),0.01),Dict{Any,Any}(),Tree[Tree(:x,Dict{Any,Any}(),Tree[]),Tree(:xs,Dict{Any,Any}(),Tree[])])]),Pair{Any,Any}(:x,Any[Tree(:x,Dict{Any,Any}(),Tree[]),Tree(:x,Dict{Any,Any}(),Tree[])]),Pair{Any,Any}(:xs,Any[Tree(:xs,Dict{Any,Any}(),Tree[])]))),Axiom(Tree(DFunction(Class[Class(\"List_List_Pair_Variable_LambdaTerm\",200)],Class(\"List_List_Pair_Variable_LambdaTerm\",200),[-0.150435 0.0563645 … -0.0585662 0.0436899; 0.0082273 0.029464 … -0.0577243 -0.0481128; … ; -0.0600313 -0.137223 … 0.15946 -0.130665; 0.0204283 -0.143614 … 0.026437 0.0387711],Transformation(sigmoid,dsigmoid),0.01),Dict{Any,Any}(),Tree[Tree(DFunction(Class[Class(\"List_Pair_Variable_LambdaTerm\",100),Class(\"List_List_Pair_Variable_LambdaTerm\",200)],Class(\"List_List_Pair_Variable_LambdaTerm\",200),[0.0219447 0.00255691 … 0.109151 0.0401103; 0.0106217 0.00593834 … 0.0782847 -0.00735332; … ; 0.0307018 0.0553384 … 0.098546 0.0143964; -0.105442 0.0076203 … -0.0140332 -0.0492025],Transformation(sigmoid,dsigmoid),0.01),Dict{Any,Any}(),Tree[Tree(:x,Dict{Any,Any}(),Tree[]),Tree(:xs,Dict{Any,Any}(),Tree[])])]),Tree(:xs,Dict{Any,Any}(),Tree[]),Dict{Any,Any}(Pair{Any,Any}(DFunction(Class[Class(\"List_List_Pair_Variable_LambdaTerm\",200)],Class(\"List_List_Pair_Variable_LambdaTerm\",200),[-0.150435 0.0563645 … -0.0585662 0.0436899; 0.0082273 0.029464 … -0.0577243 -0.0481128; … ; -0.0600313 -0.137223 … 0.15946 -0.130665; 0.0204283 -0.143614 … 0.026437 0.0387711],Transformation(sigmoid,dsigmoid),0.01),Tree[Tree(DFunction(Class[Class(\"List_List_Pair_Variable_LambdaTerm\",200)],Class(\"List_List_Pair_Variable_LambdaTerm\",200),[-0.150435 0.0563645 … -0.0585662 0.0436899; 0.0082273 0.029464 … -0.0577243 -0.0481128; … ; -0.0600313 -0.137223 … 0.15946 -0.130665; 0.0204283 -0.143614 … 0.026437 0.0387711],Transformation(sigmoid,dsigmoid),0.01),Dict{Any,Any}(),Tree[Tree(DFunction(Class[Class(\"List_Pair_Variable_LambdaTerm\",100),Class(\"List_List_Pair_Variable_LambdaTerm\",200)],Class(\"List_List_Pair_Variable_LambdaTerm\",200),[0.0219447 0.00255691 … 0.109151 0.0401103; 0.0106217 0.00593834 … 0.0782847 -0.00735332; … ; 0.0307018 0.0553384 … 0.098546 0.0143964; -0.105442 0.0076203 … -0.0140332 -0.0492025],Transformation(sigmoid,dsigmoid),0.01),Dict{Any,Any}(),Tree[Tree(:x,Dict{Any,Any}(),Tree[]),Tree(:xs,Dict{Any,Any}(),Tree[])])])]),Pair{Any,Any}(DFunction(Class[Class(\"List_Pair_Variable_LambdaTerm\",100),Class(\"List_List_Pair_Variable_LambdaTerm\",200)],Class(\"List_List_Pair_Variable_LambdaTerm\",200),[0.0219447 0.00255691 … 0.109151 0.0401103; 0.0106217 0.00593834 … 0.0782847 -0.00735332; … ; 0.0307018 0.0553384 … 0.098546 0.0143964; -0.105442 0.0076203 … -0.0140332 -0.0492025],Transformation(sigmoid,dsigmoid),0.01),Any[Tree(DFunction(Class[Class(\"List_Pair_Variable_LambdaTerm\",100),Class(\"List_List_Pair_Variable_LambdaTerm\",200)],Class(\"List_List_Pair_Variable_LambdaTerm\",200),[0.0219447 0.00255691 … 0.109151 0.0401103; 0.0106217 0.00593834 … 0.0782847 -0.00735332; … ; 0.0307018 0.0553384 … 0.098546 0.0143964; -0.105442 0.0076203 … -0.0140332 -0.0492025],Transformation(sigmoid,dsigmoid),0.01),Dict{Any,Any}(),Tree[Tree(:x,Dict{Any,Any}(),Tree[]),Tree(:xs,Dict{Any,Any}(),Tree[])])]),Pair{Any,Any}(:x,Any[Tree(:x,Dict{Any,Any}(),Tree[])]),Pair{Any,Any}(:xs,Any[Tree(:xs,Dict{Any,Any}(),Tree[]),Tree(:xs,Dict{Any,Any}(),Tree[])]))),Axiom(Tree(DFunction(Class[Class(\"List_List_Pair_Variable_LambdaTerm\",200),Class(\"List_Pair_Variable_LambdaTerm\",100)],Class(\"List_List_Pair_Variable_LambdaTerm\",200),[0.0210711 -0.0131441 … 0.0622463 0.0655766; 0.118109 -0.0299965 … 0.0519984 -0.0821272; … ; -0.0302408 0.0881542 … -0.104406 0.0493678; 0.123108 -0.0855947 … -0.0273336 -0.0666056],Transformation(sigmoid,dsigmoid),0.01),Dict{Any,Any}(),Tree[Tree(:xxs,Dict{Any,Any}(),Tree[]),Tree(:x,Dict{Any,Any}(),Tree[])]),Tree(DFunction(Class[Class(\"List_Pair_Variable_LambdaTerm\",100),Class(\"List_List_Pair_Variable_LambdaTerm\",200)],Class(\"List_List_Pair_Variable_LambdaTerm\",200),[0.0219447 0.00255691 … 0.109151 0.0401103; 0.0106217 0.00593834 … 0.0782847 -0.00735332; … ; 0.0307018 0.0553384 … 0.098546 0.0143964; -0.105442 0.0076203 … -0.0140332 -0.0492025],Transformation(sigmoid,dsigmoid),0.01),Dict{Any,Any}(),Tree[Tree(:x,Dict{Any,Any}(),Tree[]),Tree(DFunction(Class[Class(\"List_List_Pair_Variable_LambdaTerm\",200)],Class(\"List_List_Pair_Variable_LambdaTerm\",200),[-0.150435 0.0563645 … -0.0585662 0.0436899; 0.0082273 0.029464 … -0.0577243 -0.0481128; … ; -0.0600313 -0.137223 … 0.15946 -0.130665; 0.0204283 -0.143614 … 0.026437 0.0387711],Transformation(sigmoid,dsigmoid),0.01),Dict{Any,Any}(),Tree[Tree(:xxs,Dict{Any,Any}(),Tree[])])]),Dict{Any,Any}(Pair{Any,Any}(DFunction(Class[Class(\"List_List_Pair_Variable_LambdaTerm\",200),Class(\"List_Pair_Variable_LambdaTerm\",100)],Class(\"List_List_Pair_Variable_LambdaTerm\",200),[0.0210711 -0.0131441 … 0.0622463 0.0655766; 0.118109 -0.0299965 … 0.0519984 -0.0821272; … ; -0.0302408 0.0881542 … -0.104406 0.0493678; 0.123108 -0.0855947 … -0.0273336 -0.0666056],Transformation(sigmoid,dsigmoid),0.01),Tree[Tree(DFunction(Class[Class(\"List_List_Pair_Variable_LambdaTerm\",200),Class(\"List_Pair_Variable_LambdaTerm\",100)],Class(\"List_List_Pair_Variable_LambdaTerm\",200),[0.0210711 -0.0131441 … 0.0622463 0.0655766; 0.118109 -0.0299965 … 0.0519984 -0.0821272; … ; -0.0302408 0.0881542 … -0.104406 0.0493678; 0.123108 -0.0855947 … -0.0273336 -0.0666056],Transformation(sigmoid,dsigmoid),0.01),Dict{Any,Any}(),Tree[Tree(:xxs,Dict{Any,Any}(),Tree[]),Tree(:x,Dict{Any,Any}(),Tree[])])]),Pair{Any,Any}(:xxs,Any[Tree(:xxs,Dict{Any,Any}(),Tree[]),Tree(:xxs,Dict{Any,Any}(),Tree[])]),Pair{Any,Any}(DFunction(Class[Class(\"List_List_Pair_Variable_LambdaTerm\",200)],Class(\"List_List_Pair_Variable_LambdaTerm\",200),[-0.150435 0.0563645 … -0.0585662 0.0436899; 0.0082273 0.029464 … -0.0577243 -0.0481128; … ; -0.0600313 -0.137223 … 0.15946 -0.130665; 0.0204283 -0.143614 … 0.026437 0.0387711],Transformation(sigmoid,dsigmoid),0.01),Any[Tree(DFunction(Class[Class(\"List_List_Pair_Variable_LambdaTerm\",200)],Class(\"List_List_Pair_Variable_LambdaTerm\",200),[-0.150435 0.0563645 … -0.0585662 0.0436899; 0.0082273 0.029464 … -0.0577243 -0.0481128; … ; -0.0600313 -0.137223 … 0.15946 -0.130665; 0.0204283 -0.143614 … 0.026437 0.0387711],Transformation(sigmoid,dsigmoid),0.01),Dict{Any,Any}(),Tree[Tree(:xxs,Dict{Any,Any}(),Tree[])])]),Pair{Any,Any}(:x,Any[Tree(:x,Dict{Any,Any}(),Tree[]),Tree(:x,Dict{Any,Any}(),Tree[])]),Pair{Any,Any}(DFunction(Class[Class(\"List_Pair_Variable_LambdaTerm\",100),Class(\"List_List_Pair_Variable_LambdaTerm\",200)],Class(\"List_List_Pair_Variable_LambdaTerm\",200),[0.0219447 0.00255691 … 0.109151 0.0401103; 0.0106217 0.00593834 … 0.0782847 -0.00735332; … ; 0.0307018 0.0553384 … 0.098546 0.0143964; -0.105442 0.0076203 … -0.0140332 -0.0492025],Transformation(sigmoid,dsigmoid),0.01),Any[Tree(DFunction(Class[Class(\"List_Pair_Variable_LambdaTerm\",100),Class(\"List_List_Pair_Variable_LambdaTerm\",200)],Class(\"List_List_Pair_Variable_LambdaTerm\",200),[0.0219447 0.00255691 … 0.109151 0.0401103; 0.0106217 0.00593834 … 0.0782847 -0.00735332; … ; 0.0307018 0.0553384 … 0.098546 0.0143964; -0.105442 0.0076203 … -0.0140332 -0.0492025],Transformation(sigmoid,dsigmoid),0.01),Dict{Any,Any}(),Tree[Tree(:x,Dict{Any,Any}(),Tree[]),Tree(DFunction(Class[Class(\"List_List_Pair_Variable_LambdaTerm\",200)],Class(\"List_List_Pair_Variable_LambdaTerm\",200),[-0.150435 0.0563645 … -0.0585662 0.0436899; 0.0082273 0.029464 … -0.0577243 -0.0481128; … ; -0.0600313 -0.137223 … 0.15946 -0.130665; 0.0204283 -0.143614 … 0.026437 0.0387711],Transformation(sigmoid,dsigmoid),0.01),Dict{Any,Any}(),Tree[Tree(:xxs,Dict{Any,Any}(),Tree[])])])]))),Axiom(Tree(DFunction(Class[Class(\"List_List_Pair_Variable_LambdaTerm\",200),Class(\"List_List_Pair_Variable_LambdaTerm\",200)],Class(\"List_List_Pair_Variable_LambdaTerm\",200),[0.0869364 -0.0627386 … 0.0549656 -0.0271867; -0.0629699 0.0535336 … 0.0345124 -0.0724735; … ; 0.0957401 0.0597516 … 0.0162612 -0.0773167; -0.0213006 0.123978 … 0.022468 -0.1089],Transformation(sigmoid,dsigmoid),0.01),Dict{Any,Any}(),Tree[Tree(:xxs,Dict{Any,Any}(),Tree[]),Tree(:xs,Dict{Any,Any}(),Tree[])]),Tree(DFunction(Class[Class(\"List_Pair_Variable_LambdaTerm\",100),Class(\"List_List_Pair_Variable_LambdaTerm\",200)],Class(\"List_List_Pair_Variable_LambdaTerm\",200),[0.0219447 0.00255691 … 0.109151 0.0401103; 0.0106217 0.00593834 … 0.0782847 -0.00735332; … ; 0.0307018 0.0553384 … 0.098546 0.0143964; -0.105442 0.0076203 … -0.0140332 -0.0492025],Transformation(sigmoid,dsigmoid),0.01),Dict{Any,Any}(),Tree[Tree(DFunction(Class[Class(\"List_List_Pair_Variable_LambdaTerm\",200)],Class(\"List_Pair_Variable_LambdaTerm\",100),[0.0298028 -0.00290223 … -0.0244336 0.03121; -0.0246511 0.0841432 … -0.126051 -0.0497068; … ; -0.0296114 -0.14479 … 0.033668 -0.0920792; -0.0348156 0.0464107 … 0.0591687 0.0752593],Transformation(sigmoid,dsigmoid),0.01),Dict{Any,Any}(),Tree[Tree(:xxs,Dict{Any,Any}(),Tree[])]),Tree(:xs,Dict{Any,Any}(),Tree[])]),Dict{Any,Any}(Pair{Any,Any}(:xxs,Any[Tree(:xxs,Dict{Any,Any}(),Tree[]),Tree(:xxs,Dict{Any,Any}(),Tree[])]),Pair{Any,Any}(DFunction(Class[Class(\"List_List_Pair_Variable_LambdaTerm\",200),Class(\"List_List_Pair_Variable_LambdaTerm\",200)],Class(\"List_List_Pair_Variable_LambdaTerm\",200),[0.0869364 -0.0627386 … 0.0549656 -0.0271867; -0.0629699 0.0535336 … 0.0345124 -0.0724735; … ; 0.0957401 0.0597516 … 0.0162612 -0.0773167; -0.0213006 0.123978 … 0.022468 -0.1089],Transformation(sigmoid,dsigmoid),0.01),Tree[Tree(DFunction(Class[Class(\"List_List_Pair_Variable_LambdaTerm\",200),Class(\"List_List_Pair_Variable_LambdaTerm\",200)],Class(\"List_List_Pair_Variable_LambdaTerm\",200),[0.0869364 -0.0627386 … 0.0549656 -0.0271867; -0.0629699 0.0535336 … 0.0345124 -0.0724735; … ; 0.0957401 0.0597516 … 0.0162612 -0.0773167; -0.0213006 0.123978 … 0.022468 -0.1089],Transformation(sigmoid,dsigmoid),0.01),Dict{Any,Any}(),Tree[Tree(:xxs,Dict{Any,Any}(),Tree[]),Tree(:xs,Dict{Any,Any}(),Tree[])])]),Pair{Any,Any}(DFunction(Class[Class(\"List_List_Pair_Variable_LambdaTerm\",200)],Class(\"List_Pair_Variable_LambdaTerm\",100),[0.0298028 -0.00290223 … -0.0244336 0.03121; -0.0246511 0.0841432 … -0.126051 -0.0497068; … ; -0.0296114 -0.14479 … 0.033668 -0.0920792; -0.0348156 0.0464107 … 0.0591687 0.0752593],Transformation(sigmoid,dsigmoid),0.01),Any[Tree(DFunction(Class[Class(\"List_List_Pair_Variable_LambdaTerm\",200)],Class(\"List_Pair_Variable_LambdaTerm\",100),[0.0298028 -0.00290223 … -0.0244336 0.03121; -0.0246511 0.0841432 … -0.126051 -0.0497068; … ; -0.0296114 -0.14479 … 0.033668 -0.0920792; -0.0348156 0.0464107 … 0.0591687 0.0752593],Transformation(sigmoid,dsigmoid),0.01),Dict{Any,Any}(),Tree[Tree(:xxs,Dict{Any,Any}(),Tree[])])]),Pair{Any,Any}(DFunction(Class[Class(\"List_Pair_Variable_LambdaTerm\",100),Class(\"List_List_Pair_Variable_LambdaTerm\",200)],Class(\"List_List_Pair_Variable_LambdaTerm\",200),[0.0219447 0.00255691 … 0.109151 0.0401103; 0.0106217 0.00593834 … 0.0782847 -0.00735332; … ; 0.0307018 0.0553384 … 0.098546 0.0143964; -0.105442 0.0076203 … -0.0140332 -0.0492025],Transformation(sigmoid,dsigmoid),0.01),Any[Tree(DFunction(Class[Class(\"List_Pair_Variable_LambdaTerm\",100),Class(\"List_List_Pair_Variable_LambdaTerm\",200)],Class(\"List_List_Pair_Variable_LambdaTerm\",200),[0.0219447 0.00255691 … 0.109151 0.0401103; 0.0106217 0.00593834 … 0.0782847 -0.00735332; … ; 0.0307018 0.0553384 … 0.098546 0.0143964; -0.105442 0.0076203 … -0.0140332 -0.0492025],Transformation(sigmoid,dsigmoid),0.01),Dict{Any,Any}(),Tree[Tree(DFunction(Class[Class(\"List_List_Pair_Variable_LambdaTerm\",200)],Class(\"List_Pair_Variable_LambdaTerm\",100),[0.0298028 -0.00290223 … -0.0244336 0.03121; -0.0246511 0.0841432 … -0.126051 -0.0497068; … ; -0.0296114 -0.14479 … 0.033668 -0.0920792; -0.0348156 0.0464107 … 0.0591687 0.0752593],Transformation(sigmoid,dsigmoid),0.01),Dict{Any,Any}(),Tree[Tree(:xxs,Dict{Any,Any}(),Tree[])]),Tree(:xs,Dict{Any,Any}(),Tree[])])]),Pair{Any,Any}(:xs,Any[Tree(:xs,Dict{Any,Any}(),Tree[]),Tree(:xs,Dict{Any,Any}(),Tree[])]))))"
      ]
     },
     "execution_count": 22,
     "metadata": {},
     "output_type": "execute_result"
    }
   ],
   "source": [
    "## Binding, Frame and Environment\n",
    "\n",
    "Binding = Pair(Variable, LambdaTerm, 100)\n",
    "Frame = List(Binding.class, 100)\n",
    "Environment = List(Frame.class, 200)\n"
   ]
  },
  {
   "cell_type": "code",
   "execution_count": null,
   "metadata": {
    "collapsed": true
   },
   "outputs": [],
   "source": []
  }
 ],
 "metadata": {
  "anaconda-cloud": {},
  "kernelspec": {
   "display_name": "Julia 0.5.0",
   "language": "julia",
   "name": "julia-0.5"
  },
  "language_info": {
   "file_extension": ".jl",
   "mimetype": "application/julia",
   "name": "julia",
   "version": "0.5.0"
  }
 },
 "nbformat": 4,
 "nbformat_minor": 1
}
