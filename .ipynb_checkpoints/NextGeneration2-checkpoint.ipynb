{
 "cells": [
  {
   "cell_type": "code",
   "execution_count": 1,
   "metadata": {
    "collapsed": false
   },
   "outputs": [
    {
     "data": {
      "text/plain": [
       "Transformation(identity,one)"
      ]
     },
     "execution_count": 1,
     "metadata": {},
     "output_type": "execute_result"
    }
   ],
   "source": [
    "immutable Transformation\n",
    "    self :: Function\n",
    "    deriv :: Function\n",
    "end\n",
    "\n",
    "import Core.eval\n",
    "\n",
    "function eval(transformation :: Transformation)\n",
    "    transformation.self\n",
    "end\n",
    "\n",
    "function deriv(transformation :: Transformation)\n",
    "    transformation.deriv\n",
    "end\n",
    "\n",
    "function sigmoid(x)\n",
    "        1. / (1. + exp(-x)) - 0.5\n",
    "end\n",
    "\n",
    "function dsigmoid(x)\n",
    "    exp(-x) / (1. + exp(-x)) ^ 2\n",
    "end\n",
    "\n",
    "const Sigmoid = Transformation(sigmoid, dsigmoid)\n",
    "\n",
    "const Identity = Transformation(identity, one) "
   ]
  },
  {
   "cell_type": "code",
   "execution_count": 2,
   "metadata": {
    "collapsed": false
   },
   "outputs": [
    {
     "data": {
      "text/plain": [
       "apply! (generic function with 1 method)"
      ]
     },
     "execution_count": 2,
     "metadata": {},
     "output_type": "execute_result"
    }
   ],
   "source": [
    "function calc_norm(array :: Matrix{Float64})\n",
    "  sqrt(sumabs2(array) / size(array, 1))\n",
    "end\n",
    "\n",
    "function calc_norm(vector :: Array{Float64, 1})\n",
    "  sqrt(sumabs2(vector))\n",
    "end\n",
    "\n",
    "function restriction(vector)\n",
    "  vector / (calc_norm(vector) + 0.001)\n",
    "end\n",
    "\n",
    "function init(a...)\n",
    "    restriction(randn(a...))\n",
    "end\n",
    "\n",
    "const DefaultRate = 0.01\n",
    "\n",
    "immutable Class\n",
    "    class_name :: String\n",
    "    type_len :: Int64\n",
    "end\n",
    "\n",
    "type Object\n",
    "    class :: Class\n",
    "    value :: Array{Float64, 1}\n",
    "end\n",
    "\n",
    "Object(class :: Class) = Object(class, init(class.type_len))\n",
    "\n",
    "type DFunction\n",
    "    in_classes :: Array{Class, 1}\n",
    "    out_class :: Class\n",
    "    f_matrix :: Matrix{Float64}\n",
    "    f_transformation :: Transformation\n",
    "    learning_rate :: Float64\n",
    "end\n",
    "\n",
    "function LFunction(in_classes :: Array{Class, 1}, out_class :: Class, learning_rate = DefaultRate)\n",
    "    in_len = sum([class.type_len for class in in_classes])\n",
    "    out_len = out_class.type_len\n",
    "    DFunction(in_classes, out_class, init(out_len, in_len), Identity, learning_rate)\n",
    "end\n",
    "\n",
    "function SFunction(in_classes :: Array{Class, 1}, out_class :: Class, learning_rate = DefaultRate)\n",
    "    in_len = sum([class.type_len for class in in_classes])\n",
    "    out_len = out_class.type_len\n",
    "    DFunction(in_classes, out_class, init(out_len, in_len), Sigmoid, learning_rate)\n",
    "end\n",
    "\n",
    "function DFunction(in_classes :: Array{Class, 1}, out_class :: Class, f_transformation = Sigmoid, learning_rate = DefaultRate)\n",
    "    in_len = sum([class.type_len for class in in_classes])\n",
    "    out_len = out_class.type_len\n",
    "    DFunction(in_classes, out_class, init(out_len, in_len), f_transformation, learning_rate)\n",
    "end\n",
    "\n",
    "function CoFunction(in_class :: Class, f_transformation = Sigmoid)\n",
    "    DFunction([in_class], in_class, diagm(ones(in_class.type_len)), f_transformation, 0.0)\n",
    "end\n",
    "\n",
    "function apply(func :: DFunction, objs :: Array{Object, 1})\n",
    "    inputs = vcat([obj.value for obj in objs]...)\n",
    "    outputs = eval(func.f_transformation).(func.f_matrix * inputs)\n",
    "    Object(func.out_class, outputs)\n",
    "end\n",
    "\n",
    "function apply!(func :: DFunction, in_objs :: Array{Object, 1}, out_obj :: Object)\n",
    "    inputs = vcat([obj.value for obj in in_objs]...)\n",
    "    out_obj.value .= eval(func.f_transformation).(func.f_matrix * inputs)\n",
    "end"
   ]
  },
  {
   "cell_type": "code",
   "execution_count": 3,
   "metadata": {
    "collapsed": false
   },
   "outputs": [
    {
     "data": {
      "text/plain": [
       "Object(Class(\"Action\",120),[-0.0187755,0.0378905,-0.0149301,-0.027222,-0.0352829,0.0132684,-0.0470684,-0.0338057,-0.0172259,0.0337724  …  -0.0376561,-0.00874177,0.027809,-0.0123625,-0.0189783,-0.0172338,0.032444,-0.0136044,-0.000487692,-0.00395557])"
      ]
     },
     "execution_count": 3,
     "metadata": {},
     "output_type": "execute_result"
    }
   ],
   "source": [
    "Sensor = Class(\"Sensor\", 100)\n",
    "sensor = Object(Sensor)\n",
    "Action = Class(\"Action\", 120)\n",
    "action = Object(Action)\n",
    "act = DFunction([Sensor, Sensor, Action], Action)\n",
    "apply(act, [sensor, sensor, action])"
   ]
  },
  {
   "cell_type": "code",
   "execution_count": 4,
   "metadata": {
    "collapsed": false
   },
   "outputs": [
    {
     "data": {
      "text/plain": [
       "bottom_up (generic function with 1 method)"
      ]
     },
     "execution_count": 4,
     "metadata": {},
     "output_type": "execute_result"
    }
   ],
   "source": [
    "type Tree\n",
    "    op\n",
    "    value\n",
    "    subtrees :: Array{Tree, 1}\n",
    "end\n",
    "\n",
    "function _bottom_up(func :: Function, tree :: Tree, dict :: Dict)\n",
    "    function f()\n",
    "        func(tree, [_bottom_up(func, t, dict) for t in tree.subtrees])\n",
    "    end\n",
    "    get!(f, dict, tree)\n",
    "end\n",
    "\n",
    "## bottom_up(func :: Function, tree :: Tree) = _bottom_up(func, tree, Dict())\n",
    "\n",
    "function bottom_up(func :: Function, tree :: Tree)\n",
    "    func(tree, [bottom_up(func, t) for t in tree.subtrees])\n",
    "end"
   ]
  },
  {
   "cell_type": "code",
   "execution_count": 5,
   "metadata": {
    "collapsed": false
   },
   "outputs": [
    {
     "data": {
      "text/plain": [
       "eval_tree! (generic function with 1 method)"
      ]
     },
     "execution_count": 5,
     "metadata": {},
     "output_type": "execute_result"
    }
   ],
   "source": [
    "function lens_split(x :: Array, lens :: Array{Int64, 1})\n",
    "    ind = cumsum(lens)\n",
    "    n = length(ind)\n",
    "    ind = [0; ind]\n",
    "    [view(x, (ind[i]+1):ind[i+1]) for i in 1:n]\n",
    "end\n",
    "\n",
    "function init_node!(op :: Object, value :: Dict)\n",
    "    value[:value] = Array{Float64, 1}(op.class.type_len)\n",
    "    value[:d] = Array{Float64, 1}(op.class.type_len)\n",
    "end\n",
    "\n",
    "function init_node!(op :: DFunction, value :: Dict)\n",
    "    value[:pre_matrix] = Array{Float64, 1}(size(op.f_matrix, 2))\n",
    "    value[:pre_transform] = Array{Float64, 1}(op.out_class.type_len)\n",
    "    value[:value] = Array{Float64, 1}(op.out_class.type_len)\n",
    "    value[:inputs] = lens_split(value[:pre_matrix], [c.type_len for c in op.in_classes])\n",
    "    value[:d] = Array{Float64, 1}(op.out_class.type_len)\n",
    "    value[:pre_transform_d] = Array{Float64, 1}(op.out_class.type_len)\n",
    "    value[:pre_matrix_d] = Array{Float64, 1}(size(op.f_matrix, 2))\n",
    "    value[:input_ds] = lens_split(value[:pre_matrix_d], [c.type_len for c in op.in_classes])\n",
    "end\n",
    "\n",
    "function _init_tree!(tree :: Tree, _)\n",
    "    init_node!(tree.op, tree.value)\n",
    "    tree\n",
    "end\n",
    "    \n",
    "function init_tree!(tree :: Tree)\n",
    "    bottom_up(_init_tree!, tree)\n",
    "end\n",
    "\n",
    "function eval_node!(op :: Object, value :: Dict, value_list)\n",
    "    value[:value] .= op.value\n",
    "end\n",
    "\n",
    "function eval_node!(op :: DFunction, value :: Dict, value_list)\n",
    "    i = 1\n",
    "    for v in value_list\n",
    "        value[:inputs][i] .= v[:value]\n",
    "        i += 1\n",
    "    end\n",
    "    ## value[:pre_matrix] .= vcat([v[:post_feature] for v in value_list]...)\n",
    "    A_mul_B!(value[:pre_transform], op.f_matrix, value[:pre_matrix])\n",
    "    value[:value] .= eval(op.f_transformation).(value[:pre_transform])\n",
    "end\n",
    "\n",
    "function _eval_tree!(tree :: Tree, _)\n",
    "    eval_node!(tree.op, tree.value, (t.value for t in tree.subtrees))\n",
    "    tree\n",
    "end\n",
    "    \n",
    "## function eval_tree!(tree :: Tree)\n",
    "##     bottom_up(_eval_tree!, tree)\n",
    "## end\n",
    "    \n",
    "function eval_tree!(tree :: Tree)\n",
    "    foreach(eval_tree!, tree.subtrees)\n",
    "    eval_node!(tree.op, tree.value, (t.value for t in tree.subtrees))\n",
    "    tree\n",
    "end"
   ]
  },
  {
   "cell_type": "code",
   "execution_count": 6,
   "metadata": {
    "collapsed": false
   },
   "outputs": [
    {
     "data": {
      "text/plain": [
       "120-element Array{Float64,1}:\n",
       " 0.0\n",
       " 0.0\n",
       " 0.0\n",
       " 0.0\n",
       " 0.0\n",
       " 0.0\n",
       " 0.0\n",
       " 0.0\n",
       " 0.0\n",
       " 0.0\n",
       " 0.0\n",
       " 0.0\n",
       " 0.0\n",
       " ⋮  \n",
       " 0.0\n",
       " 0.0\n",
       " 0.0\n",
       " 0.0\n",
       " 0.0\n",
       " 0.0\n",
       " 0.0\n",
       " 0.0\n",
       " 0.0\n",
       " 0.0\n",
       " 0.0\n",
       " 0.0"
      ]
     },
     "execution_count": 6,
     "metadata": {},
     "output_type": "execute_result"
    }
   ],
   "source": [
    "Sensor = Class(\"Sensor\", 100)\n",
    "sensor = Object(Sensor)\n",
    "Action = Class(\"Action\", 120)\n",
    "action = Object(Action)\n",
    "act = DFunction([Sensor, Action], Action)\n",
    "tree = Tree(act, Dict(), [Tree(sensor, Dict(), []), Tree(action, Dict(), [])])\n",
    "init_tree!(tree)\n",
    "eval_tree!(tree).value[:value] - apply(act, [sensor, action]).value"
   ]
  },
  {
   "cell_type": "code",
   "execution_count": 7,
   "metadata": {
    "collapsed": false
   },
   "outputs": [
    {
     "data": {
      "text/plain": [
       "bp_tree! (generic function with 1 method)"
      ]
     },
     "execution_count": 7,
     "metadata": {},
     "output_type": "execute_result"
    }
   ],
   "source": [
    "function bp_transformation!(transformation, inputs, d, new_d)\n",
    "    new_d .= deriv(transformation).(inputs)\n",
    "    for i in 1:length(d)\n",
    "        new_d[i] *= d[i]\n",
    "    end\n",
    "end\n",
    "\n",
    "function bp_matrix!(inputs, matrix, d, step, new_d)\n",
    "    ## step = 0.01\n",
    "    ## dmatrix = reshape(d, (length(d), 1)) * reshape(inputs, (1, length(inputs)))\n",
    "    ## matrix[:, :] += step * reshape(d, (length(d), 1)) * reshape(inputs, (1, length(inputs)))\n",
    "    for j in 1:size(matrix, 2)\n",
    "        new_d[j] = 0.0\n",
    "        for i in 1:size(matrix, 1)\n",
    "            matrix[i, j] += step * d[i] * inputs[j]\n",
    "            new_d[j] += matrix[i, j] * d[i]\n",
    "        end\n",
    "    end\n",
    "end\n",
    "\n",
    "function bp_function!(op :: DFunction, value :: Dict)\n",
    "    bp_transformation!(op.f_transformation, value[:pre_transform], value[:d], value[:pre_transform_d])\n",
    "    bp_matrix!(value[:pre_matrix], op.f_matrix, value[:pre_transform_d], op.learning_rate, value[:pre_matrix_d])\n",
    "end\n",
    "\n",
    "function bp_tree!(tree :: Tree)\n",
    "    if typeof(tree.op) == DFunction\n",
    "        bp_function!(tree.op, tree.value)\n",
    "        for i in 1:length(tree.subtrees)\n",
    "            tree.subtrees[i].value[:d] .= tree.value[:input_ds][i]\n",
    "            bp_tree!(tree.subtrees[i])\n",
    "        end\n",
    "        ## ds = lens_split(d, [c.feature_len for c in tree.op.in_classes])\n",
    "        ## for i in 1:length(tree.subtrees)\n",
    "        ##     bp_tree!(tree.subtrees[i], tree.value[:ds][i])\n",
    "        ## end\n",
    "        ## dds = map(bp_class!, tree.op.in_classes, [t.value for t in tree.subtrees], tree.value[:ds])\n",
    "        ## foreach(bp_tree!, tree.subtrees, dds)\n",
    "    end\n",
    "end"
   ]
  },
  {
   "cell_type": "code",
   "execution_count": 8,
   "metadata": {
    "collapsed": false
   },
   "outputs": [
    {
     "data": {
      "text/plain": [
       "0.5199734401209383"
      ]
     },
     "execution_count": 8,
     "metadata": {},
     "output_type": "execute_result"
    }
   ],
   "source": [
    "Sensor = Class(\"Sensor\", 100)\n",
    "sensor = Object(Sensor)\n",
    "Action = Class(\"Action\", 120)\n",
    "action = Object(Action)\n",
    "act = DFunction([Sensor, Action], Action)\n",
    "tree = Tree(act, Dict(), [Tree(sensor, Dict(), []), Tree(action, Dict(), [])])\n",
    "init_tree!(tree)\n",
    "d = ones(length(eval_tree!(tree).value[:value])) - eval_tree!(tree).value[:value]\n",
    "for i in 1:5000\n",
    "    tree.value[:d] .= ones(length(eval_tree!(tree).value[:value])) - eval_tree!(tree).value[:value]\n",
    "    bp_tree!(tree)\n",
    "end\n",
    "maximum(abs(ones(length(eval_tree!(tree).value[:value])) - eval_tree!(tree).value[:value]))"
   ]
  },
  {
   "cell_type": "code",
   "execution_count": 9,
   "metadata": {
    "collapsed": false
   },
   "outputs": [
    {
     "data": {
      "text/plain": [
       "train! (generic function with 2 methods)"
      ]
     },
     "execution_count": 9,
     "metadata": {},
     "output_type": "execute_result"
    }
   ],
   "source": [
    "function toTree(op)\n",
    "    Tree(op, Dict(), [])\n",
    "end\n",
    "\n",
    "function toTree(skeleton :: Array)\n",
    "    op = skeleton[1]\n",
    "    subs = skeleton[2:end]\n",
    "    Tree(op, Dict(), [toTree(s) for s in subs])\n",
    "end\n",
    "\n",
    "function add!(dict :: Dict, dict1 :: Dict)\n",
    "    for key in keys(dict1)\n",
    "        dict[key] = vcat(get!(dict, key, []), dict1[key])\n",
    "    end\n",
    "    dict\n",
    "end\n",
    "\n",
    "function _index(tree :: Tree, inds :: Array)\n",
    "    ind = Dict{Any, Any}(tree.op => [tree])\n",
    "    for ind1 in inds\n",
    "        add!(ind, ind1)\n",
    "    end\n",
    "    ind\n",
    "end\n",
    "\n",
    "index(tree :: Tree) = bottom_up(_index, tree)\n",
    "\n",
    "type Axiom\n",
    "    tree1 :: Tree\n",
    "    tree2 :: Tree\n",
    "    index :: Dict\n",
    "end\n",
    "\n",
    "Axiom(tree1 :: Tree, tree2 :: Tree) = Axiom(tree1, tree2, add!(index(tree1), index(tree2)))\n",
    "\n",
    "Axiom(skeleton1, skeleton2) = Axiom(toTree(skeleton1), toTree(skeleton2))\n",
    "\n",
    "function push!(index :: Dict, ops :: Array)\n",
    "    n = length(ops)\n",
    "    for i in 1:n\n",
    "        for t in index[i]\n",
    "            t.op = ops[i]\n",
    "        end\n",
    "    end\n",
    "end\n",
    "\n",
    "function push!(index :: Dict, ops :: Dict)\n",
    "    for key in keys(ops)\n",
    "        if haskey(index, key)\n",
    "            ts = index[key]\n",
    "            for t in ts\n",
    "                t.op = ops[key]\n",
    "            end\n",
    "        end\n",
    "    end\n",
    "end\n",
    "\n",
    "function push!(axiom :: Axiom, ops)\n",
    "    push!(axiom.index, variables)\n",
    "end\n",
    "\n",
    "function train!(axiom :: Axiom, variables, n = 1)\n",
    "    push!(axiom.index, variables)\n",
    "    init_tree!(axiom.tree1)\n",
    "    init_tree!(axiom.tree2)\n",
    "    d1 :: Array{Float64, 1} = axiom.tree1.value[:d]\n",
    "    d2 :: Array{Float64, 1} = axiom.tree2.value[:d]\n",
    "    v1 :: Array{Float64, 1} = axiom.tree1.value[:value]\n",
    "    v2 :: Array{Float64, 1} = axiom.tree2.value[:value]\n",
    "    for i in 1:n\n",
    "        eval_tree!(axiom.tree2)\n",
    "        eval_tree!(axiom.tree1)\n",
    "        for j in 1:length(d1)\n",
    "                d1[j] = v2[j] - v1[j]\n",
    "                d2[j] = -d1[j]\n",
    "        end\n",
    "        bp_tree!(axiom.tree1)\n",
    "        bp_tree!(axiom.tree2)\n",
    "    end\n",
    "end"
   ]
  },
  {
   "cell_type": "code",
   "execution_count": 10,
   "metadata": {
    "collapsed": false
   },
   "outputs": [
    {
     "data": {
      "text/plain": [
       "Axiom(Tree(1,Dict{Any,Any}(),Tree[Tree(2,Dict{Any,Any}(),Tree[Tree(3,Dict{Any,Any}(),Tree[])])]),Tree(3,Dict{Any,Any}(),Tree[]),Dict{Any,Any}(Pair{Any,Any}(2,Any[Tree(2,Dict{Any,Any}(),Tree[Tree(3,Dict{Any,Any}(),Tree[])])]),Pair{Any,Any}(3,Any[Tree(3,Dict{Any,Any}(),Tree[]),Tree(3,Dict{Any,Any}(),Tree[])]),Pair{Any,Any}(1,Tree[Tree(1,Dict{Any,Any}(),Tree[Tree(2,Dict{Any,Any}(),Tree[Tree(3,Dict{Any,Any}(),Tree[])])])])))"
      ]
     },
     "execution_count": 10,
     "metadata": {},
     "output_type": "execute_result"
    }
   ],
   "source": [
    "Sensor = Class(\"Sensor\", 100)\n",
    "sensor = Object(Sensor)\n",
    "Action = Class(\"Action\", 120)\n",
    "action = Object(Action)\n",
    "act = DFunction([Sensor], Action)\n",
    "invact = DFunction([Action], Sensor)\n",
    "axiom = Axiom([1, [2, 3]], 3)"
   ]
  },
  {
   "cell_type": "code",
   "execution_count": 11,
   "metadata": {
    "collapsed": false
   },
   "outputs": [
    {
     "name": "stdout",
     "output_type": "stream",
     "text": [
      "  1.455496 seconds (212.49 k allocations: 4.385 MB, 0.46% gc time)\n",
      "  0.192055 seconds (91.39 k allocations: 1.437 MB)\n"
     ]
    }
   ],
   "source": [
    "@time train!(axiom, [invact, act, sensor], 10000)\n",
    "@time foreach(i -> eval_tree!(axiom.tree1), 1:10000)\n",
    "maximum(abs(eval_tree!(axiom.tree2).value[:value] - eval_tree!(axiom.tree1).value[:value]))\n",
    "Profile.clear()\n",
    "@profile train!(axiom, [invact, act, sensor], 1000)\n",
    "## Profile.print()\n",
    "## Profile.print(format = :flat)"
   ]
  },
  {
   "cell_type": "code",
   "execution_count": 12,
   "metadata": {
    "collapsed": false
   },
   "outputs": [
    {
     "data": {
      "text/plain": [
       "Axiom(Tree(DFunction(Class[Class(\"Variable\",100),Class(\"LambdaTerm\",200)],Class(\"LambdaTerm\",200),[0.0855445 0.0571329 … -0.0242284 -0.0580636; 0.0284503 0.0142752 … -0.0596807 0.0143119; … ; -0.0927659 -0.11775 … 0.0191802 -0.0494916; 0.00179823 -0.0694184 … 0.0113168 -0.00872044],Transformation(sigmoid,dsigmoid),0.01),Dict{Any,Any}(),Tree[Tree(:v,Dict{Any,Any}(),Tree[]),Tree(DFunction(Class[Class(\"LambdaTerm\",200),Class(\"LambdaTerm\",200)],Class(\"LambdaTerm\",200),[0.0289022 0.0322394 … -0.0542168 -0.0772445; 0.0337807 0.0171209 … -0.00769063 0.0771125; … ; -0.0279915 0.0143589 … 0.121703 0.0312768; -0.0764624 0.0118486 … 0.0541086 0.0713543],Transformation(sigmoid,dsigmoid),0.01),Dict{Any,Any}(),Tree[Tree(:t,Dict{Any,Any}(),Tree[]),Tree(DFunction(Class[Class(\"Variable\",100)],Class(\"LambdaTerm\",200),[0.0291748 -0.0923633 … 0.101401 -0.169905; 0.178461 -0.0729941 … -0.0147522 -0.0638078; … ; 0.00325144 0.0139425 … 0.123734 0.116907; 0.193481 -0.119357 … 0.0819458 0.0630701],Transformation(sigmoid,dsigmoid),0.01),Dict{Any,Any}(),Tree[Tree(:v,Dict{Any,Any}(),Tree[])])])]),Tree(:t,Dict{Any,Any}(),Tree[]),Dict{Any,Any}(Pair{Any,Any}(DFunction(Class[Class(\"Variable\",100)],Class(\"LambdaTerm\",200),[0.0291748 -0.0923633 … 0.101401 -0.169905; 0.178461 -0.0729941 … -0.0147522 -0.0638078; … ; 0.00325144 0.0139425 … 0.123734 0.116907; 0.193481 -0.119357 … 0.0819458 0.0630701],Transformation(sigmoid,dsigmoid),0.01),Any[Tree(DFunction(Class[Class(\"Variable\",100)],Class(\"LambdaTerm\",200),[0.0291748 -0.0923633 … 0.101401 -0.169905; 0.178461 -0.0729941 … -0.0147522 -0.0638078; … ; 0.00325144 0.0139425 … 0.123734 0.116907; 0.193481 -0.119357 … 0.0819458 0.0630701],Transformation(sigmoid,dsigmoid),0.01),Dict{Any,Any}(),Tree[Tree(:v,Dict{Any,Any}(),Tree[])])]),Pair{Any,Any}(:v,Any[Tree(:v,Dict{Any,Any}(),Tree[]),Tree(:v,Dict{Any,Any}(),Tree[])]),Pair{Any,Any}(:t,Any[Tree(:t,Dict{Any,Any}(),Tree[]),Tree(:t,Dict{Any,Any}(),Tree[])]),Pair{Any,Any}(DFunction(Class[Class(\"LambdaTerm\",200),Class(\"LambdaTerm\",200)],Class(\"LambdaTerm\",200),[0.0289022 0.0322394 … -0.0542168 -0.0772445; 0.0337807 0.0171209 … -0.00769063 0.0771125; … ; -0.0279915 0.0143589 … 0.121703 0.0312768; -0.0764624 0.0118486 … 0.0541086 0.0713543],Transformation(sigmoid,dsigmoid),0.01),Any[Tree(DFunction(Class[Class(\"LambdaTerm\",200),Class(\"LambdaTerm\",200)],Class(\"LambdaTerm\",200),[0.0289022 0.0322394 … -0.0542168 -0.0772445; 0.0337807 0.0171209 … -0.00769063 0.0771125; … ; -0.0279915 0.0143589 … 0.121703 0.0312768; -0.0764624 0.0118486 … 0.0541086 0.0713543],Transformation(sigmoid,dsigmoid),0.01),Dict{Any,Any}(),Tree[Tree(:t,Dict{Any,Any}(),Tree[]),Tree(DFunction(Class[Class(\"Variable\",100)],Class(\"LambdaTerm\",200),[0.0291748 -0.0923633 … 0.101401 -0.169905; 0.178461 -0.0729941 … -0.0147522 -0.0638078; … ; 0.00325144 0.0139425 … 0.123734 0.116907; 0.193481 -0.119357 … 0.0819458 0.0630701],Transformation(sigmoid,dsigmoid),0.01),Dict{Any,Any}(),Tree[Tree(:v,Dict{Any,Any}(),Tree[])])])]),Pair{Any,Any}(DFunction(Class[Class(\"Variable\",100),Class(\"LambdaTerm\",200)],Class(\"LambdaTerm\",200),[0.0855445 0.0571329 … -0.0242284 -0.0580636; 0.0284503 0.0142752 … -0.0596807 0.0143119; … ; -0.0927659 -0.11775 … 0.0191802 -0.0494916; 0.00179823 -0.0694184 … 0.0113168 -0.00872044],Transformation(sigmoid,dsigmoid),0.01),Tree[Tree(DFunction(Class[Class(\"Variable\",100),Class(\"LambdaTerm\",200)],Class(\"LambdaTerm\",200),[0.0855445 0.0571329 … -0.0242284 -0.0580636; 0.0284503 0.0142752 … -0.0596807 0.0143119; … ; -0.0927659 -0.11775 … 0.0191802 -0.0494916; 0.00179823 -0.0694184 … 0.0113168 -0.00872044],Transformation(sigmoid,dsigmoid),0.01),Dict{Any,Any}(),Tree[Tree(:v,Dict{Any,Any}(),Tree[]),Tree(DFunction(Class[Class(\"LambdaTerm\",200),Class(\"LambdaTerm\",200)],Class(\"LambdaTerm\",200),[0.0289022 0.0322394 … -0.0542168 -0.0772445; 0.0337807 0.0171209 … -0.00769063 0.0771125; … ; -0.0279915 0.0143589 … 0.121703 0.0312768; -0.0764624 0.0118486 … 0.0541086 0.0713543],Transformation(sigmoid,dsigmoid),0.01),Dict{Any,Any}(),Tree[Tree(:t,Dict{Any,Any}(),Tree[]),Tree(DFunction(Class[Class(\"Variable\",100)],Class(\"LambdaTerm\",200),[0.0291748 -0.0923633 … 0.101401 -0.169905; 0.178461 -0.0729941 … -0.0147522 -0.0638078; … ; 0.00325144 0.0139425 … 0.123734 0.116907; 0.193481 -0.119357 … 0.0819458 0.0630701],Transformation(sigmoid,dsigmoid),0.01),Dict{Any,Any}(),Tree[Tree(:v,Dict{Any,Any}(),Tree[])])])])])))"
      ]
     },
     "execution_count": 12,
     "metadata": {},
     "output_type": "execute_result"
    }
   ],
   "source": [
    "## Lambda Calculus\n",
    "\n",
    "Variable = Class(\"Variable\", 100)\n",
    "LambdaTerm = Class(\"LambdaTerm\", 200)\n",
    "var2term = DFunction([Variable], LambdaTerm)\n",
    "app = DFunction([LambdaTerm, LambdaTerm], LambdaTerm)\n",
    "lambda = DFunction([Variable, LambdaTerm], LambdaTerm)\n",
    "\n",
    "## substitution\n",
    "## t1 [x = t2]\n",
    "subs = DFunction([LambdaTerm, Variable, LambdaTerm], LambdaTerm)\n",
    "## x[x := N]       ≡ N\n",
    "axiom_s1 = Axiom([subs, [var2term, :v], :v, :t], :t)\n",
    "## y[x := N]       ≡ y, if x ≠ y\n",
    "axiom_s2 = Axiom([subs, [var2term, :v1], :v2, :t], [var2term, :v1])\n",
    "## (M1 M2)[x := N] ≡ (M1[x := N]) (M2[x := N])\n",
    "axiom_s3 = Axiom([subs, [app, :t1, :t2], :v, :t], [app, [subs, :t1, :v, :t], [subs, :t2, :v, :t]])\n",
    "## (λx.M)[x := N]  ≡ λx.M\n",
    "axiom_s4 = Axiom([subs, [lambda, :v, :t1], :v, :t2], [lambda, :v, :t1])\n",
    "## (λy.M)[x := N]  ≡ λy.(M[x := N]), if x ≠ y, provided y ∉ FV(N)\n",
    "axiom_s5 = Axiom([subs, [lambda, :v1, :t1], :v2, :t2], [lambda, :v1, [subs, :t1, :v2, :t2]])\n",
    "\n",
    "## beta-reduction of  ((λV.E) E′)  is E[V := E′].\n",
    "axiom_beta = Axiom([app, [lambda, :v, :t], :t1], [subs, :t, :v, :t1])\n",
    "## eta-reduction\n",
    "axiom_eta = Axiom([lambda, :v, [app, :t, [var2term, :v]]], :t)"
   ]
  },
  {
   "cell_type": "code",
   "execution_count": 13,
   "metadata": {
    "collapsed": false
   },
   "outputs": [
    {
     "data": {
      "text/plain": [
       "Object(Class(\"LambdaTerm\",200),[0.103839,-0.0327557,-0.000671554,-0.0974514,0.0139063,-0.0672258,0.0502568,0.100001,0.00919481,-0.146889  …  0.0699825,0.0371009,-0.0823979,0.0462621,0.0483576,0.0414644,0.0637856,0.000380405,0.00453037,-0.0380407])"
      ]
     },
     "execution_count": 13,
     "metadata": {},
     "output_type": "execute_result"
    }
   ],
   "source": [
    "dict = Dict()\n",
    "dict[:v] = Object(Variable)\n",
    "dict[:v1] = Object(Variable)\n",
    "dict[:v2] = Object(Variable)\n",
    "dict[:t] = Object(LambdaTerm)\n",
    "dict[:t1] = Object(LambdaTerm)\n",
    "dict[:t2] = Object(LambdaTerm)"
   ]
  },
  {
   "cell_type": "code",
   "execution_count": 14,
   "metadata": {
    "collapsed": false
   },
   "outputs": [
    {
     "name": "stdout",
     "output_type": "stream",
     "text": [
      "  1.519447 seconds (54.40 k allocations: 1.306 MB)\n"
     ]
    }
   ],
   "source": [
    "@time train!(axiom_s5, dict, 1000)"
   ]
  },
  {
   "cell_type": "code",
   "execution_count": 18,
   "metadata": {
    "collapsed": false
   },
   "outputs": [
    {
     "name": "stdout",
     "output_type": "stream",
     "text": [
      "  0.045977 seconds (20.19 k allocations: 1.712 MB)\n"
     ]
    },
    {
     "name": "stderr",
     "output_type": "stream",
     "text": [
      "WARNING: Method definition (::Type{Main.Pair})(Main.Class, Main.DFunction, Main.DFunction, Main.DFunction, Main.DFunction, Main.DFunction, Main.Axiom, Main.Axiom, Main.Axiom, Main.Axiom) in module Main at In[15]:2 overwritten at In[18]:2.\n",
      "WARNING: Method definition (::Type{Main.Pair})(Any, Any, Any, Any, Any, Any, Any, Any, Any, Any) in module Main at In[15]:2 overwritten at In[18]:2.\n",
      "WARNING: Method definition (::Type{Main.Pair})(Main.Class, Main.Class, Main.Class) in module Main at In[15]:17 overwritten at In[18]:17.\n",
      "WARNING: Method definition (::Type{Main.Pair})(Main.Class, Main.Class, Int64) in module Main at In[15]:32 overwritten at In[18]:32.\n"
     ]
    },
    {
     "data": {
      "text/plain": [
       "Pair(Class(\"Pair_Sensor_Action\",70),DFunction(Class[Class(\"Sensor\",100),Class(\"Action\",120)],Class(\"Pair_Sensor_Action\",70),[-0.0655845 -0.0214519 … -0.0178998 0.0537043; 0.107519 -0.0692826 … -0.0153382 0.0428147; … ; 0.0464426 -0.0939127 … 0.0547648 -0.0991433; -0.00441568 -0.0561534 … -0.0075542 0.0284831],Transformation(sigmoid,dsigmoid),0.01),DFunction(Class[Class(\"Pair_Sensor_Action\",70)],Class(\"Sensor\",100),[0.0416333 0.000226379 … -0.0711049 -0.113951; -0.119467 0.111252 … 0.0218009 0.0742501; … ; 0.104324 0.150423 … 0.180387 -0.224543; -0.0373385 -0.0829814 … 0.0171722 0.0039155],Transformation(sigmoid,dsigmoid),0.01),DFunction(Class[Class(\"Pair_Sensor_Action\",70)],Class(\"Action\",120),[0.167099 0.176546 … -0.165102 -0.0914074; 0.158812 0.032193 … 0.225904 -0.0322271; … ; -0.0499555 0.10482 … -0.159689 -0.0941001; 0.052155 -0.09034 … -0.244766 -0.207625],Transformation(sigmoid,dsigmoid),0.01),DFunction(Class[Class(\"Pair_Sensor_Action\",70),Class(\"Sensor\",100)],Class(\"Pair_Sensor_Action\",70),[-0.069934 0.0687306 … -0.161917 -0.0908482; -0.018081 0.0134647 … 0.154279 0.0186834; … ; -0.0426665 0.0921573 … 0.0183958 0.0482004; -0.03351 0.00231222 … 0.063228 0.0626405],Transformation(sigmoid,dsigmoid),0.01),DFunction(Class[Class(\"Pair_Sensor_Action\",70),Class(\"Action\",120)],Class(\"Pair_Sensor_Action\",70),[-0.107693 -0.0600718 … -0.145223 -0.0269442; 0.0561174 -0.0124967 … -0.0723313 0.0437752; … ; -0.0614741 0.0449982 … -0.0607214 0.00648833; -0.019895 0.0879635 … 0.0249754 0.0571798],Transformation(sigmoid,dsigmoid),0.01),Axiom(Tree(DFunction(Class[Class(\"Pair_Sensor_Action\",70)],Class(\"Sensor\",100),[0.0416333 0.000226379 … -0.0711049 -0.113951; -0.119467 0.111252 … 0.0218009 0.0742501; … ; 0.104324 0.150423 … 0.180387 -0.224543; -0.0373385 -0.0829814 … 0.0171722 0.0039155],Transformation(sigmoid,dsigmoid),0.01),Dict{Any,Any}(),Tree[Tree(DFunction(Class[Class(\"Sensor\",100),Class(\"Action\",120)],Class(\"Pair_Sensor_Action\",70),[-0.0655845 -0.0214519 … -0.0178998 0.0537043; 0.107519 -0.0692826 … -0.0153382 0.0428147; … ; 0.0464426 -0.0939127 … 0.0547648 -0.0991433; -0.00441568 -0.0561534 … -0.0075542 0.0284831],Transformation(sigmoid,dsigmoid),0.01),Dict{Any,Any}(),Tree[Tree(:x,Dict{Any,Any}(),Tree[]),Tree(:y,Dict{Any,Any}(),Tree[])])]),Tree(:x,Dict{Any,Any}(),Tree[]),Dict{Any,Any}(Pair{Any,Any}(DFunction(Class[Class(\"Sensor\",100),Class(\"Action\",120)],Class(\"Pair_Sensor_Action\",70),[-0.0655845 -0.0214519 … -0.0178998 0.0537043; 0.107519 -0.0692826 … -0.0153382 0.0428147; … ; 0.0464426 -0.0939127 … 0.0547648 -0.0991433; -0.00441568 -0.0561534 … -0.0075542 0.0284831],Transformation(sigmoid,dsigmoid),0.01),Any[Tree(DFunction(Class[Class(\"Sensor\",100),Class(\"Action\",120)],Class(\"Pair_Sensor_Action\",70),[-0.0655845 -0.0214519 … -0.0178998 0.0537043; 0.107519 -0.0692826 … -0.0153382 0.0428147; … ; 0.0464426 -0.0939127 … 0.0547648 -0.0991433; -0.00441568 -0.0561534 … -0.0075542 0.0284831],Transformation(sigmoid,dsigmoid),0.01),Dict{Any,Any}(),Tree[Tree(:x,Dict{Any,Any}(),Tree[]),Tree(:y,Dict{Any,Any}(),Tree[])])]),Pair{Any,Any}(:y,Any[Tree(:y,Dict{Any,Any}(),Tree[])]),Pair{Any,Any}(DFunction(Class[Class(\"Pair_Sensor_Action\",70)],Class(\"Sensor\",100),[0.0416333 0.000226379 … -0.0711049 -0.113951; -0.119467 0.111252 … 0.0218009 0.0742501; … ; 0.104324 0.150423 … 0.180387 -0.224543; -0.0373385 -0.0829814 … 0.0171722 0.0039155],Transformation(sigmoid,dsigmoid),0.01),Tree[Tree(DFunction(Class[Class(\"Pair_Sensor_Action\",70)],Class(\"Sensor\",100),[0.0416333 0.000226379 … -0.0711049 -0.113951; -0.119467 0.111252 … 0.0218009 0.0742501; … ; 0.104324 0.150423 … 0.180387 -0.224543; -0.0373385 -0.0829814 … 0.0171722 0.0039155],Transformation(sigmoid,dsigmoid),0.01),Dict{Any,Any}(),Tree[Tree(DFunction(Class[Class(\"Sensor\",100),Class(\"Action\",120)],Class(\"Pair_Sensor_Action\",70),[-0.0655845 -0.0214519 … -0.0178998 0.0537043; 0.107519 -0.0692826 … -0.0153382 0.0428147; … ; 0.0464426 -0.0939127 … 0.0547648 -0.0991433; -0.00441568 -0.0561534 … -0.0075542 0.0284831],Transformation(sigmoid,dsigmoid),0.01),Dict{Any,Any}(),Tree[Tree(:x,Dict{Any,Any}(),Tree[]),Tree(:y,Dict{Any,Any}(),Tree[])])])]),Pair{Any,Any}(:x,Any[Tree(:x,Dict{Any,Any}(),Tree[]),Tree(:x,Dict{Any,Any}(),Tree[])]))),Axiom(Tree(DFunction(Class[Class(\"Pair_Sensor_Action\",70)],Class(\"Action\",120),[0.167099 0.176546 … -0.165102 -0.0914074; 0.158812 0.032193 … 0.225904 -0.0322271; … ; -0.0499555 0.10482 … -0.159689 -0.0941001; 0.052155 -0.09034 … -0.244766 -0.207625],Transformation(sigmoid,dsigmoid),0.01),Dict{Any,Any}(),Tree[Tree(DFunction(Class[Class(\"Sensor\",100),Class(\"Action\",120)],Class(\"Pair_Sensor_Action\",70),[-0.0655845 -0.0214519 … -0.0178998 0.0537043; 0.107519 -0.0692826 … -0.0153382 0.0428147; … ; 0.0464426 -0.0939127 … 0.0547648 -0.0991433; -0.00441568 -0.0561534 … -0.0075542 0.0284831],Transformation(sigmoid,dsigmoid),0.01),Dict{Any,Any}(),Tree[Tree(:x,Dict{Any,Any}(),Tree[]),Tree(:y,Dict{Any,Any}(),Tree[])])]),Tree(:y,Dict{Any,Any}(),Tree[]),Dict{Any,Any}(Pair{Any,Any}(DFunction(Class[Class(\"Sensor\",100),Class(\"Action\",120)],Class(\"Pair_Sensor_Action\",70),[-0.0655845 -0.0214519 … -0.0178998 0.0537043; 0.107519 -0.0692826 … -0.0153382 0.0428147; … ; 0.0464426 -0.0939127 … 0.0547648 -0.0991433; -0.00441568 -0.0561534 … -0.0075542 0.0284831],Transformation(sigmoid,dsigmoid),0.01),Any[Tree(DFunction(Class[Class(\"Sensor\",100),Class(\"Action\",120)],Class(\"Pair_Sensor_Action\",70),[-0.0655845 -0.0214519 … -0.0178998 0.0537043; 0.107519 -0.0692826 … -0.0153382 0.0428147; … ; 0.0464426 -0.0939127 … 0.0547648 -0.0991433; -0.00441568 -0.0561534 … -0.0075542 0.0284831],Transformation(sigmoid,dsigmoid),0.01),Dict{Any,Any}(),Tree[Tree(:x,Dict{Any,Any}(),Tree[]),Tree(:y,Dict{Any,Any}(),Tree[])])]),Pair{Any,Any}(:y,Any[Tree(:y,Dict{Any,Any}(),Tree[]),Tree(:y,Dict{Any,Any}(),Tree[])]),Pair{Any,Any}(DFunction(Class[Class(\"Pair_Sensor_Action\",70)],Class(\"Action\",120),[0.167099 0.176546 … -0.165102 -0.0914074; 0.158812 0.032193 … 0.225904 -0.0322271; … ; -0.0499555 0.10482 … -0.159689 -0.0941001; 0.052155 -0.09034 … -0.244766 -0.207625],Transformation(sigmoid,dsigmoid),0.01),Tree[Tree(DFunction(Class[Class(\"Pair_Sensor_Action\",70)],Class(\"Action\",120),[0.167099 0.176546 … -0.165102 -0.0914074; 0.158812 0.032193 … 0.225904 -0.0322271; … ; -0.0499555 0.10482 … -0.159689 -0.0941001; 0.052155 -0.09034 … -0.244766 -0.207625],Transformation(sigmoid,dsigmoid),0.01),Dict{Any,Any}(),Tree[Tree(DFunction(Class[Class(\"Sensor\",100),Class(\"Action\",120)],Class(\"Pair_Sensor_Action\",70),[-0.0655845 -0.0214519 … -0.0178998 0.0537043; 0.107519 -0.0692826 … -0.0153382 0.0428147; … ; 0.0464426 -0.0939127 … 0.0547648 -0.0991433; -0.00441568 -0.0561534 … -0.0075542 0.0284831],Transformation(sigmoid,dsigmoid),0.01),Dict{Any,Any}(),Tree[Tree(:x,Dict{Any,Any}(),Tree[]),Tree(:y,Dict{Any,Any}(),Tree[])])])]),Pair{Any,Any}(:x,Any[Tree(:x,Dict{Any,Any}(),Tree[])]))),Axiom(Tree(DFunction(Class[Class(\"Pair_Sensor_Action\",70),Class(\"Sensor\",100)],Class(\"Pair_Sensor_Action\",70),[-0.069934 0.0687306 … -0.161917 -0.0908482; -0.018081 0.0134647 … 0.154279 0.0186834; … ; -0.0426665 0.0921573 … 0.0183958 0.0482004; -0.03351 0.00231222 … 0.063228 0.0626405],Transformation(sigmoid,dsigmoid),0.01),Dict{Any,Any}(),Tree[Tree(:xy,Dict{Any,Any}(),Tree[]),Tree(:x,Dict{Any,Any}(),Tree[])]),Tree(DFunction(Class[Class(\"Sensor\",100),Class(\"Action\",120)],Class(\"Pair_Sensor_Action\",70),[-0.0655845 -0.0214519 … -0.0178998 0.0537043; 0.107519 -0.0692826 … -0.0153382 0.0428147; … ; 0.0464426 -0.0939127 … 0.0547648 -0.0991433; -0.00441568 -0.0561534 … -0.0075542 0.0284831],Transformation(sigmoid,dsigmoid),0.01),Dict{Any,Any}(),Tree[Tree(:x,Dict{Any,Any}(),Tree[]),Tree(DFunction(Class[Class(\"Pair_Sensor_Action\",70)],Class(\"Action\",120),[0.167099 0.176546 … -0.165102 -0.0914074; 0.158812 0.032193 … 0.225904 -0.0322271; … ; -0.0499555 0.10482 … -0.159689 -0.0941001; 0.052155 -0.09034 … -0.244766 -0.207625],Transformation(sigmoid,dsigmoid),0.01),Dict{Any,Any}(),Tree[Tree(:xy,Dict{Any,Any}(),Tree[])])]),Dict{Any,Any}(Pair{Any,Any}(DFunction(Class[Class(\"Sensor\",100),Class(\"Action\",120)],Class(\"Pair_Sensor_Action\",70),[-0.0655845 -0.0214519 … -0.0178998 0.0537043; 0.107519 -0.0692826 … -0.0153382 0.0428147; … ; 0.0464426 -0.0939127 … 0.0547648 -0.0991433; -0.00441568 -0.0561534 … -0.0075542 0.0284831],Transformation(sigmoid,dsigmoid),0.01),Any[Tree(DFunction(Class[Class(\"Sensor\",100),Class(\"Action\",120)],Class(\"Pair_Sensor_Action\",70),[-0.0655845 -0.0214519 … -0.0178998 0.0537043; 0.107519 -0.0692826 … -0.0153382 0.0428147; … ; 0.0464426 -0.0939127 … 0.0547648 -0.0991433; -0.00441568 -0.0561534 … -0.0075542 0.0284831],Transformation(sigmoid,dsigmoid),0.01),Dict{Any,Any}(),Tree[Tree(:x,Dict{Any,Any}(),Tree[]),Tree(DFunction(Class[Class(\"Pair_Sensor_Action\",70)],Class(\"Action\",120),[0.167099 0.176546 … -0.165102 -0.0914074; 0.158812 0.032193 … 0.225904 -0.0322271; … ; -0.0499555 0.10482 … -0.159689 -0.0941001; 0.052155 -0.09034 … -0.244766 -0.207625],Transformation(sigmoid,dsigmoid),0.01),Dict{Any,Any}(),Tree[Tree(:xy,Dict{Any,Any}(),Tree[])])])]),Pair{Any,Any}(:xy,Any[Tree(:xy,Dict{Any,Any}(),Tree[]),Tree(:xy,Dict{Any,Any}(),Tree[])]),Pair{Any,Any}(DFunction(Class[Class(\"Pair_Sensor_Action\",70)],Class(\"Action\",120),[0.167099 0.176546 … -0.165102 -0.0914074; 0.158812 0.032193 … 0.225904 -0.0322271; … ; -0.0499555 0.10482 … -0.159689 -0.0941001; 0.052155 -0.09034 … -0.244766 -0.207625],Transformation(sigmoid,dsigmoid),0.01),Any[Tree(DFunction(Class[Class(\"Pair_Sensor_Action\",70)],Class(\"Action\",120),[0.167099 0.176546 … -0.165102 -0.0914074; 0.158812 0.032193 … 0.225904 -0.0322271; … ; -0.0499555 0.10482 … -0.159689 -0.0941001; 0.052155 -0.09034 … -0.244766 -0.207625],Transformation(sigmoid,dsigmoid),0.01),Dict{Any,Any}(),Tree[Tree(:xy,Dict{Any,Any}(),Tree[])])]),Pair{Any,Any}(DFunction(Class[Class(\"Pair_Sensor_Action\",70),Class(\"Sensor\",100)],Class(\"Pair_Sensor_Action\",70),[-0.069934 0.0687306 … -0.161917 -0.0908482; -0.018081 0.0134647 … 0.154279 0.0186834; … ; -0.0426665 0.0921573 … 0.0183958 0.0482004; -0.03351 0.00231222 … 0.063228 0.0626405],Transformation(sigmoid,dsigmoid),0.01),Tree[Tree(DFunction(Class[Class(\"Pair_Sensor_Action\",70),Class(\"Sensor\",100)],Class(\"Pair_Sensor_Action\",70),[-0.069934 0.0687306 … -0.161917 -0.0908482; -0.018081 0.0134647 … 0.154279 0.0186834; … ; -0.0426665 0.0921573 … 0.0183958 0.0482004; -0.03351 0.00231222 … 0.063228 0.0626405],Transformation(sigmoid,dsigmoid),0.01),Dict{Any,Any}(),Tree[Tree(:xy,Dict{Any,Any}(),Tree[]),Tree(:x,Dict{Any,Any}(),Tree[])])]),Pair{Any,Any}(:x,Any[Tree(:x,Dict{Any,Any}(),Tree[]),Tree(:x,Dict{Any,Any}(),Tree[])]))),Axiom(Tree(DFunction(Class[Class(\"Pair_Sensor_Action\",70),Class(\"Action\",120)],Class(\"Pair_Sensor_Action\",70),[-0.107693 -0.0600718 … -0.145223 -0.0269442; 0.0561174 -0.0124967 … -0.0723313 0.0437752; … ; -0.0614741 0.0449982 … -0.0607214 0.00648833; -0.019895 0.0879635 … 0.0249754 0.0571798],Transformation(sigmoid,dsigmoid),0.01),Dict{Any,Any}(),Tree[Tree(:xy,Dict{Any,Any}(),Tree[]),Tree(:y,Dict{Any,Any}(),Tree[])]),Tree(DFunction(Class[Class(\"Sensor\",100),Class(\"Action\",120)],Class(\"Pair_Sensor_Action\",70),[-0.0655845 -0.0214519 … -0.0178998 0.0537043; 0.107519 -0.0692826 … -0.0153382 0.0428147; … ; 0.0464426 -0.0939127 … 0.0547648 -0.0991433; -0.00441568 -0.0561534 … -0.0075542 0.0284831],Transformation(sigmoid,dsigmoid),0.01),Dict{Any,Any}(),Tree[Tree(DFunction(Class[Class(\"Pair_Sensor_Action\",70)],Class(\"Sensor\",100),[0.0416333 0.000226379 … -0.0711049 -0.113951; -0.119467 0.111252 … 0.0218009 0.0742501; … ; 0.104324 0.150423 … 0.180387 -0.224543; -0.0373385 -0.0829814 … 0.0171722 0.0039155],Transformation(sigmoid,dsigmoid),0.01),Dict{Any,Any}(),Tree[Tree(:xy,Dict{Any,Any}(),Tree[])]),Tree(:y,Dict{Any,Any}(),Tree[])]),Dict{Any,Any}(Pair{Any,Any}(DFunction(Class[Class(\"Sensor\",100),Class(\"Action\",120)],Class(\"Pair_Sensor_Action\",70),[-0.0655845 -0.0214519 … -0.0178998 0.0537043; 0.107519 -0.0692826 … -0.0153382 0.0428147; … ; 0.0464426 -0.0939127 … 0.0547648 -0.0991433; -0.00441568 -0.0561534 … -0.0075542 0.0284831],Transformation(sigmoid,dsigmoid),0.01),Any[Tree(DFunction(Class[Class(\"Sensor\",100),Class(\"Action\",120)],Class(\"Pair_Sensor_Action\",70),[-0.0655845 -0.0214519 … -0.0178998 0.0537043; 0.107519 -0.0692826 … -0.0153382 0.0428147; … ; 0.0464426 -0.0939127 … 0.0547648 -0.0991433; -0.00441568 -0.0561534 … -0.0075542 0.0284831],Transformation(sigmoid,dsigmoid),0.01),Dict{Any,Any}(),Tree[Tree(DFunction(Class[Class(\"Pair_Sensor_Action\",70)],Class(\"Sensor\",100),[0.0416333 0.000226379 … -0.0711049 -0.113951; -0.119467 0.111252 … 0.0218009 0.0742501; … ; 0.104324 0.150423 … 0.180387 -0.224543; -0.0373385 -0.0829814 … 0.0171722 0.0039155],Transformation(sigmoid,dsigmoid),0.01),Dict{Any,Any}(),Tree[Tree(:xy,Dict{Any,Any}(),Tree[])]),Tree(:y,Dict{Any,Any}(),Tree[])])]),Pair{Any,Any}(:xy,Any[Tree(:xy,Dict{Any,Any}(),Tree[]),Tree(:xy,Dict{Any,Any}(),Tree[])]),Pair{Any,Any}(:y,Any[Tree(:y,Dict{Any,Any}(),Tree[]),Tree(:y,Dict{Any,Any}(),Tree[])]),Pair{Any,Any}(DFunction(Class[Class(\"Pair_Sensor_Action\",70)],Class(\"Sensor\",100),[0.0416333 0.000226379 … -0.0711049 -0.113951; -0.119467 0.111252 … 0.0218009 0.0742501; … ; 0.104324 0.150423 … 0.180387 -0.224543; -0.0373385 -0.0829814 … 0.0171722 0.0039155],Transformation(sigmoid,dsigmoid),0.01),Any[Tree(DFunction(Class[Class(\"Pair_Sensor_Action\",70)],Class(\"Sensor\",100),[0.0416333 0.000226379 … -0.0711049 -0.113951; -0.119467 0.111252 … 0.0218009 0.0742501; … ; 0.104324 0.150423 … 0.180387 -0.224543; -0.0373385 -0.0829814 … 0.0171722 0.0039155],Transformation(sigmoid,dsigmoid),0.01),Dict{Any,Any}(),Tree[Tree(:xy,Dict{Any,Any}(),Tree[])])]),Pair{Any,Any}(DFunction(Class[Class(\"Pair_Sensor_Action\",70),Class(\"Action\",120)],Class(\"Pair_Sensor_Action\",70),[-0.107693 -0.0600718 … -0.145223 -0.0269442; 0.0561174 -0.0124967 … -0.0723313 0.0437752; … ; -0.0614741 0.0449982 … -0.0607214 0.00648833; -0.019895 0.0879635 … 0.0249754 0.0571798],Transformation(sigmoid,dsigmoid),0.01),Tree[Tree(DFunction(Class[Class(\"Pair_Sensor_Action\",70),Class(\"Action\",120)],Class(\"Pair_Sensor_Action\",70),[-0.107693 -0.0600718 … -0.145223 -0.0269442; 0.0561174 -0.0124967 … -0.0723313 0.0437752; … ; -0.0614741 0.0449982 … -0.0607214 0.00648833; -0.019895 0.0879635 … 0.0249754 0.0571798],Transformation(sigmoid,dsigmoid),0.01),Dict{Any,Any}(),Tree[Tree(:xy,Dict{Any,Any}(),Tree[]),Tree(:y,Dict{Any,Any}(),Tree[])])]))))"
      ]
     },
     "execution_count": 18,
     "metadata": {},
     "output_type": "execute_result"
    }
   ],
   "source": [
    "type Pair\n",
    "    class :: Class\n",
    "    \n",
    "    pair :: DFunction\n",
    "    first :: DFunction\n",
    "    second :: DFunction\n",
    "    first! :: DFunction\n",
    "    second! :: DFunction\n",
    "    \n",
    "    axiom_first :: Axiom\n",
    "    axiom_second :: Axiom\n",
    "    axiom_first! :: Axiom\n",
    "    axiom_second! :: Axiom\n",
    "end\n",
    "\n",
    "function Pair(class1 :: Class, class2 :: Class, pclass :: Class)\n",
    "    pair = DFunction([class1, class2], pclass)\n",
    "    first = DFunction([pclass], class1)\n",
    "    second = DFunction([pclass], class2)\n",
    "    first! = DFunction([pclass, class1], pclass)\n",
    "    second! = DFunction([pclass, class2], pclass)\n",
    "    \n",
    "    axiom_first = Axiom([first, [pair, :x, :y]], :x)\n",
    "    axiom_second = Axiom([second, [pair, :x, :y]], :y)\n",
    "    axiom_first! = Axiom([first!, :xy, :x], [pair, :x, [second, :xy]])\n",
    "    axiom_second! = Axiom([second!, :xy, :y], [pair, [first, :xy], :y])\n",
    "    \n",
    "    Pair(pclass, pair, first, second, first!, second!, axiom_first, axiom_second, axiom_first!, axiom_second!)\n",
    "end\n",
    "\n",
    "function Pair(class1 :: Class, class2 :: Class, type_len :: Int64)\n",
    "    post_name = string(\"_\", class1.class_name, \"_\", class2.class_name)\n",
    "    pair_name = string(\"Pair\", post_name)\n",
    "    pclass = Class(pair_name, type_len)\n",
    "    Pair(class1, class2, pclass)\n",
    "end\n",
    "\n",
    "@time p = Pair(Sensor, Action, 70)"
   ]
  },
  {
   "cell_type": "code",
   "execution_count": 16,
   "metadata": {
    "collapsed": false
   },
   "outputs": [
    {
     "name": "stdout",
     "output_type": "stream",
     "text": [
      "  0.042834 seconds (22.34 k allocations: 1.639 MB)\n"
     ]
    },
    {
     "data": {
      "text/plain": [
       "List(Class(\"List_Sensor\",70),Object(Class(\"List_Sensor\",70),[0.0,0.0,0.0,0.0,0.0,0.0,0.0,0.0,0.0,0.0  …  0.0,0.0,0.0,0.0,0.0,0.0,0.0,0.0,0.0,0.0]),DFunction(Class[Class(\"Sensor\",100),Class(\"List_Sensor\",70)],Class(\"List_Sensor\",70),[-0.0331431 0.068646 … -0.00914441 0.0997257; 0.0504104 -0.0663497 … 0.0376694 0.0798335; … ; 0.0103291 -0.056067 … -0.0828309 0.0483001; 0.0717637 -0.0518518 … -0.0605018 0.0782914],Transformation(sigmoid,dsigmoid),0.01),DFunction(Class[Class(\"List_Sensor\",70)],Class(\"Sensor\",100),[-0.0778191 -0.0271151 … 0.0848175 -0.114156; -0.250893 0.103727 … -0.204092 0.0541224; … ; -0.0342821 0.00741175 … -0.0670274 -0.0809157; 0.104011 -0.0668095 … -0.138182 -0.0407118],Transformation(sigmoid,dsigmoid),0.01),DFunction(Class[Class(\"List_Sensor\",70)],Class(\"List_Sensor\",70),[-0.11811 0.224077 … -0.0410891 0.12937; 0.034432 -0.237719 … 0.214482 0.0535625; … ; -0.200426 -0.0613795 … 0.165955 -0.0763075; 0.00374246 0.00577532 … 0.146447 0.0404289],Transformation(sigmoid,dsigmoid),0.01),DFunction(Class[Class(\"List_Sensor\",70),Class(\"Sensor\",100)],Class(\"List_Sensor\",70),[0.133332 0.0137432 … 0.0414967 -0.0265649; -0.0889217 -0.0978769 … 0.0867732 -0.0412775; … ; 0.0141718 0.0145525 … 0.0358916 -0.0445831; -0.0249245 -0.00117212 … -0.067412 -0.0389167],Transformation(sigmoid,dsigmoid),0.01),DFunction(Class[Class(\"List_Sensor\",70),Class(\"List_Sensor\",70)],Class(\"List_Sensor\",70),[0.012688 0.017577 … -0.029507 0.0683603; -0.0295204 -0.0345037 … -0.0462218 0.249673; … ; 0.0263548 0.0475386 … -0.110193 0.0657832; 0.127639 0.152727 … -0.0441954 -0.0142836],Transformation(sigmoid,dsigmoid),0.01),Axiom(Tree(DFunction(Class[Class(\"List_Sensor\",70)],Class(\"Sensor\",100),[-0.0778191 -0.0271151 … 0.0848175 -0.114156; -0.250893 0.103727 … -0.204092 0.0541224; … ; -0.0342821 0.00741175 … -0.0670274 -0.0809157; 0.104011 -0.0668095 … -0.138182 -0.0407118],Transformation(sigmoid,dsigmoid),0.01),Dict{Any,Any}(),Tree[Tree(DFunction(Class[Class(\"Sensor\",100),Class(\"List_Sensor\",70)],Class(\"List_Sensor\",70),[-0.0331431 0.068646 … -0.00914441 0.0997257; 0.0504104 -0.0663497 … 0.0376694 0.0798335; … ; 0.0103291 -0.056067 … -0.0828309 0.0483001; 0.0717637 -0.0518518 … -0.0605018 0.0782914],Transformation(sigmoid,dsigmoid),0.01),Dict{Any,Any}(),Tree[Tree(:x,Dict{Any,Any}(),Tree[]),Tree(:xs,Dict{Any,Any}(),Tree[])])]),Tree(:x,Dict{Any,Any}(),Tree[]),Dict{Any,Any}(Pair{Any,Any}(:x,Any[Tree(:x,Dict{Any,Any}(),Tree[]),Tree(:x,Dict{Any,Any}(),Tree[])]),Pair{Any,Any}(:xs,Any[Tree(:xs,Dict{Any,Any}(),Tree[])]),Pair{Any,Any}(DFunction(Class[Class(\"List_Sensor\",70)],Class(\"Sensor\",100),[-0.0778191 -0.0271151 … 0.0848175 -0.114156; -0.250893 0.103727 … -0.204092 0.0541224; … ; -0.0342821 0.00741175 … -0.0670274 -0.0809157; 0.104011 -0.0668095 … -0.138182 -0.0407118],Transformation(sigmoid,dsigmoid),0.01),Tree[Tree(DFunction(Class[Class(\"List_Sensor\",70)],Class(\"Sensor\",100),[-0.0778191 -0.0271151 … 0.0848175 -0.114156; -0.250893 0.103727 … -0.204092 0.0541224; … ; -0.0342821 0.00741175 … -0.0670274 -0.0809157; 0.104011 -0.0668095 … -0.138182 -0.0407118],Transformation(sigmoid,dsigmoid),0.01),Dict{Any,Any}(),Tree[Tree(DFunction(Class[Class(\"Sensor\",100),Class(\"List_Sensor\",70)],Class(\"List_Sensor\",70),[-0.0331431 0.068646 … -0.00914441 0.0997257; 0.0504104 -0.0663497 … 0.0376694 0.0798335; … ; 0.0103291 -0.056067 … -0.0828309 0.0483001; 0.0717637 -0.0518518 … -0.0605018 0.0782914],Transformation(sigmoid,dsigmoid),0.01),Dict{Any,Any}(),Tree[Tree(:x,Dict{Any,Any}(),Tree[]),Tree(:xs,Dict{Any,Any}(),Tree[])])])]),Pair{Any,Any}(DFunction(Class[Class(\"Sensor\",100),Class(\"List_Sensor\",70)],Class(\"List_Sensor\",70),[-0.0331431 0.068646 … -0.00914441 0.0997257; 0.0504104 -0.0663497 … 0.0376694 0.0798335; … ; 0.0103291 -0.056067 … -0.0828309 0.0483001; 0.0717637 -0.0518518 … -0.0605018 0.0782914],Transformation(sigmoid,dsigmoid),0.01),Any[Tree(DFunction(Class[Class(\"Sensor\",100),Class(\"List_Sensor\",70)],Class(\"List_Sensor\",70),[-0.0331431 0.068646 … -0.00914441 0.0997257; 0.0504104 -0.0663497 … 0.0376694 0.0798335; … ; 0.0103291 -0.056067 … -0.0828309 0.0483001; 0.0717637 -0.0518518 … -0.0605018 0.0782914],Transformation(sigmoid,dsigmoid),0.01),Dict{Any,Any}(),Tree[Tree(:x,Dict{Any,Any}(),Tree[]),Tree(:xs,Dict{Any,Any}(),Tree[])])]))),Axiom(Tree(DFunction(Class[Class(\"List_Sensor\",70)],Class(\"List_Sensor\",70),[-0.11811 0.224077 … -0.0410891 0.12937; 0.034432 -0.237719 … 0.214482 0.0535625; … ; -0.200426 -0.0613795 … 0.165955 -0.0763075; 0.00374246 0.00577532 … 0.146447 0.0404289],Transformation(sigmoid,dsigmoid),0.01),Dict{Any,Any}(),Tree[Tree(DFunction(Class[Class(\"Sensor\",100),Class(\"List_Sensor\",70)],Class(\"List_Sensor\",70),[-0.0331431 0.068646 … -0.00914441 0.0997257; 0.0504104 -0.0663497 … 0.0376694 0.0798335; … ; 0.0103291 -0.056067 … -0.0828309 0.0483001; 0.0717637 -0.0518518 … -0.0605018 0.0782914],Transformation(sigmoid,dsigmoid),0.01),Dict{Any,Any}(),Tree[Tree(:x,Dict{Any,Any}(),Tree[]),Tree(:xs,Dict{Any,Any}(),Tree[])])]),Tree(:xs,Dict{Any,Any}(),Tree[]),Dict{Any,Any}(Pair{Any,Any}(DFunction(Class[Class(\"List_Sensor\",70)],Class(\"List_Sensor\",70),[-0.11811 0.224077 … -0.0410891 0.12937; 0.034432 -0.237719 … 0.214482 0.0535625; … ; -0.200426 -0.0613795 … 0.165955 -0.0763075; 0.00374246 0.00577532 … 0.146447 0.0404289],Transformation(sigmoid,dsigmoid),0.01),Tree[Tree(DFunction(Class[Class(\"List_Sensor\",70)],Class(\"List_Sensor\",70),[-0.11811 0.224077 … -0.0410891 0.12937; 0.034432 -0.237719 … 0.214482 0.0535625; … ; -0.200426 -0.0613795 … 0.165955 -0.0763075; 0.00374246 0.00577532 … 0.146447 0.0404289],Transformation(sigmoid,dsigmoid),0.01),Dict{Any,Any}(),Tree[Tree(DFunction(Class[Class(\"Sensor\",100),Class(\"List_Sensor\",70)],Class(\"List_Sensor\",70),[-0.0331431 0.068646 … -0.00914441 0.0997257; 0.0504104 -0.0663497 … 0.0376694 0.0798335; … ; 0.0103291 -0.056067 … -0.0828309 0.0483001; 0.0717637 -0.0518518 … -0.0605018 0.0782914],Transformation(sigmoid,dsigmoid),0.01),Dict{Any,Any}(),Tree[Tree(:x,Dict{Any,Any}(),Tree[]),Tree(:xs,Dict{Any,Any}(),Tree[])])])]),Pair{Any,Any}(:x,Any[Tree(:x,Dict{Any,Any}(),Tree[])]),Pair{Any,Any}(:xs,Any[Tree(:xs,Dict{Any,Any}(),Tree[]),Tree(:xs,Dict{Any,Any}(),Tree[])]),Pair{Any,Any}(DFunction(Class[Class(\"Sensor\",100),Class(\"List_Sensor\",70)],Class(\"List_Sensor\",70),[-0.0331431 0.068646 … -0.00914441 0.0997257; 0.0504104 -0.0663497 … 0.0376694 0.0798335; … ; 0.0103291 -0.056067 … -0.0828309 0.0483001; 0.0717637 -0.0518518 … -0.0605018 0.0782914],Transformation(sigmoid,dsigmoid),0.01),Any[Tree(DFunction(Class[Class(\"Sensor\",100),Class(\"List_Sensor\",70)],Class(\"List_Sensor\",70),[-0.0331431 0.068646 … -0.00914441 0.0997257; 0.0504104 -0.0663497 … 0.0376694 0.0798335; … ; 0.0103291 -0.056067 … -0.0828309 0.0483001; 0.0717637 -0.0518518 … -0.0605018 0.0782914],Transformation(sigmoid,dsigmoid),0.01),Dict{Any,Any}(),Tree[Tree(:x,Dict{Any,Any}(),Tree[]),Tree(:xs,Dict{Any,Any}(),Tree[])])]))),Axiom(Tree(DFunction(Class[Class(\"List_Sensor\",70),Class(\"Sensor\",100)],Class(\"List_Sensor\",70),[0.133332 0.0137432 … 0.0414967 -0.0265649; -0.0889217 -0.0978769 … 0.0867732 -0.0412775; … ; 0.0141718 0.0145525 … 0.0358916 -0.0445831; -0.0249245 -0.00117212 … -0.067412 -0.0389167],Transformation(sigmoid,dsigmoid),0.01),Dict{Any,Any}(),Tree[Tree(:xxs,Dict{Any,Any}(),Tree[]),Tree(:x,Dict{Any,Any}(),Tree[])]),Tree(DFunction(Class[Class(\"Sensor\",100),Class(\"List_Sensor\",70)],Class(\"List_Sensor\",70),[-0.0331431 0.068646 … -0.00914441 0.0997257; 0.0504104 -0.0663497 … 0.0376694 0.0798335; … ; 0.0103291 -0.056067 … -0.0828309 0.0483001; 0.0717637 -0.0518518 … -0.0605018 0.0782914],Transformation(sigmoid,dsigmoid),0.01),Dict{Any,Any}(),Tree[Tree(:x,Dict{Any,Any}(),Tree[]),Tree(DFunction(Class[Class(\"List_Sensor\",70)],Class(\"List_Sensor\",70),[-0.11811 0.224077 … -0.0410891 0.12937; 0.034432 -0.237719 … 0.214482 0.0535625; … ; -0.200426 -0.0613795 … 0.165955 -0.0763075; 0.00374246 0.00577532 … 0.146447 0.0404289],Transformation(sigmoid,dsigmoid),0.01),Dict{Any,Any}(),Tree[Tree(:xxs,Dict{Any,Any}(),Tree[])])]),Dict{Any,Any}(Pair{Any,Any}(:xxs,Any[Tree(:xxs,Dict{Any,Any}(),Tree[]),Tree(:xxs,Dict{Any,Any}(),Tree[])]),Pair{Any,Any}(DFunction(Class[Class(\"List_Sensor\",70)],Class(\"List_Sensor\",70),[-0.11811 0.224077 … -0.0410891 0.12937; 0.034432 -0.237719 … 0.214482 0.0535625; … ; -0.200426 -0.0613795 … 0.165955 -0.0763075; 0.00374246 0.00577532 … 0.146447 0.0404289],Transformation(sigmoid,dsigmoid),0.01),Any[Tree(DFunction(Class[Class(\"List_Sensor\",70)],Class(\"List_Sensor\",70),[-0.11811 0.224077 … -0.0410891 0.12937; 0.034432 -0.237719 … 0.214482 0.0535625; … ; -0.200426 -0.0613795 … 0.165955 -0.0763075; 0.00374246 0.00577532 … 0.146447 0.0404289],Transformation(sigmoid,dsigmoid),0.01),Dict{Any,Any}(),Tree[Tree(:xxs,Dict{Any,Any}(),Tree[])])]),Pair{Any,Any}(:x,Any[Tree(:x,Dict{Any,Any}(),Tree[]),Tree(:x,Dict{Any,Any}(),Tree[])]),Pair{Any,Any}(DFunction(Class[Class(\"List_Sensor\",70),Class(\"Sensor\",100)],Class(\"List_Sensor\",70),[0.133332 0.0137432 … 0.0414967 -0.0265649; -0.0889217 -0.0978769 … 0.0867732 -0.0412775; … ; 0.0141718 0.0145525 … 0.0358916 -0.0445831; -0.0249245 -0.00117212 … -0.067412 -0.0389167],Transformation(sigmoid,dsigmoid),0.01),Tree[Tree(DFunction(Class[Class(\"List_Sensor\",70),Class(\"Sensor\",100)],Class(\"List_Sensor\",70),[0.133332 0.0137432 … 0.0414967 -0.0265649; -0.0889217 -0.0978769 … 0.0867732 -0.0412775; … ; 0.0141718 0.0145525 … 0.0358916 -0.0445831; -0.0249245 -0.00117212 … -0.067412 -0.0389167],Transformation(sigmoid,dsigmoid),0.01),Dict{Any,Any}(),Tree[Tree(:xxs,Dict{Any,Any}(),Tree[]),Tree(:x,Dict{Any,Any}(),Tree[])])]),Pair{Any,Any}(DFunction(Class[Class(\"Sensor\",100),Class(\"List_Sensor\",70)],Class(\"List_Sensor\",70),[-0.0331431 0.068646 … -0.00914441 0.0997257; 0.0504104 -0.0663497 … 0.0376694 0.0798335; … ; 0.0103291 -0.056067 … -0.0828309 0.0483001; 0.0717637 -0.0518518 … -0.0605018 0.0782914],Transformation(sigmoid,dsigmoid),0.01),Any[Tree(DFunction(Class[Class(\"Sensor\",100),Class(\"List_Sensor\",70)],Class(\"List_Sensor\",70),[-0.0331431 0.068646 … -0.00914441 0.0997257; 0.0504104 -0.0663497 … 0.0376694 0.0798335; … ; 0.0103291 -0.056067 … -0.0828309 0.0483001; 0.0717637 -0.0518518 … -0.0605018 0.0782914],Transformation(sigmoid,dsigmoid),0.01),Dict{Any,Any}(),Tree[Tree(:x,Dict{Any,Any}(),Tree[]),Tree(DFunction(Class[Class(\"List_Sensor\",70)],Class(\"List_Sensor\",70),[-0.11811 0.224077 … -0.0410891 0.12937; 0.034432 -0.237719 … 0.214482 0.0535625; … ; -0.200426 -0.0613795 … 0.165955 -0.0763075; 0.00374246 0.00577532 … 0.146447 0.0404289],Transformation(sigmoid,dsigmoid),0.01),Dict{Any,Any}(),Tree[Tree(:xxs,Dict{Any,Any}(),Tree[])])])]))),Axiom(Tree(DFunction(Class[Class(\"List_Sensor\",70),Class(\"List_Sensor\",70)],Class(\"List_Sensor\",70),[0.012688 0.017577 … -0.029507 0.0683603; -0.0295204 -0.0345037 … -0.0462218 0.249673; … ; 0.0263548 0.0475386 … -0.110193 0.0657832; 0.127639 0.152727 … -0.0441954 -0.0142836],Transformation(sigmoid,dsigmoid),0.01),Dict{Any,Any}(),Tree[Tree(:xxs,Dict{Any,Any}(),Tree[]),Tree(:xs,Dict{Any,Any}(),Tree[])]),Tree(DFunction(Class[Class(\"Sensor\",100),Class(\"List_Sensor\",70)],Class(\"List_Sensor\",70),[-0.0331431 0.068646 … -0.00914441 0.0997257; 0.0504104 -0.0663497 … 0.0376694 0.0798335; … ; 0.0103291 -0.056067 … -0.0828309 0.0483001; 0.0717637 -0.0518518 … -0.0605018 0.0782914],Transformation(sigmoid,dsigmoid),0.01),Dict{Any,Any}(),Tree[Tree(DFunction(Class[Class(\"List_Sensor\",70)],Class(\"Sensor\",100),[-0.0778191 -0.0271151 … 0.0848175 -0.114156; -0.250893 0.103727 … -0.204092 0.0541224; … ; -0.0342821 0.00741175 … -0.0670274 -0.0809157; 0.104011 -0.0668095 … -0.138182 -0.0407118],Transformation(sigmoid,dsigmoid),0.01),Dict{Any,Any}(),Tree[Tree(:xxs,Dict{Any,Any}(),Tree[])]),Tree(:xs,Dict{Any,Any}(),Tree[])]),Dict{Any,Any}(Pair{Any,Any}(:xxs,Any[Tree(:xxs,Dict{Any,Any}(),Tree[]),Tree(:xxs,Dict{Any,Any}(),Tree[])]),Pair{Any,Any}(DFunction(Class[Class(\"List_Sensor\",70),Class(\"List_Sensor\",70)],Class(\"List_Sensor\",70),[0.012688 0.017577 … -0.029507 0.0683603; -0.0295204 -0.0345037 … -0.0462218 0.249673; … ; 0.0263548 0.0475386 … -0.110193 0.0657832; 0.127639 0.152727 … -0.0441954 -0.0142836],Transformation(sigmoid,dsigmoid),0.01),Tree[Tree(DFunction(Class[Class(\"List_Sensor\",70),Class(\"List_Sensor\",70)],Class(\"List_Sensor\",70),[0.012688 0.017577 … -0.029507 0.0683603; -0.0295204 -0.0345037 … -0.0462218 0.249673; … ; 0.0263548 0.0475386 … -0.110193 0.0657832; 0.127639 0.152727 … -0.0441954 -0.0142836],Transformation(sigmoid,dsigmoid),0.01),Dict{Any,Any}(),Tree[Tree(:xxs,Dict{Any,Any}(),Tree[]),Tree(:xs,Dict{Any,Any}(),Tree[])])]),Pair{Any,Any}(:xs,Any[Tree(:xs,Dict{Any,Any}(),Tree[]),Tree(:xs,Dict{Any,Any}(),Tree[])]),Pair{Any,Any}(DFunction(Class[Class(\"List_Sensor\",70)],Class(\"Sensor\",100),[-0.0778191 -0.0271151 … 0.0848175 -0.114156; -0.250893 0.103727 … -0.204092 0.0541224; … ; -0.0342821 0.00741175 … -0.0670274 -0.0809157; 0.104011 -0.0668095 … -0.138182 -0.0407118],Transformation(sigmoid,dsigmoid),0.01),Any[Tree(DFunction(Class[Class(\"List_Sensor\",70)],Class(\"Sensor\",100),[-0.0778191 -0.0271151 … 0.0848175 -0.114156; -0.250893 0.103727 … -0.204092 0.0541224; … ; -0.0342821 0.00741175 … -0.0670274 -0.0809157; 0.104011 -0.0668095 … -0.138182 -0.0407118],Transformation(sigmoid,dsigmoid),0.01),Dict{Any,Any}(),Tree[Tree(:xxs,Dict{Any,Any}(),Tree[])])]),Pair{Any,Any}(DFunction(Class[Class(\"Sensor\",100),Class(\"List_Sensor\",70)],Class(\"List_Sensor\",70),[-0.0331431 0.068646 … -0.00914441 0.0997257; 0.0504104 -0.0663497 … 0.0376694 0.0798335; … ; 0.0103291 -0.056067 … -0.0828309 0.0483001; 0.0717637 -0.0518518 … -0.0605018 0.0782914],Transformation(sigmoid,dsigmoid),0.01),Any[Tree(DFunction(Class[Class(\"Sensor\",100),Class(\"List_Sensor\",70)],Class(\"List_Sensor\",70),[-0.0331431 0.068646 … -0.00914441 0.0997257; 0.0504104 -0.0663497 … 0.0376694 0.0798335; … ; 0.0103291 -0.056067 … -0.0828309 0.0483001; 0.0717637 -0.0518518 … -0.0605018 0.0782914],Transformation(sigmoid,dsigmoid),0.01),Dict{Any,Any}(),Tree[Tree(DFunction(Class[Class(\"List_Sensor\",70)],Class(\"Sensor\",100),[-0.0778191 -0.0271151 … 0.0848175 -0.114156; -0.250893 0.103727 … -0.204092 0.0541224; … ; -0.0342821 0.00741175 … -0.0670274 -0.0809157; 0.104011 -0.0668095 … -0.138182 -0.0407118],Transformation(sigmoid,dsigmoid),0.01),Dict{Any,Any}(),Tree[Tree(:xxs,Dict{Any,Any}(),Tree[])]),Tree(:xs,Dict{Any,Any}(),Tree[])])]))))"
      ]
     },
     "execution_count": 16,
     "metadata": {},
     "output_type": "execute_result"
    }
   ],
   "source": [
    "type List\n",
    "    class :: Class\n",
    "    \n",
    "    empty :: Object\n",
    "\n",
    "    cons :: DFunction\n",
    "    first :: DFunction\n",
    "    rest :: DFunction\n",
    "    first! :: DFunction\n",
    "    rest! :: DFunction\n",
    "    \n",
    "    axiom_first :: Axiom\n",
    "    axiom_rest :: Axiom\n",
    "    axiom_first! :: Axiom\n",
    "    axiom_rest! :: Axiom\n",
    "end\n",
    "\n",
    "function List(class :: Class, lclass :: Class)\n",
    "    empty = Object(lclass)\n",
    "    empty.value .= 0.\n",
    "    \n",
    "    cons = DFunction([class, lclass], lclass)\n",
    "    first = DFunction([lclass], class)\n",
    "    rest = DFunction([lclass], lclass)\n",
    "    first! = DFunction([lclass, class], lclass)\n",
    "    rest! = DFunction([lclass, lclass], lclass)\n",
    "    \n",
    "    axiom_first = Axiom([first, [cons, :x, :xs]], :x)\n",
    "    axiom_rest = Axiom([rest, [cons, :x, :xs]], :xs)\n",
    "    axiom_first! = Axiom([first!, :xxs, :x], [cons, :x, [rest, :xxs]])\n",
    "    axiom_rest! = Axiom([rest!, :xxs, :xs], [cons, [first, :xxs], :xs])\n",
    "    \n",
    "    List(lclass, empty, cons, first, rest, first!, rest!, axiom_first, axiom_rest, axiom_first!, axiom_rest!)\n",
    "end\n",
    "\n",
    "function List(class :: Class, type_len :: Int64)\n",
    "    list_name = string(\"List\", \"_\", class.class_name)\n",
    "    lclass = Class(list_name, type_len)\n",
    "    List(class, lclass)\n",
    "end\n",
    "\n",
    "@time l = List(Sensor, 70)"
   ]
  },
  {
   "cell_type": "code",
   "execution_count": 17,
   "metadata": {
    "collapsed": false
   },
   "outputs": [
    {
     "data": {
      "text/plain": [
       "List(Class(\"List_List_Pair_Variable_LambdaTerm\",200),Object(Class(\"List_List_Pair_Variable_LambdaTerm\",200),[0.0,0.0,0.0,0.0,0.0,0.0,0.0,0.0,0.0,0.0  …  0.0,0.0,0.0,0.0,0.0,0.0,0.0,0.0,0.0,0.0]),DFunction(Class[Class(\"List_Pair_Variable_LambdaTerm\",100),Class(\"List_List_Pair_Variable_LambdaTerm\",200)],Class(\"List_List_Pair_Variable_LambdaTerm\",200),[-0.0524973 -0.00907163 … -0.0987405 -0.0121883; 0.0358696 -0.049659 … -0.00466115 0.0463604; … ; -0.0722214 0.0107898 … -0.0328349 -0.0893685; 0.109161 0.061238 … 0.0743674 0.0528122],Transformation(sigmoid,dsigmoid),0.01),DFunction(Class[Class(\"List_List_Pair_Variable_LambdaTerm\",200)],Class(\"List_Pair_Variable_LambdaTerm\",100),[-0.0476937 -0.134438 … -0.0475902 -0.044982; -0.0410878 0.0358552 … -0.0559644 -0.0211549; … ; -0.0207213 -0.0124358 … 0.0950171 0.098452; 0.0705631 -0.127088 … -0.191533 -0.049921],Transformation(sigmoid,dsigmoid),0.01),DFunction(Class[Class(\"List_List_Pair_Variable_LambdaTerm\",200)],Class(\"List_List_Pair_Variable_LambdaTerm\",200),[-0.0895585 0.123678 … 0.0896707 -0.0392162; -0.134148 0.0865884 … -0.0930258 -0.0785243; … ; 0.0197176 -0.0222265 … -0.0443887 0.0945343; -0.0812131 -0.000259125 … -0.0221369 0.0113668],Transformation(sigmoid,dsigmoid),0.01),DFunction(Class[Class(\"List_List_Pair_Variable_LambdaTerm\",200),Class(\"List_Pair_Variable_LambdaTerm\",100)],Class(\"List_List_Pair_Variable_LambdaTerm\",200),[-0.111623 0.101217 … -0.0266242 -0.0673531; -0.0472134 0.0900607 … 0.0773127 -0.0309713; … ; -0.0954058 0.0540219 … 0.0041165 -0.0128344; -0.029246 -0.0809372 … -0.0526565 0.0615718],Transformation(sigmoid,dsigmoid),0.01),DFunction(Class[Class(\"List_List_Pair_Variable_LambdaTerm\",200),Class(\"List_List_Pair_Variable_LambdaTerm\",200)],Class(\"List_List_Pair_Variable_LambdaTerm\",200),[0.0155713 -0.0811655 … 0.0077286 -0.0187983; -0.0720597 0.046572 … 0.0149593 0.0678843; … ; -0.00773672 0.0170834 … 0.0804972 0.0691258; 0.0574701 0.00938458 … -0.0264838 0.0429755],Transformation(sigmoid,dsigmoid),0.01),Axiom(Tree(DFunction(Class[Class(\"List_List_Pair_Variable_LambdaTerm\",200)],Class(\"List_Pair_Variable_LambdaTerm\",100),[-0.0476937 -0.134438 … -0.0475902 -0.044982; -0.0410878 0.0358552 … -0.0559644 -0.0211549; … ; -0.0207213 -0.0124358 … 0.0950171 0.098452; 0.0705631 -0.127088 … -0.191533 -0.049921],Transformation(sigmoid,dsigmoid),0.01),Dict{Any,Any}(),Tree[Tree(DFunction(Class[Class(\"List_Pair_Variable_LambdaTerm\",100),Class(\"List_List_Pair_Variable_LambdaTerm\",200)],Class(\"List_List_Pair_Variable_LambdaTerm\",200),[-0.0524973 -0.00907163 … -0.0987405 -0.0121883; 0.0358696 -0.049659 … -0.00466115 0.0463604; … ; -0.0722214 0.0107898 … -0.0328349 -0.0893685; 0.109161 0.061238 … 0.0743674 0.0528122],Transformation(sigmoid,dsigmoid),0.01),Dict{Any,Any}(),Tree[Tree(:x,Dict{Any,Any}(),Tree[]),Tree(:xs,Dict{Any,Any}(),Tree[])])]),Tree(:x,Dict{Any,Any}(),Tree[]),Dict{Any,Any}(Pair{Any,Any}(DFunction(Class[Class(\"List_List_Pair_Variable_LambdaTerm\",200)],Class(\"List_Pair_Variable_LambdaTerm\",100),[-0.0476937 -0.134438 … -0.0475902 -0.044982; -0.0410878 0.0358552 … -0.0559644 -0.0211549; … ; -0.0207213 -0.0124358 … 0.0950171 0.098452; 0.0705631 -0.127088 … -0.191533 -0.049921],Transformation(sigmoid,dsigmoid),0.01),Tree[Tree(DFunction(Class[Class(\"List_List_Pair_Variable_LambdaTerm\",200)],Class(\"List_Pair_Variable_LambdaTerm\",100),[-0.0476937 -0.134438 … -0.0475902 -0.044982; -0.0410878 0.0358552 … -0.0559644 -0.0211549; … ; -0.0207213 -0.0124358 … 0.0950171 0.098452; 0.0705631 -0.127088 … -0.191533 -0.049921],Transformation(sigmoid,dsigmoid),0.01),Dict{Any,Any}(),Tree[Tree(DFunction(Class[Class(\"List_Pair_Variable_LambdaTerm\",100),Class(\"List_List_Pair_Variable_LambdaTerm\",200)],Class(\"List_List_Pair_Variable_LambdaTerm\",200),[-0.0524973 -0.00907163 … -0.0987405 -0.0121883; 0.0358696 -0.049659 … -0.00466115 0.0463604; … ; -0.0722214 0.0107898 … -0.0328349 -0.0893685; 0.109161 0.061238 … 0.0743674 0.0528122],Transformation(sigmoid,dsigmoid),0.01),Dict{Any,Any}(),Tree[Tree(:x,Dict{Any,Any}(),Tree[]),Tree(:xs,Dict{Any,Any}(),Tree[])])])]),Pair{Any,Any}(:x,Any[Tree(:x,Dict{Any,Any}(),Tree[]),Tree(:x,Dict{Any,Any}(),Tree[])]),Pair{Any,Any}(DFunction(Class[Class(\"List_Pair_Variable_LambdaTerm\",100),Class(\"List_List_Pair_Variable_LambdaTerm\",200)],Class(\"List_List_Pair_Variable_LambdaTerm\",200),[-0.0524973 -0.00907163 … -0.0987405 -0.0121883; 0.0358696 -0.049659 … -0.00466115 0.0463604; … ; -0.0722214 0.0107898 … -0.0328349 -0.0893685; 0.109161 0.061238 … 0.0743674 0.0528122],Transformation(sigmoid,dsigmoid),0.01),Any[Tree(DFunction(Class[Class(\"List_Pair_Variable_LambdaTerm\",100),Class(\"List_List_Pair_Variable_LambdaTerm\",200)],Class(\"List_List_Pair_Variable_LambdaTerm\",200),[-0.0524973 -0.00907163 … -0.0987405 -0.0121883; 0.0358696 -0.049659 … -0.00466115 0.0463604; … ; -0.0722214 0.0107898 … -0.0328349 -0.0893685; 0.109161 0.061238 … 0.0743674 0.0528122],Transformation(sigmoid,dsigmoid),0.01),Dict{Any,Any}(),Tree[Tree(:x,Dict{Any,Any}(),Tree[]),Tree(:xs,Dict{Any,Any}(),Tree[])])]),Pair{Any,Any}(:xs,Any[Tree(:xs,Dict{Any,Any}(),Tree[])]))),Axiom(Tree(DFunction(Class[Class(\"List_List_Pair_Variable_LambdaTerm\",200)],Class(\"List_List_Pair_Variable_LambdaTerm\",200),[-0.0895585 0.123678 … 0.0896707 -0.0392162; -0.134148 0.0865884 … -0.0930258 -0.0785243; … ; 0.0197176 -0.0222265 … -0.0443887 0.0945343; -0.0812131 -0.000259125 … -0.0221369 0.0113668],Transformation(sigmoid,dsigmoid),0.01),Dict{Any,Any}(),Tree[Tree(DFunction(Class[Class(\"List_Pair_Variable_LambdaTerm\",100),Class(\"List_List_Pair_Variable_LambdaTerm\",200)],Class(\"List_List_Pair_Variable_LambdaTerm\",200),[-0.0524973 -0.00907163 … -0.0987405 -0.0121883; 0.0358696 -0.049659 … -0.00466115 0.0463604; … ; -0.0722214 0.0107898 … -0.0328349 -0.0893685; 0.109161 0.061238 … 0.0743674 0.0528122],Transformation(sigmoid,dsigmoid),0.01),Dict{Any,Any}(),Tree[Tree(:x,Dict{Any,Any}(),Tree[]),Tree(:xs,Dict{Any,Any}(),Tree[])])]),Tree(:xs,Dict{Any,Any}(),Tree[]),Dict{Any,Any}(Pair{Any,Any}(DFunction(Class[Class(\"List_List_Pair_Variable_LambdaTerm\",200)],Class(\"List_List_Pair_Variable_LambdaTerm\",200),[-0.0895585 0.123678 … 0.0896707 -0.0392162; -0.134148 0.0865884 … -0.0930258 -0.0785243; … ; 0.0197176 -0.0222265 … -0.0443887 0.0945343; -0.0812131 -0.000259125 … -0.0221369 0.0113668],Transformation(sigmoid,dsigmoid),0.01),Tree[Tree(DFunction(Class[Class(\"List_List_Pair_Variable_LambdaTerm\",200)],Class(\"List_List_Pair_Variable_LambdaTerm\",200),[-0.0895585 0.123678 … 0.0896707 -0.0392162; -0.134148 0.0865884 … -0.0930258 -0.0785243; … ; 0.0197176 -0.0222265 … -0.0443887 0.0945343; -0.0812131 -0.000259125 … -0.0221369 0.0113668],Transformation(sigmoid,dsigmoid),0.01),Dict{Any,Any}(),Tree[Tree(DFunction(Class[Class(\"List_Pair_Variable_LambdaTerm\",100),Class(\"List_List_Pair_Variable_LambdaTerm\",200)],Class(\"List_List_Pair_Variable_LambdaTerm\",200),[-0.0524973 -0.00907163 … -0.0987405 -0.0121883; 0.0358696 -0.049659 … -0.00466115 0.0463604; … ; -0.0722214 0.0107898 … -0.0328349 -0.0893685; 0.109161 0.061238 … 0.0743674 0.0528122],Transformation(sigmoid,dsigmoid),0.01),Dict{Any,Any}(),Tree[Tree(:x,Dict{Any,Any}(),Tree[]),Tree(:xs,Dict{Any,Any}(),Tree[])])])]),Pair{Any,Any}(:x,Any[Tree(:x,Dict{Any,Any}(),Tree[])]),Pair{Any,Any}(DFunction(Class[Class(\"List_Pair_Variable_LambdaTerm\",100),Class(\"List_List_Pair_Variable_LambdaTerm\",200)],Class(\"List_List_Pair_Variable_LambdaTerm\",200),[-0.0524973 -0.00907163 … -0.0987405 -0.0121883; 0.0358696 -0.049659 … -0.00466115 0.0463604; … ; -0.0722214 0.0107898 … -0.0328349 -0.0893685; 0.109161 0.061238 … 0.0743674 0.0528122],Transformation(sigmoid,dsigmoid),0.01),Any[Tree(DFunction(Class[Class(\"List_Pair_Variable_LambdaTerm\",100),Class(\"List_List_Pair_Variable_LambdaTerm\",200)],Class(\"List_List_Pair_Variable_LambdaTerm\",200),[-0.0524973 -0.00907163 … -0.0987405 -0.0121883; 0.0358696 -0.049659 … -0.00466115 0.0463604; … ; -0.0722214 0.0107898 … -0.0328349 -0.0893685; 0.109161 0.061238 … 0.0743674 0.0528122],Transformation(sigmoid,dsigmoid),0.01),Dict{Any,Any}(),Tree[Tree(:x,Dict{Any,Any}(),Tree[]),Tree(:xs,Dict{Any,Any}(),Tree[])])]),Pair{Any,Any}(:xs,Any[Tree(:xs,Dict{Any,Any}(),Tree[]),Tree(:xs,Dict{Any,Any}(),Tree[])]))),Axiom(Tree(DFunction(Class[Class(\"List_List_Pair_Variable_LambdaTerm\",200),Class(\"List_Pair_Variable_LambdaTerm\",100)],Class(\"List_List_Pair_Variable_LambdaTerm\",200),[-0.111623 0.101217 … -0.0266242 -0.0673531; -0.0472134 0.0900607 … 0.0773127 -0.0309713; … ; -0.0954058 0.0540219 … 0.0041165 -0.0128344; -0.029246 -0.0809372 … -0.0526565 0.0615718],Transformation(sigmoid,dsigmoid),0.01),Dict{Any,Any}(),Tree[Tree(:xxs,Dict{Any,Any}(),Tree[]),Tree(:x,Dict{Any,Any}(),Tree[])]),Tree(DFunction(Class[Class(\"List_Pair_Variable_LambdaTerm\",100),Class(\"List_List_Pair_Variable_LambdaTerm\",200)],Class(\"List_List_Pair_Variable_LambdaTerm\",200),[-0.0524973 -0.00907163 … -0.0987405 -0.0121883; 0.0358696 -0.049659 … -0.00466115 0.0463604; … ; -0.0722214 0.0107898 … -0.0328349 -0.0893685; 0.109161 0.061238 … 0.0743674 0.0528122],Transformation(sigmoid,dsigmoid),0.01),Dict{Any,Any}(),Tree[Tree(:x,Dict{Any,Any}(),Tree[]),Tree(DFunction(Class[Class(\"List_List_Pair_Variable_LambdaTerm\",200)],Class(\"List_List_Pair_Variable_LambdaTerm\",200),[-0.0895585 0.123678 … 0.0896707 -0.0392162; -0.134148 0.0865884 … -0.0930258 -0.0785243; … ; 0.0197176 -0.0222265 … -0.0443887 0.0945343; -0.0812131 -0.000259125 … -0.0221369 0.0113668],Transformation(sigmoid,dsigmoid),0.01),Dict{Any,Any}(),Tree[Tree(:xxs,Dict{Any,Any}(),Tree[])])]),Dict{Any,Any}(Pair{Any,Any}(:xxs,Any[Tree(:xxs,Dict{Any,Any}(),Tree[]),Tree(:xxs,Dict{Any,Any}(),Tree[])]),Pair{Any,Any}(DFunction(Class[Class(\"List_List_Pair_Variable_LambdaTerm\",200)],Class(\"List_List_Pair_Variable_LambdaTerm\",200),[-0.0895585 0.123678 … 0.0896707 -0.0392162; -0.134148 0.0865884 … -0.0930258 -0.0785243; … ; 0.0197176 -0.0222265 … -0.0443887 0.0945343; -0.0812131 -0.000259125 … -0.0221369 0.0113668],Transformation(sigmoid,dsigmoid),0.01),Any[Tree(DFunction(Class[Class(\"List_List_Pair_Variable_LambdaTerm\",200)],Class(\"List_List_Pair_Variable_LambdaTerm\",200),[-0.0895585 0.123678 … 0.0896707 -0.0392162; -0.134148 0.0865884 … -0.0930258 -0.0785243; … ; 0.0197176 -0.0222265 … -0.0443887 0.0945343; -0.0812131 -0.000259125 … -0.0221369 0.0113668],Transformation(sigmoid,dsigmoid),0.01),Dict{Any,Any}(),Tree[Tree(:xxs,Dict{Any,Any}(),Tree[])])]),Pair{Any,Any}(DFunction(Class[Class(\"List_List_Pair_Variable_LambdaTerm\",200),Class(\"List_Pair_Variable_LambdaTerm\",100)],Class(\"List_List_Pair_Variable_LambdaTerm\",200),[-0.111623 0.101217 … -0.0266242 -0.0673531; -0.0472134 0.0900607 … 0.0773127 -0.0309713; … ; -0.0954058 0.0540219 … 0.0041165 -0.0128344; -0.029246 -0.0809372 … -0.0526565 0.0615718],Transformation(sigmoid,dsigmoid),0.01),Tree[Tree(DFunction(Class[Class(\"List_List_Pair_Variable_LambdaTerm\",200),Class(\"List_Pair_Variable_LambdaTerm\",100)],Class(\"List_List_Pair_Variable_LambdaTerm\",200),[-0.111623 0.101217 … -0.0266242 -0.0673531; -0.0472134 0.0900607 … 0.0773127 -0.0309713; … ; -0.0954058 0.0540219 … 0.0041165 -0.0128344; -0.029246 -0.0809372 … -0.0526565 0.0615718],Transformation(sigmoid,dsigmoid),0.01),Dict{Any,Any}(),Tree[Tree(:xxs,Dict{Any,Any}(),Tree[]),Tree(:x,Dict{Any,Any}(),Tree[])])]),Pair{Any,Any}(:x,Any[Tree(:x,Dict{Any,Any}(),Tree[]),Tree(:x,Dict{Any,Any}(),Tree[])]),Pair{Any,Any}(DFunction(Class[Class(\"List_Pair_Variable_LambdaTerm\",100),Class(\"List_List_Pair_Variable_LambdaTerm\",200)],Class(\"List_List_Pair_Variable_LambdaTerm\",200),[-0.0524973 -0.00907163 … -0.0987405 -0.0121883; 0.0358696 -0.049659 … -0.00466115 0.0463604; … ; -0.0722214 0.0107898 … -0.0328349 -0.0893685; 0.109161 0.061238 … 0.0743674 0.0528122],Transformation(sigmoid,dsigmoid),0.01),Any[Tree(DFunction(Class[Class(\"List_Pair_Variable_LambdaTerm\",100),Class(\"List_List_Pair_Variable_LambdaTerm\",200)],Class(\"List_List_Pair_Variable_LambdaTerm\",200),[-0.0524973 -0.00907163 … -0.0987405 -0.0121883; 0.0358696 -0.049659 … -0.00466115 0.0463604; … ; -0.0722214 0.0107898 … -0.0328349 -0.0893685; 0.109161 0.061238 … 0.0743674 0.0528122],Transformation(sigmoid,dsigmoid),0.01),Dict{Any,Any}(),Tree[Tree(:x,Dict{Any,Any}(),Tree[]),Tree(DFunction(Class[Class(\"List_List_Pair_Variable_LambdaTerm\",200)],Class(\"List_List_Pair_Variable_LambdaTerm\",200),[-0.0895585 0.123678 … 0.0896707 -0.0392162; -0.134148 0.0865884 … -0.0930258 -0.0785243; … ; 0.0197176 -0.0222265 … -0.0443887 0.0945343; -0.0812131 -0.000259125 … -0.0221369 0.0113668],Transformation(sigmoid,dsigmoid),0.01),Dict{Any,Any}(),Tree[Tree(:xxs,Dict{Any,Any}(),Tree[])])])]))),Axiom(Tree(DFunction(Class[Class(\"List_List_Pair_Variable_LambdaTerm\",200),Class(\"List_List_Pair_Variable_LambdaTerm\",200)],Class(\"List_List_Pair_Variable_LambdaTerm\",200),[0.0155713 -0.0811655 … 0.0077286 -0.0187983; -0.0720597 0.046572 … 0.0149593 0.0678843; … ; -0.00773672 0.0170834 … 0.0804972 0.0691258; 0.0574701 0.00938458 … -0.0264838 0.0429755],Transformation(sigmoid,dsigmoid),0.01),Dict{Any,Any}(),Tree[Tree(:xxs,Dict{Any,Any}(),Tree[]),Tree(:xs,Dict{Any,Any}(),Tree[])]),Tree(DFunction(Class[Class(\"List_Pair_Variable_LambdaTerm\",100),Class(\"List_List_Pair_Variable_LambdaTerm\",200)],Class(\"List_List_Pair_Variable_LambdaTerm\",200),[-0.0524973 -0.00907163 … -0.0987405 -0.0121883; 0.0358696 -0.049659 … -0.00466115 0.0463604; … ; -0.0722214 0.0107898 … -0.0328349 -0.0893685; 0.109161 0.061238 … 0.0743674 0.0528122],Transformation(sigmoid,dsigmoid),0.01),Dict{Any,Any}(),Tree[Tree(DFunction(Class[Class(\"List_List_Pair_Variable_LambdaTerm\",200)],Class(\"List_Pair_Variable_LambdaTerm\",100),[-0.0476937 -0.134438 … -0.0475902 -0.044982; -0.0410878 0.0358552 … -0.0559644 -0.0211549; … ; -0.0207213 -0.0124358 … 0.0950171 0.098452; 0.0705631 -0.127088 … -0.191533 -0.049921],Transformation(sigmoid,dsigmoid),0.01),Dict{Any,Any}(),Tree[Tree(:xxs,Dict{Any,Any}(),Tree[])]),Tree(:xs,Dict{Any,Any}(),Tree[])]),Dict{Any,Any}(Pair{Any,Any}(:xxs,Any[Tree(:xxs,Dict{Any,Any}(),Tree[]),Tree(:xxs,Dict{Any,Any}(),Tree[])]),Pair{Any,Any}(DFunction(Class[Class(\"List_List_Pair_Variable_LambdaTerm\",200),Class(\"List_List_Pair_Variable_LambdaTerm\",200)],Class(\"List_List_Pair_Variable_LambdaTerm\",200),[0.0155713 -0.0811655 … 0.0077286 -0.0187983; -0.0720597 0.046572 … 0.0149593 0.0678843; … ; -0.00773672 0.0170834 … 0.0804972 0.0691258; 0.0574701 0.00938458 … -0.0264838 0.0429755],Transformation(sigmoid,dsigmoid),0.01),Tree[Tree(DFunction(Class[Class(\"List_List_Pair_Variable_LambdaTerm\",200),Class(\"List_List_Pair_Variable_LambdaTerm\",200)],Class(\"List_List_Pair_Variable_LambdaTerm\",200),[0.0155713 -0.0811655 … 0.0077286 -0.0187983; -0.0720597 0.046572 … 0.0149593 0.0678843; … ; -0.00773672 0.0170834 … 0.0804972 0.0691258; 0.0574701 0.00938458 … -0.0264838 0.0429755],Transformation(sigmoid,dsigmoid),0.01),Dict{Any,Any}(),Tree[Tree(:xxs,Dict{Any,Any}(),Tree[]),Tree(:xs,Dict{Any,Any}(),Tree[])])]),Pair{Any,Any}(DFunction(Class[Class(\"List_List_Pair_Variable_LambdaTerm\",200)],Class(\"List_Pair_Variable_LambdaTerm\",100),[-0.0476937 -0.134438 … -0.0475902 -0.044982; -0.0410878 0.0358552 … -0.0559644 -0.0211549; … ; -0.0207213 -0.0124358 … 0.0950171 0.098452; 0.0705631 -0.127088 … -0.191533 -0.049921],Transformation(sigmoid,dsigmoid),0.01),Any[Tree(DFunction(Class[Class(\"List_List_Pair_Variable_LambdaTerm\",200)],Class(\"List_Pair_Variable_LambdaTerm\",100),[-0.0476937 -0.134438 … -0.0475902 -0.044982; -0.0410878 0.0358552 … -0.0559644 -0.0211549; … ; -0.0207213 -0.0124358 … 0.0950171 0.098452; 0.0705631 -0.127088 … -0.191533 -0.049921],Transformation(sigmoid,dsigmoid),0.01),Dict{Any,Any}(),Tree[Tree(:xxs,Dict{Any,Any}(),Tree[])])]),Pair{Any,Any}(:xs,Any[Tree(:xs,Dict{Any,Any}(),Tree[]),Tree(:xs,Dict{Any,Any}(),Tree[])]),Pair{Any,Any}(DFunction(Class[Class(\"List_Pair_Variable_LambdaTerm\",100),Class(\"List_List_Pair_Variable_LambdaTerm\",200)],Class(\"List_List_Pair_Variable_LambdaTerm\",200),[-0.0524973 -0.00907163 … -0.0987405 -0.0121883; 0.0358696 -0.049659 … -0.00466115 0.0463604; … ; -0.0722214 0.0107898 … -0.0328349 -0.0893685; 0.109161 0.061238 … 0.0743674 0.0528122],Transformation(sigmoid,dsigmoid),0.01),Any[Tree(DFunction(Class[Class(\"List_Pair_Variable_LambdaTerm\",100),Class(\"List_List_Pair_Variable_LambdaTerm\",200)],Class(\"List_List_Pair_Variable_LambdaTerm\",200),[-0.0524973 -0.00907163 … -0.0987405 -0.0121883; 0.0358696 -0.049659 … -0.00466115 0.0463604; … ; -0.0722214 0.0107898 … -0.0328349 -0.0893685; 0.109161 0.061238 … 0.0743674 0.0528122],Transformation(sigmoid,dsigmoid),0.01),Dict{Any,Any}(),Tree[Tree(DFunction(Class[Class(\"List_List_Pair_Variable_LambdaTerm\",200)],Class(\"List_Pair_Variable_LambdaTerm\",100),[-0.0476937 -0.134438 … -0.0475902 -0.044982; -0.0410878 0.0358552 … -0.0559644 -0.0211549; … ; -0.0207213 -0.0124358 … 0.0950171 0.098452; 0.0705631 -0.127088 … -0.191533 -0.049921],Transformation(sigmoid,dsigmoid),0.01),Dict{Any,Any}(),Tree[Tree(:xxs,Dict{Any,Any}(),Tree[])]),Tree(:xs,Dict{Any,Any}(),Tree[])])]))))"
      ]
     },
     "execution_count": 17,
     "metadata": {},
     "output_type": "execute_result"
    }
   ],
   "source": [
    "## Binding, Frame and Environment\n",
    "\n",
    "Binding = Pair(Variable, LambdaTerm, 100)\n",
    "Frame = List(Binding.class, 100)\n",
    "Env = List(Frame.class, 200)\n",
    "\n",
    "lookup = DFunction([Env.class, Variable], LambdaTerm)\n",
    "axiom_lookup1 = Axiom([lookup, [Env.cons, [Frame.cons, [Binding.pair, :v1, :t1], :f2], :e2], :v1], :t1)\n",
    "axiom_lookup2 = Axiom([lookup, [Env.cons, [Frame.cons, [Binding.pair, :v1, :t1], :f2], :e2], :v2], \n",
    "                      [lookup, [Env.cons, :f2, :e2], :v2])\n",
    "axiom_lookup3 = Axiom([lookup, [Env.cons, Frame.empty, :e2], :v1], [lookup, :e2, :v1])\n",
    "\n",
    "set = DFunction([Env.class, Variable, LambdaTerm], Env)\n",
    "axiom_set1 = Axiom([set, [Env.cons, [Frame.cons, [Binding.pair, :v1, :t1], :f2], :e2], :v1, :t2], \n",
    "                   [Env.cons, [Frame.cons, [Binding.pair, :v1, :t2], :f2], :e2])\n",
    "axiom_set2 = Axiom([set, [Env.cons, [Frame.cons, [Binding.pair, :v1, :t1], :f2], :e2], :v2, :t2], \n",
    "                   [Env.cons, [Frame.cons, [Binding.pair, :v1, :t1], \n",
    "                                           [Env.first, [set, [Env.cons, :f2, :e2], :v2, :t2]]], \n",
    "                              [Env.rest, [set, [Env.cons, :f2, :e2], :v2, :t2]]])\n",
    "axiom_set3 = Axiom([set, [Env.cons, Frame.empty, :e2], :v1], [Env.cons, Frame.empty, [set, :e2, :v1]])\n"
   ]
  },
  {
   "cell_type": "code",
   "execution_count": null,
   "metadata": {
    "collapsed": true
   },
   "outputs": [],
   "source": []
  }
 ],
 "metadata": {
  "anaconda-cloud": {},
  "kernelspec": {
   "display_name": "Julia 0.5.0",
   "language": "julia",
   "name": "julia-0.5"
  },
  "language_info": {
   "file_extension": ".jl",
   "mimetype": "application/julia",
   "name": "julia",
   "version": "0.5.0"
  }
 },
 "nbformat": 4,
 "nbformat_minor": 1
}
