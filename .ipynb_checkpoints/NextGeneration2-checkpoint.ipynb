{
 "cells": [
  {
   "cell_type": "code",
   "execution_count": 1,
   "metadata": {
    "collapsed": false
   },
   "outputs": [
    {
     "data": {
      "text/plain": [
       "Transformation(identity,one)"
      ]
     },
     "execution_count": 1,
     "metadata": {},
     "output_type": "execute_result"
    }
   ],
   "source": [
    "immutable Transformation\n",
    "    self :: Function\n",
    "    deriv :: Function\n",
    "end\n",
    "\n",
    "import Core.eval\n",
    "\n",
    "function eval(transformation :: Transformation)\n",
    "    transformation.self\n",
    "end\n",
    "\n",
    "function deriv(transformation :: Transformation)\n",
    "    transformation.deriv\n",
    "end\n",
    "\n",
    "function sigmoid(x)\n",
    "        1. / (1. + exp(-x)) - 0.5\n",
    "end\n",
    "\n",
    "function dsigmoid(x)\n",
    "    exp(-x) / (1. + exp(-x)) ^ 2\n",
    "end\n",
    "\n",
    "const Sigmoid = Transformation(sigmoid, dsigmoid)\n",
    "\n",
    "const Identity = Transformation(identity, one) "
   ]
  },
  {
   "cell_type": "code",
   "execution_count": 2,
   "metadata": {
    "collapsed": false
   },
   "outputs": [
    {
     "data": {
      "text/plain": [
       "apply! (generic function with 1 method)"
      ]
     },
     "execution_count": 2,
     "metadata": {},
     "output_type": "execute_result"
    }
   ],
   "source": [
    "function calc_norm(array :: Matrix{Float64})\n",
    "  sqrt(sumabs2(array) / size(array, 1))\n",
    "end\n",
    "\n",
    "function calc_norm(vector :: Array{Float64, 1})\n",
    "  sqrt(sumabs2(vector))\n",
    "end\n",
    "\n",
    "function restriction(vector)\n",
    "  vector / (calc_norm(vector) + 0.001)\n",
    "end\n",
    "\n",
    "function init(a...)\n",
    "    restriction(randn(a...))\n",
    "end\n",
    "\n",
    "const DefaultRate = 0.01\n",
    "\n",
    "immutable Class\n",
    "    class_name :: String\n",
    "    type_len :: Int64\n",
    "end\n",
    "\n",
    "type Object\n",
    "    class :: Class\n",
    "    value :: Array{Float64, 1}\n",
    "end\n",
    "\n",
    "Object(class :: Class) = Object(class, init(class.type_len))\n",
    "\n",
    "type DFunction\n",
    "    in_classes :: Array{Class, 1}\n",
    "    out_class :: Class\n",
    "    f_matrix :: Matrix{Float64}\n",
    "    f_transformation :: Transformation\n",
    "    learning_rate :: Float64\n",
    "end\n",
    "\n",
    "function LFunction(in_classes :: Array{Class, 1}, out_class :: Class, learning_rate = DefaultRate)\n",
    "    in_len = sum([class.type_len for class in in_classes])\n",
    "    out_len = out_class.type_len\n",
    "    DFunction(in_classes, out_class, init(out_len, in_len), Identity, learning_rate)\n",
    "end\n",
    "\n",
    "function SFunction(in_classes :: Array{Class, 1}, out_class :: Class, learning_rate = DefaultRate)\n",
    "    in_len = sum([class.type_len for class in in_classes])\n",
    "    out_len = out_class.type_len\n",
    "    DFunction(in_classes, out_class, init(out_len, in_len), Sigmoid, learning_rate)\n",
    "end\n",
    "\n",
    "function DFunction(in_classes :: Array{Class, 1}, out_class :: Class, f_transformation = Sigmoid, learning_rate = DefaultRate)\n",
    "    in_len = sum([class.type_len for class in in_classes])\n",
    "    out_len = out_class.type_len\n",
    "    DFunction(in_classes, out_class, init(out_len, in_len), f_transformation, learning_rate)\n",
    "end\n",
    "\n",
    "function CoFunction(in_class :: Class, f_transformation = Sigmoid)\n",
    "    DFunction([in_class], in_class, diagm(ones(in_class.type_len)), f_transformation, 0.0)\n",
    "end\n",
    "\n",
    "function apply(func :: DFunction, objs :: Array{Object, 1})\n",
    "    inputs = vcat([obj.value for obj in objs]...)\n",
    "    outputs = eval(func.f_transformation).(func.f_matrix * inputs)\n",
    "    Object(func.out_class, outputs)\n",
    "end\n",
    "\n",
    "function apply!(func :: DFunction, in_objs :: Array{Object, 1}, out_obj :: Object)\n",
    "    inputs = vcat([obj.value for obj in in_objs]...)\n",
    "    out_obj.value .= eval(func.f_transformation).(func.f_matrix * inputs)\n",
    "end"
   ]
  },
  {
   "cell_type": "code",
   "execution_count": 3,
   "metadata": {
    "collapsed": false
   },
   "outputs": [
    {
     "data": {
      "text/plain": [
       "Object(Class(\"Action\",120),[-0.0103484,-0.00695668,-0.0198738,0.0105843,0.00679189,-0.0053559,0.000579429,0.0169859,-0.0143082,-0.00147319  …  0.00927622,0.00684313,-0.0208361,-0.0261065,0.00148228,-0.0226799,0.00757275,0.0205217,-0.00304028,0.00882374])"
      ]
     },
     "execution_count": 3,
     "metadata": {},
     "output_type": "execute_result"
    }
   ],
   "source": [
    "Sensor = Class(\"Sensor\", 100)\n",
    "sensor = Object(Sensor)\n",
    "Action = Class(\"Action\", 120)\n",
    "action = Object(Action)\n",
    "act = DFunction([Sensor, Sensor, Action], Action)\n",
    "apply(act, [sensor, sensor, action])"
   ]
  },
  {
   "cell_type": "code",
   "execution_count": 4,
   "metadata": {
    "collapsed": false
   },
   "outputs": [
    {
     "data": {
      "text/plain": [
       "bottom_up (generic function with 1 method)"
      ]
     },
     "execution_count": 4,
     "metadata": {},
     "output_type": "execute_result"
    }
   ],
   "source": [
    "type Tree\n",
    "    op\n",
    "    value\n",
    "    subtrees :: Array{Tree, 1}\n",
    "end\n",
    "\n",
    "function _bottom_up(func :: Function, tree :: Tree, dict :: Dict)\n",
    "    function f()\n",
    "        func(tree, [_bottom_up(func, t, dict) for t in tree.subtrees])\n",
    "    end\n",
    "    get!(f, dict, tree)\n",
    "end\n",
    "\n",
    "## bottom_up(func :: Function, tree :: Tree) = _bottom_up(func, tree, Dict())\n",
    "\n",
    "function bottom_up(func :: Function, tree :: Tree)\n",
    "    func(tree, [bottom_up(func, t) for t in tree.subtrees])\n",
    "end"
   ]
  },
  {
   "cell_type": "code",
   "execution_count": 5,
   "metadata": {
    "collapsed": false
   },
   "outputs": [
    {
     "data": {
      "text/plain": [
       "eval_tree! (generic function with 1 method)"
      ]
     },
     "execution_count": 5,
     "metadata": {},
     "output_type": "execute_result"
    }
   ],
   "source": [
    "function lens_split(x :: Array, lens :: Array{Int64, 1})\n",
    "    ind = cumsum(lens)\n",
    "    n = length(ind)\n",
    "    ind = [0; ind]\n",
    "    [view(x, (ind[i]+1):ind[i+1]) for i in 1:n]\n",
    "end\n",
    "\n",
    "function init_node!(op :: Object, value :: Dict)\n",
    "    value[:value] = Array{Float64, 1}(op.class.type_len)\n",
    "    value[:d] = Array{Float64, 1}(op.class.type_len)\n",
    "end\n",
    "\n",
    "function init_node!(op :: DFunction, value :: Dict)\n",
    "    value[:pre_matrix] = Array{Float64, 1}(size(op.f_matrix, 2))\n",
    "    value[:pre_transform] = Array{Float64, 1}(op.out_class.type_len)\n",
    "    value[:value] = Array{Float64, 1}(op.out_class.type_len)\n",
    "    value[:inputs] = lens_split(value[:pre_matrix], [c.type_len for c in op.in_classes])\n",
    "    value[:d] = Array{Float64, 1}(op.out_class.type_len)\n",
    "    value[:pre_transform_d] = Array{Float64, 1}(op.out_class.type_len)\n",
    "    value[:pre_matrix_d] = Array{Float64, 1}(size(op.f_matrix, 2))\n",
    "    value[:input_ds] = lens_split(value[:pre_matrix_d], [c.type_len for c in op.in_classes])\n",
    "end\n",
    "\n",
    "function _init_tree!(tree :: Tree, _)\n",
    "    init_node!(tree.op, tree.value)\n",
    "    tree\n",
    "end\n",
    "    \n",
    "function init_tree!(tree :: Tree)\n",
    "    bottom_up(_init_tree!, tree)\n",
    "end\n",
    "\n",
    "function eval_node!(op :: Object, value :: Dict, value_list)\n",
    "    value[:value] .= op.value\n",
    "end\n",
    "\n",
    "function eval_node!(op :: DFunction, value :: Dict, value_list)\n",
    "    i = 1\n",
    "    for v in value_list\n",
    "        value[:inputs][i] .= v[:value]\n",
    "        i += 1\n",
    "    end\n",
    "    ## value[:pre_matrix] .= vcat([v[:post_feature] for v in value_list]...)\n",
    "    A_mul_B!(value[:pre_transform], op.f_matrix, value[:pre_matrix])\n",
    "    value[:value] .= eval(op.f_transformation).(value[:pre_transform])\n",
    "end\n",
    "\n",
    "function _eval_tree!(tree :: Tree, _)\n",
    "    eval_node!(tree.op, tree.value, (t.value for t in tree.subtrees))\n",
    "    tree\n",
    "end\n",
    "    \n",
    "## function eval_tree!(tree :: Tree)\n",
    "##     bottom_up(_eval_tree!, tree)\n",
    "## end\n",
    "    \n",
    "function eval_tree!(tree :: Tree)\n",
    "    foreach(eval_tree!, tree.subtrees)\n",
    "    eval_node!(tree.op, tree.value, (t.value for t in tree.subtrees))\n",
    "    tree\n",
    "end"
   ]
  },
  {
   "cell_type": "code",
   "execution_count": 6,
   "metadata": {
    "collapsed": false
   },
   "outputs": [
    {
     "data": {
      "text/plain": [
       "120-element Array{Float64,1}:\n",
       " 0.0\n",
       " 0.0\n",
       " 0.0\n",
       " 0.0\n",
       " 0.0\n",
       " 0.0\n",
       " 0.0\n",
       " 0.0\n",
       " 0.0\n",
       " 0.0\n",
       " 0.0\n",
       " 0.0\n",
       " 0.0\n",
       " ⋮  \n",
       " 0.0\n",
       " 0.0\n",
       " 0.0\n",
       " 0.0\n",
       " 0.0\n",
       " 0.0\n",
       " 0.0\n",
       " 0.0\n",
       " 0.0\n",
       " 0.0\n",
       " 0.0\n",
       " 0.0"
      ]
     },
     "execution_count": 6,
     "metadata": {},
     "output_type": "execute_result"
    }
   ],
   "source": [
    "Sensor = Class(\"Sensor\", 100)\n",
    "sensor = Object(Sensor)\n",
    "Action = Class(\"Action\", 120)\n",
    "action = Object(Action)\n",
    "act = DFunction([Sensor, Action], Action)\n",
    "tree = Tree(act, Dict(), [Tree(sensor, Dict(), []), Tree(action, Dict(), [])])\n",
    "init_tree!(tree)\n",
    "eval_tree!(tree).value[:value] - apply(act, [sensor, action]).value"
   ]
  },
  {
   "cell_type": "code",
   "execution_count": 7,
   "metadata": {
    "collapsed": false
   },
   "outputs": [
    {
     "data": {
      "text/plain": [
       "bp_tree! (generic function with 1 method)"
      ]
     },
     "execution_count": 7,
     "metadata": {},
     "output_type": "execute_result"
    }
   ],
   "source": [
    "function bp_transformation!(transformation, inputs, d, new_d)\n",
    "    new_d .= deriv(transformation).(inputs)\n",
    "    for i in 1:length(d)\n",
    "        new_d[i] *= d[i]\n",
    "    end\n",
    "end\n",
    "\n",
    "function bp_matrix!(inputs, matrix, d, step, new_d)\n",
    "    ## step = 0.01\n",
    "    ## dmatrix = reshape(d, (length(d), 1)) * reshape(inputs, (1, length(inputs)))\n",
    "    ## matrix[:, :] += step * reshape(d, (length(d), 1)) * reshape(inputs, (1, length(inputs)))\n",
    "    for j in 1:size(matrix, 2)\n",
    "        new_d[j] = 0.0\n",
    "        for i in 1:size(matrix, 1)\n",
    "            matrix[i, j] += step * d[i] * inputs[j]\n",
    "            new_d[j] += matrix[i, j] * d[i]\n",
    "        end\n",
    "    end\n",
    "end\n",
    "\n",
    "function bp_function!(op :: DFunction, value :: Dict)\n",
    "    bp_transformation!(op.f_transformation, value[:pre_transform], value[:d], value[:pre_transform_d])\n",
    "    bp_matrix!(value[:pre_matrix], op.f_matrix, value[:pre_transform_d], op.learning_rate, value[:pre_matrix_d])\n",
    "end\n",
    "\n",
    "function bp_tree!(tree :: Tree)\n",
    "    if typeof(tree.op) == DFunction\n",
    "        bp_function!(tree.op, tree.value)\n",
    "        for i in 1:length(tree.subtrees)\n",
    "            tree.subtrees[i].value[:d] .= tree.value[:input_ds][i]\n",
    "            bp_tree!(tree.subtrees[i])\n",
    "        end\n",
    "        ## ds = lens_split(d, [c.feature_len for c in tree.op.in_classes])\n",
    "        ## for i in 1:length(tree.subtrees)\n",
    "        ##     bp_tree!(tree.subtrees[i], tree.value[:ds][i])\n",
    "        ## end\n",
    "        ## dds = map(bp_class!, tree.op.in_classes, [t.value for t in tree.subtrees], tree.value[:ds])\n",
    "        ## foreach(bp_tree!, tree.subtrees, dds)\n",
    "    end\n",
    "end"
   ]
  },
  {
   "cell_type": "code",
   "execution_count": 8,
   "metadata": {
    "collapsed": false
   },
   "outputs": [
    {
     "data": {
      "text/plain": [
       "0.520025547462086"
      ]
     },
     "execution_count": 8,
     "metadata": {},
     "output_type": "execute_result"
    }
   ],
   "source": [
    "Sensor = Class(\"Sensor\", 100)\n",
    "sensor = Object(Sensor)\n",
    "Action = Class(\"Action\", 120)\n",
    "action = Object(Action)\n",
    "act = DFunction([Sensor, Action], Action)\n",
    "tree = Tree(act, Dict(), [Tree(sensor, Dict(), []), Tree(action, Dict(), [])])\n",
    "init_tree!(tree)\n",
    "d = ones(length(eval_tree!(tree).value[:value])) - eval_tree!(tree).value[:value]\n",
    "for i in 1:5000\n",
    "    tree.value[:d] .= ones(length(eval_tree!(tree).value[:value])) - eval_tree!(tree).value[:value]\n",
    "    bp_tree!(tree)\n",
    "end\n",
    "maximum(abs(ones(length(eval_tree!(tree).value[:value])) - eval_tree!(tree).value[:value]))"
   ]
  },
  {
   "cell_type": "code",
   "execution_count": 9,
   "metadata": {
    "collapsed": false
   },
   "outputs": [
    {
     "data": {
      "text/plain": [
       "train! (generic function with 2 methods)"
      ]
     },
     "execution_count": 9,
     "metadata": {},
     "output_type": "execute_result"
    }
   ],
   "source": [
    "function toTree(op)\n",
    "    Tree(op, Dict(), [])\n",
    "end\n",
    "\n",
    "function toTree(skeleton :: Array)\n",
    "    op = skeleton[1]\n",
    "    subs = skeleton[2:end]\n",
    "    Tree(op, Dict(), [toTree(s) for s in subs])\n",
    "end\n",
    "\n",
    "function add!(dict :: Dict, dict1 :: Dict)\n",
    "    for key in keys(dict1)\n",
    "        dict[key] = vcat(get!(dict, key, []), dict1[key])\n",
    "    end\n",
    "    dict\n",
    "end\n",
    "\n",
    "function _index(tree :: Tree, inds :: Array)\n",
    "    ind = Dict{Any, Any}(tree.op => [tree])\n",
    "    for ind1 in inds\n",
    "        add!(ind, ind1)\n",
    "    end\n",
    "    ind\n",
    "end\n",
    "\n",
    "index(tree :: Tree) = bottom_up(_index, tree)\n",
    "\n",
    "type Axiom\n",
    "    tree1 :: Tree\n",
    "    tree2 :: Tree\n",
    "    index :: Dict\n",
    "end\n",
    "\n",
    "Axiom(tree1 :: Tree, tree2 :: Tree) = Axiom(tree1, tree2, add!(index(tree1), index(tree2)))\n",
    "\n",
    "Axiom(skeleton1, skeleton2) = Axiom(toTree(skeleton1), toTree(skeleton2))\n",
    "\n",
    "function push!(index :: Dict, ops :: Array)\n",
    "    n = length(ops)\n",
    "    for i in 1:n\n",
    "        for t in index[i]\n",
    "            t.op = ops[i]\n",
    "        end\n",
    "    end\n",
    "end\n",
    "\n",
    "function push!(index :: Dict, ops :: Dict)\n",
    "    for key in keys(ops)\n",
    "        if haskey(index, key)\n",
    "            ts = index[key]\n",
    "            for t in ts\n",
    "                t.op = ops[key]\n",
    "            end\n",
    "        end\n",
    "    end\n",
    "end\n",
    "\n",
    "function push!(axiom :: Axiom, ops)\n",
    "    push!(axiom.index, variables)\n",
    "end\n",
    "\n",
    "function train!(axiom :: Axiom, variables, n = 1)\n",
    "    push!(axiom.index, variables)\n",
    "    init_tree!(axiom.tree1)\n",
    "    init_tree!(axiom.tree2)\n",
    "    d1 :: Array{Float64, 1} = axiom.tree1.value[:d]\n",
    "    d2 :: Array{Float64, 1} = axiom.tree2.value[:d]\n",
    "    v1 :: Array{Float64, 1} = axiom.tree1.value[:value]\n",
    "    v2 :: Array{Float64, 1} = axiom.tree2.value[:value]\n",
    "    for i in 1:n\n",
    "        eval_tree!(axiom.tree2)\n",
    "        eval_tree!(axiom.tree1)\n",
    "        for j in 1:length(d1)\n",
    "                d1[j] = v2[j] - v1[j]\n",
    "                d2[j] = -d1[j]\n",
    "        end\n",
    "        bp_tree!(axiom.tree1)\n",
    "        bp_tree!(axiom.tree2)\n",
    "    end\n",
    "end"
   ]
  },
  {
   "cell_type": "code",
   "execution_count": 10,
   "metadata": {
    "collapsed": false
   },
   "outputs": [
    {
     "data": {
      "text/plain": [
       "Axiom(Tree(1,Dict{Any,Any}(),Tree[Tree(2,Dict{Any,Any}(),Tree[Tree(3,Dict{Any,Any}(),Tree[])])]),Tree(3,Dict{Any,Any}(),Tree[]),Dict{Any,Any}(Pair{Any,Any}(2,Any[Tree(2,Dict{Any,Any}(),Tree[Tree(3,Dict{Any,Any}(),Tree[])])]),Pair{Any,Any}(3,Any[Tree(3,Dict{Any,Any}(),Tree[]),Tree(3,Dict{Any,Any}(),Tree[])]),Pair{Any,Any}(1,Tree[Tree(1,Dict{Any,Any}(),Tree[Tree(2,Dict{Any,Any}(),Tree[Tree(3,Dict{Any,Any}(),Tree[])])])])))"
      ]
     },
     "execution_count": 10,
     "metadata": {},
     "output_type": "execute_result"
    }
   ],
   "source": [
    "Sensor = Class(\"Sensor\", 100)\n",
    "sensor = Object(Sensor)\n",
    "Action = Class(\"Action\", 120)\n",
    "action = Object(Action)\n",
    "act = DFunction([Sensor], Action)\n",
    "invact = DFunction([Action], Sensor)\n",
    "axiom = Axiom([1, [2, 3]], 3)"
   ]
  },
  {
   "cell_type": "code",
   "execution_count": 11,
   "metadata": {
    "collapsed": false
   },
   "outputs": [
    {
     "name": "stdout",
     "output_type": "stream",
     "text": [
      "  1.508706 seconds (212.49 k allocations: 4.385 MB, 0.44% gc time)\n",
      "  0.262177 seconds (91.39 k allocations: 1.437 MB)\n"
     ]
    }
   ],
   "source": [
    "@time train!(axiom, [invact, act, sensor], 10000)\n",
    "@time foreach(i -> eval_tree!(axiom.tree1), 1:10000)\n",
    "maximum(abs(eval_tree!(axiom.tree2).value[:value] - eval_tree!(axiom.tree1).value[:value]))\n",
    "Profile.clear()\n",
    "@profile train!(axiom, [invact, act, sensor], 1000)\n",
    "## Profile.print()\n",
    "## Profile.print(format = :flat)"
   ]
  },
  {
   "cell_type": "code",
   "execution_count": 12,
   "metadata": {
    "collapsed": false
   },
   "outputs": [
    {
     "data": {
      "text/plain": [
       "Axiom(Tree(DFunction(Class[Class(\"Variable\",100),Class(\"LambdaTerm\",200)],Class(\"LambdaTerm\",200),[-0.0988307 0.0316933 … 0.0153391 0.0334257; 0.00829254 0.0684268 … 0.0842168 0.0100182; … ; 0.019331 0.0792845 … 0.0585232 -0.016461; 0.0851042 0.0422606 … 0.0358829 0.0193817],Transformation(sigmoid,dsigmoid),0.01),Dict{Any,Any}(),Tree[Tree(:v,Dict{Any,Any}(),Tree[]),Tree(DFunction(Class[Class(\"LambdaTerm\",200),Class(\"LambdaTerm\",200)],Class(\"LambdaTerm\",200),[0.0084252 0.0514529 … -0.0132147 0.0194183; -0.0382308 -0.0301869 … 0.0855165 0.078477; … ; 0.020365 0.00706302 … 0.020402 -0.0367042; 0.035975 0.0223211 … -0.0163666 -0.0318142],Transformation(sigmoid,dsigmoid),0.01),Dict{Any,Any}(),Tree[Tree(:t,Dict{Any,Any}(),Tree[]),Tree(DFunction(Class[Class(\"Variable\",100)],Class(\"LambdaTerm\",200),[-0.133227 0.0297318 … 0.0495362 0.00190239; 0.0373284 -0.2123 … -0.109817 0.00933826; … ; 0.0807231 0.0220561 … 0.0262696 0.110543; 0.0238305 0.00173234 … 0.0727846 -0.0599867],Transformation(sigmoid,dsigmoid),0.01),Dict{Any,Any}(),Tree[Tree(:v,Dict{Any,Any}(),Tree[])])])]),Tree(:t,Dict{Any,Any}(),Tree[]),Dict{Any,Any}(Pair{Any,Any}(:v,Any[Tree(:v,Dict{Any,Any}(),Tree[]),Tree(:v,Dict{Any,Any}(),Tree[])]),Pair{Any,Any}(DFunction(Class[Class(\"Variable\",100)],Class(\"LambdaTerm\",200),[-0.133227 0.0297318 … 0.0495362 0.00190239; 0.0373284 -0.2123 … -0.109817 0.00933826; … ; 0.0807231 0.0220561 … 0.0262696 0.110543; 0.0238305 0.00173234 … 0.0727846 -0.0599867],Transformation(sigmoid,dsigmoid),0.01),Any[Tree(DFunction(Class[Class(\"Variable\",100)],Class(\"LambdaTerm\",200),[-0.133227 0.0297318 … 0.0495362 0.00190239; 0.0373284 -0.2123 … -0.109817 0.00933826; … ; 0.0807231 0.0220561 … 0.0262696 0.110543; 0.0238305 0.00173234 … 0.0727846 -0.0599867],Transformation(sigmoid,dsigmoid),0.01),Dict{Any,Any}(),Tree[Tree(:v,Dict{Any,Any}(),Tree[])])]),Pair{Any,Any}(DFunction(Class[Class(\"LambdaTerm\",200),Class(\"LambdaTerm\",200)],Class(\"LambdaTerm\",200),[0.0084252 0.0514529 … -0.0132147 0.0194183; -0.0382308 -0.0301869 … 0.0855165 0.078477; … ; 0.020365 0.00706302 … 0.020402 -0.0367042; 0.035975 0.0223211 … -0.0163666 -0.0318142],Transformation(sigmoid,dsigmoid),0.01),Any[Tree(DFunction(Class[Class(\"LambdaTerm\",200),Class(\"LambdaTerm\",200)],Class(\"LambdaTerm\",200),[0.0084252 0.0514529 … -0.0132147 0.0194183; -0.0382308 -0.0301869 … 0.0855165 0.078477; … ; 0.020365 0.00706302 … 0.020402 -0.0367042; 0.035975 0.0223211 … -0.0163666 -0.0318142],Transformation(sigmoid,dsigmoid),0.01),Dict{Any,Any}(),Tree[Tree(:t,Dict{Any,Any}(),Tree[]),Tree(DFunction(Class[Class(\"Variable\",100)],Class(\"LambdaTerm\",200),[-0.133227 0.0297318 … 0.0495362 0.00190239; 0.0373284 -0.2123 … -0.109817 0.00933826; … ; 0.0807231 0.0220561 … 0.0262696 0.110543; 0.0238305 0.00173234 … 0.0727846 -0.0599867],Transformation(sigmoid,dsigmoid),0.01),Dict{Any,Any}(),Tree[Tree(:v,Dict{Any,Any}(),Tree[])])])]),Pair{Any,Any}(DFunction(Class[Class(\"Variable\",100),Class(\"LambdaTerm\",200)],Class(\"LambdaTerm\",200),[-0.0988307 0.0316933 … 0.0153391 0.0334257; 0.00829254 0.0684268 … 0.0842168 0.0100182; … ; 0.019331 0.0792845 … 0.0585232 -0.016461; 0.0851042 0.0422606 … 0.0358829 0.0193817],Transformation(sigmoid,dsigmoid),0.01),Tree[Tree(DFunction(Class[Class(\"Variable\",100),Class(\"LambdaTerm\",200)],Class(\"LambdaTerm\",200),[-0.0988307 0.0316933 … 0.0153391 0.0334257; 0.00829254 0.0684268 … 0.0842168 0.0100182; … ; 0.019331 0.0792845 … 0.0585232 -0.016461; 0.0851042 0.0422606 … 0.0358829 0.0193817],Transformation(sigmoid,dsigmoid),0.01),Dict{Any,Any}(),Tree[Tree(:v,Dict{Any,Any}(),Tree[]),Tree(DFunction(Class[Class(\"LambdaTerm\",200),Class(\"LambdaTerm\",200)],Class(\"LambdaTerm\",200),[0.0084252 0.0514529 … -0.0132147 0.0194183; -0.0382308 -0.0301869 … 0.0855165 0.078477; … ; 0.020365 0.00706302 … 0.020402 -0.0367042; 0.035975 0.0223211 … -0.0163666 -0.0318142],Transformation(sigmoid,dsigmoid),0.01),Dict{Any,Any}(),Tree[Tree(:t,Dict{Any,Any}(),Tree[]),Tree(DFunction(Class[Class(\"Variable\",100)],Class(\"LambdaTerm\",200),[-0.133227 0.0297318 … 0.0495362 0.00190239; 0.0373284 -0.2123 … -0.109817 0.00933826; … ; 0.0807231 0.0220561 … 0.0262696 0.110543; 0.0238305 0.00173234 … 0.0727846 -0.0599867],Transformation(sigmoid,dsigmoid),0.01),Dict{Any,Any}(),Tree[Tree(:v,Dict{Any,Any}(),Tree[])])])])]),Pair{Any,Any}(:t,Any[Tree(:t,Dict{Any,Any}(),Tree[]),Tree(:t,Dict{Any,Any}(),Tree[])])))"
      ]
     },
     "execution_count": 12,
     "metadata": {},
     "output_type": "execute_result"
    }
   ],
   "source": [
    "## Lambda Calculus\n",
    "\n",
    "Variable = Class(\"Variable\", 100)\n",
    "LambdaTerm = Class(\"LambdaTerm\", 200)\n",
    "var2term = DFunction([Variable], LambdaTerm)\n",
    "app = DFunction([LambdaTerm, LambdaTerm], LambdaTerm)\n",
    "lambda = DFunction([Variable, LambdaTerm], LambdaTerm)\n",
    "\n",
    "## substitution\n",
    "## t1 [x = t2]\n",
    "subs = DFunction([LambdaTerm, Variable, LambdaTerm], LambdaTerm)\n",
    "## x[x := N]       ≡ N\n",
    "axiom_s1 = Axiom([subs, [var2term, :v], :v, :t], :t)\n",
    "## y[x := N]       ≡ y, if x ≠ y\n",
    "axiom_s2 = Axiom([subs, [var2term, :v1], :v2, :t], [var2term, :v1])\n",
    "## (M1 M2)[x := N] ≡ (M1[x := N]) (M2[x := N])\n",
    "axiom_s3 = Axiom([subs, [app, :t1, :t2], :v, :t], [app, [subs, :t1, :v, :t], [subs, :t2, :v, :t]])\n",
    "## (λx.M)[x := N]  ≡ λx.M\n",
    "axiom_s4 = Axiom([subs, [lambda, :v, :t1], :v, :t2], [lambda, :v, :t1])\n",
    "## (λy.M)[x := N]  ≡ λy.(M[x := N]), if x ≠ y, provided y ∉ FV(N)\n",
    "axiom_s5 = Axiom([subs, [lambda, :v1, :t1], :v2, :t2], [lambda, :v1, [subs, :t1, :v2, :t2]])\n",
    "\n",
    "## beta-reduction of  ((λV.E) E′)  is E[V := E′].\n",
    "axiom_beta = Axiom([app, [lambda, :v, :t], :t1], [subs, :t, :v, :t1])\n",
    "## eta-reduction\n",
    "axiom_eta = Axiom([lambda, :v, [app, :t, [var2term, :v]]], :t)"
   ]
  },
  {
   "cell_type": "code",
   "execution_count": 13,
   "metadata": {
    "collapsed": false
   },
   "outputs": [
    {
     "data": {
      "text/plain": [
       "Object(Class(\"LambdaTerm\",200),[0.0264999,0.130913,-0.190911,-0.10989,-0.0219286,-0.0702521,-0.0367164,0.0559811,-0.0839447,0.0684649  …  -0.0256937,-0.0567226,-0.00158792,-0.0863394,-0.0345598,0.0135778,0.0410199,-0.0674713,0.0905663,-0.0480437])"
      ]
     },
     "execution_count": 13,
     "metadata": {},
     "output_type": "execute_result"
    }
   ],
   "source": [
    "dict = Dict()\n",
    "dict[:v] = Object(Variable)\n",
    "dict[:v1] = Object(Variable)\n",
    "dict[:v2] = Object(Variable)\n",
    "dict[:t] = Object(LambdaTerm)\n",
    "dict[:t1] = Object(LambdaTerm)\n",
    "dict[:t2] = Object(LambdaTerm)"
   ]
  },
  {
   "cell_type": "code",
   "execution_count": 14,
   "metadata": {
    "collapsed": false
   },
   "outputs": [
    {
     "name": "stdout",
     "output_type": "stream",
     "text": [
      "  1.925308 seconds (54.40 k allocations: 1.306 MB)\n"
     ]
    }
   ],
   "source": [
    "@time train!(axiom_s5, dict, 1000)"
   ]
  },
  {
   "cell_type": "code",
   "execution_count": 15,
   "metadata": {
    "collapsed": false
   },
   "outputs": [
    {
     "name": "stdout",
     "output_type": "stream",
     "text": [
      "  0.174736 seconds (47.39 k allocations: 2.905 MB, 7.37% gc time)\n"
     ]
    },
    {
     "data": {
      "text/plain": [
       "Pair(Class(\"Pair_Sensor_Action\",70),DFunction(Class[Class(\"Sensor\",100),Class(\"Action\",120)],Class(\"Pair_Sensor_Action\",70),[0.146261 -0.00646268 … -0.0548569 -0.156312; 0.0628807 0.0530601 … -0.032838 0.080063; … ; -0.0389415 0.0176908 … 0.0565643 0.000140122; -0.0270495 -0.00805829 … -0.126768 -0.0759482],Transformation(sigmoid,dsigmoid),0.01),DFunction(Class[Class(\"Pair_Sensor_Action\",70)],Class(\"Sensor\",100),[0.0202242 -0.0950912 … -0.0973063 -0.048941; -0.0533638 -0.0772041 … -0.0251807 0.0571982; … ; 0.0334116 0.0874565 … -0.00851222 0.0967547; -0.162913 0.00978382 … 0.00290663 0.0750028],Transformation(sigmoid,dsigmoid),0.01),DFunction(Class[Class(\"Pair_Sensor_Action\",70)],Class(\"Action\",120),[0.0419379 0.0662099 … 0.0300197 0.183244; -0.132407 -0.0252839 … -0.194488 0.0887133; … ; -0.0174394 -0.0117444 … 0.102626 0.0953967; 0.12142 0.0273452 … 0.145114 -0.02679],Transformation(sigmoid,dsigmoid),0.01),DFunction(Class[Class(\"Pair_Sensor_Action\",70),Class(\"Sensor\",100)],Class(\"Pair_Sensor_Action\",70),[0.101442 0.152166 … -0.135076 0.142246; -0.0734232 -0.011729 … 0.0400371 0.0821175; … ; 0.153848 -0.105139 … -0.150045 -0.12013; -0.0435359 -0.0589919 … 0.101126 -0.0157753],Transformation(sigmoid,dsigmoid),0.01),DFunction(Class[Class(\"Pair_Sensor_Action\",70),Class(\"Action\",120)],Class(\"Pair_Sensor_Action\",70),[0.0937549 0.183786 … -0.0593573 0.026526; -0.0237484 -0.0974287 … 0.0441853 -0.0401045; … ; -0.117211 0.0436745 … -0.00851502 -0.164209; 0.1325 0.0246719 … -0.0416886 -0.0157677],Transformation(sigmoid,dsigmoid),0.01),Axiom(Tree(DFunction(Class[Class(\"Pair_Sensor_Action\",70)],Class(\"Sensor\",100),[0.0202242 -0.0950912 … -0.0973063 -0.048941; -0.0533638 -0.0772041 … -0.0251807 0.0571982; … ; 0.0334116 0.0874565 … -0.00851222 0.0967547; -0.162913 0.00978382 … 0.00290663 0.0750028],Transformation(sigmoid,dsigmoid),0.01),Dict{Any,Any}(),Tree[Tree(DFunction(Class[Class(\"Sensor\",100),Class(\"Action\",120)],Class(\"Pair_Sensor_Action\",70),[0.146261 -0.00646268 … -0.0548569 -0.156312; 0.0628807 0.0530601 … -0.032838 0.080063; … ; -0.0389415 0.0176908 … 0.0565643 0.000140122; -0.0270495 -0.00805829 … -0.126768 -0.0759482],Transformation(sigmoid,dsigmoid),0.01),Dict{Any,Any}(),Tree[Tree(:x,Dict{Any,Any}(),Tree[]),Tree(:y,Dict{Any,Any}(),Tree[])])]),Tree(:x,Dict{Any,Any}(),Tree[]),Dict{Any,Any}(Pair{Any,Any}(:y,Any[Tree(:y,Dict{Any,Any}(),Tree[])]),Pair{Any,Any}(DFunction(Class[Class(\"Sensor\",100),Class(\"Action\",120)],Class(\"Pair_Sensor_Action\",70),[0.146261 -0.00646268 … -0.0548569 -0.156312; 0.0628807 0.0530601 … -0.032838 0.080063; … ; -0.0389415 0.0176908 … 0.0565643 0.000140122; -0.0270495 -0.00805829 … -0.126768 -0.0759482],Transformation(sigmoid,dsigmoid),0.01),Any[Tree(DFunction(Class[Class(\"Sensor\",100),Class(\"Action\",120)],Class(\"Pair_Sensor_Action\",70),[0.146261 -0.00646268 … -0.0548569 -0.156312; 0.0628807 0.0530601 … -0.032838 0.080063; … ; -0.0389415 0.0176908 … 0.0565643 0.000140122; -0.0270495 -0.00805829 … -0.126768 -0.0759482],Transformation(sigmoid,dsigmoid),0.01),Dict{Any,Any}(),Tree[Tree(:x,Dict{Any,Any}(),Tree[]),Tree(:y,Dict{Any,Any}(),Tree[])])]),Pair{Any,Any}(:x,Any[Tree(:x,Dict{Any,Any}(),Tree[]),Tree(:x,Dict{Any,Any}(),Tree[])]),Pair{Any,Any}(DFunction(Class[Class(\"Pair_Sensor_Action\",70)],Class(\"Sensor\",100),[0.0202242 -0.0950912 … -0.0973063 -0.048941; -0.0533638 -0.0772041 … -0.0251807 0.0571982; … ; 0.0334116 0.0874565 … -0.00851222 0.0967547; -0.162913 0.00978382 … 0.00290663 0.0750028],Transformation(sigmoid,dsigmoid),0.01),Tree[Tree(DFunction(Class[Class(\"Pair_Sensor_Action\",70)],Class(\"Sensor\",100),[0.0202242 -0.0950912 … -0.0973063 -0.048941; -0.0533638 -0.0772041 … -0.0251807 0.0571982; … ; 0.0334116 0.0874565 … -0.00851222 0.0967547; -0.162913 0.00978382 … 0.00290663 0.0750028],Transformation(sigmoid,dsigmoid),0.01),Dict{Any,Any}(),Tree[Tree(DFunction(Class[Class(\"Sensor\",100),Class(\"Action\",120)],Class(\"Pair_Sensor_Action\",70),[0.146261 -0.00646268 … -0.0548569 -0.156312; 0.0628807 0.0530601 … -0.032838 0.080063; … ; -0.0389415 0.0176908 … 0.0565643 0.000140122; -0.0270495 -0.00805829 … -0.126768 -0.0759482],Transformation(sigmoid,dsigmoid),0.01),Dict{Any,Any}(),Tree[Tree(:x,Dict{Any,Any}(),Tree[]),Tree(:y,Dict{Any,Any}(),Tree[])])])]))),Axiom(Tree(DFunction(Class[Class(\"Pair_Sensor_Action\",70)],Class(\"Action\",120),[0.0419379 0.0662099 … 0.0300197 0.183244; -0.132407 -0.0252839 … -0.194488 0.0887133; … ; -0.0174394 -0.0117444 … 0.102626 0.0953967; 0.12142 0.0273452 … 0.145114 -0.02679],Transformation(sigmoid,dsigmoid),0.01),Dict{Any,Any}(),Tree[Tree(DFunction(Class[Class(\"Sensor\",100),Class(\"Action\",120)],Class(\"Pair_Sensor_Action\",70),[0.146261 -0.00646268 … -0.0548569 -0.156312; 0.0628807 0.0530601 … -0.032838 0.080063; … ; -0.0389415 0.0176908 … 0.0565643 0.000140122; -0.0270495 -0.00805829 … -0.126768 -0.0759482],Transformation(sigmoid,dsigmoid),0.01),Dict{Any,Any}(),Tree[Tree(:x,Dict{Any,Any}(),Tree[]),Tree(:y,Dict{Any,Any}(),Tree[])])]),Tree(:y,Dict{Any,Any}(),Tree[]),Dict{Any,Any}(Pair{Any,Any}(:y,Any[Tree(:y,Dict{Any,Any}(),Tree[]),Tree(:y,Dict{Any,Any}(),Tree[])]),Pair{Any,Any}(DFunction(Class[Class(\"Sensor\",100),Class(\"Action\",120)],Class(\"Pair_Sensor_Action\",70),[0.146261 -0.00646268 … -0.0548569 -0.156312; 0.0628807 0.0530601 … -0.032838 0.080063; … ; -0.0389415 0.0176908 … 0.0565643 0.000140122; -0.0270495 -0.00805829 … -0.126768 -0.0759482],Transformation(sigmoid,dsigmoid),0.01),Any[Tree(DFunction(Class[Class(\"Sensor\",100),Class(\"Action\",120)],Class(\"Pair_Sensor_Action\",70),[0.146261 -0.00646268 … -0.0548569 -0.156312; 0.0628807 0.0530601 … -0.032838 0.080063; … ; -0.0389415 0.0176908 … 0.0565643 0.000140122; -0.0270495 -0.00805829 … -0.126768 -0.0759482],Transformation(sigmoid,dsigmoid),0.01),Dict{Any,Any}(),Tree[Tree(:x,Dict{Any,Any}(),Tree[]),Tree(:y,Dict{Any,Any}(),Tree[])])]),Pair{Any,Any}(DFunction(Class[Class(\"Pair_Sensor_Action\",70)],Class(\"Action\",120),[0.0419379 0.0662099 … 0.0300197 0.183244; -0.132407 -0.0252839 … -0.194488 0.0887133; … ; -0.0174394 -0.0117444 … 0.102626 0.0953967; 0.12142 0.0273452 … 0.145114 -0.02679],Transformation(sigmoid,dsigmoid),0.01),Tree[Tree(DFunction(Class[Class(\"Pair_Sensor_Action\",70)],Class(\"Action\",120),[0.0419379 0.0662099 … 0.0300197 0.183244; -0.132407 -0.0252839 … -0.194488 0.0887133; … ; -0.0174394 -0.0117444 … 0.102626 0.0953967; 0.12142 0.0273452 … 0.145114 -0.02679],Transformation(sigmoid,dsigmoid),0.01),Dict{Any,Any}(),Tree[Tree(DFunction(Class[Class(\"Sensor\",100),Class(\"Action\",120)],Class(\"Pair_Sensor_Action\",70),[0.146261 -0.00646268 … -0.0548569 -0.156312; 0.0628807 0.0530601 … -0.032838 0.080063; … ; -0.0389415 0.0176908 … 0.0565643 0.000140122; -0.0270495 -0.00805829 … -0.126768 -0.0759482],Transformation(sigmoid,dsigmoid),0.01),Dict{Any,Any}(),Tree[Tree(:x,Dict{Any,Any}(),Tree[]),Tree(:y,Dict{Any,Any}(),Tree[])])])]),Pair{Any,Any}(:x,Any[Tree(:x,Dict{Any,Any}(),Tree[])]))),Axiom(Tree(DFunction(Class[Class(\"Pair_Sensor_Action\",70),Class(\"Sensor\",100)],Class(\"Pair_Sensor_Action\",70),[0.101442 0.152166 … -0.135076 0.142246; -0.0734232 -0.011729 … 0.0400371 0.0821175; … ; 0.153848 -0.105139 … -0.150045 -0.12013; -0.0435359 -0.0589919 … 0.101126 -0.0157753],Transformation(sigmoid,dsigmoid),0.01),Dict{Any,Any}(),Tree[Tree(:xy,Dict{Any,Any}(),Tree[]),Tree(:x,Dict{Any,Any}(),Tree[])]),Tree(DFunction(Class[Class(\"Sensor\",100),Class(\"Action\",120)],Class(\"Pair_Sensor_Action\",70),[0.146261 -0.00646268 … -0.0548569 -0.156312; 0.0628807 0.0530601 … -0.032838 0.080063; … ; -0.0389415 0.0176908 … 0.0565643 0.000140122; -0.0270495 -0.00805829 … -0.126768 -0.0759482],Transformation(sigmoid,dsigmoid),0.01),Dict{Any,Any}(),Tree[Tree(:x,Dict{Any,Any}(),Tree[]),Tree(DFunction(Class[Class(\"Pair_Sensor_Action\",70)],Class(\"Action\",120),[0.0419379 0.0662099 … 0.0300197 0.183244; -0.132407 -0.0252839 … -0.194488 0.0887133; … ; -0.0174394 -0.0117444 … 0.102626 0.0953967; 0.12142 0.0273452 … 0.145114 -0.02679],Transformation(sigmoid,dsigmoid),0.01),Dict{Any,Any}(),Tree[Tree(:xy,Dict{Any,Any}(),Tree[])])]),Dict{Any,Any}(Pair{Any,Any}(:xy,Any[Tree(:xy,Dict{Any,Any}(),Tree[]),Tree(:xy,Dict{Any,Any}(),Tree[])]),Pair{Any,Any}(DFunction(Class[Class(\"Sensor\",100),Class(\"Action\",120)],Class(\"Pair_Sensor_Action\",70),[0.146261 -0.00646268 … -0.0548569 -0.156312; 0.0628807 0.0530601 … -0.032838 0.080063; … ; -0.0389415 0.0176908 … 0.0565643 0.000140122; -0.0270495 -0.00805829 … -0.126768 -0.0759482],Transformation(sigmoid,dsigmoid),0.01),Any[Tree(DFunction(Class[Class(\"Sensor\",100),Class(\"Action\",120)],Class(\"Pair_Sensor_Action\",70),[0.146261 -0.00646268 … -0.0548569 -0.156312; 0.0628807 0.0530601 … -0.032838 0.080063; … ; -0.0389415 0.0176908 … 0.0565643 0.000140122; -0.0270495 -0.00805829 … -0.126768 -0.0759482],Transformation(sigmoid,dsigmoid),0.01),Dict{Any,Any}(),Tree[Tree(:x,Dict{Any,Any}(),Tree[]),Tree(DFunction(Class[Class(\"Pair_Sensor_Action\",70)],Class(\"Action\",120),[0.0419379 0.0662099 … 0.0300197 0.183244; -0.132407 -0.0252839 … -0.194488 0.0887133; … ; -0.0174394 -0.0117444 … 0.102626 0.0953967; 0.12142 0.0273452 … 0.145114 -0.02679],Transformation(sigmoid,dsigmoid),0.01),Dict{Any,Any}(),Tree[Tree(:xy,Dict{Any,Any}(),Tree[])])])]),Pair{Any,Any}(:x,Any[Tree(:x,Dict{Any,Any}(),Tree[]),Tree(:x,Dict{Any,Any}(),Tree[])]),Pair{Any,Any}(DFunction(Class[Class(\"Pair_Sensor_Action\",70)],Class(\"Action\",120),[0.0419379 0.0662099 … 0.0300197 0.183244; -0.132407 -0.0252839 … -0.194488 0.0887133; … ; -0.0174394 -0.0117444 … 0.102626 0.0953967; 0.12142 0.0273452 … 0.145114 -0.02679],Transformation(sigmoid,dsigmoid),0.01),Any[Tree(DFunction(Class[Class(\"Pair_Sensor_Action\",70)],Class(\"Action\",120),[0.0419379 0.0662099 … 0.0300197 0.183244; -0.132407 -0.0252839 … -0.194488 0.0887133; … ; -0.0174394 -0.0117444 … 0.102626 0.0953967; 0.12142 0.0273452 … 0.145114 -0.02679],Transformation(sigmoid,dsigmoid),0.01),Dict{Any,Any}(),Tree[Tree(:xy,Dict{Any,Any}(),Tree[])])]),Pair{Any,Any}(DFunction(Class[Class(\"Pair_Sensor_Action\",70),Class(\"Sensor\",100)],Class(\"Pair_Sensor_Action\",70),[0.101442 0.152166 … -0.135076 0.142246; -0.0734232 -0.011729 … 0.0400371 0.0821175; … ; 0.153848 -0.105139 … -0.150045 -0.12013; -0.0435359 -0.0589919 … 0.101126 -0.0157753],Transformation(sigmoid,dsigmoid),0.01),Tree[Tree(DFunction(Class[Class(\"Pair_Sensor_Action\",70),Class(\"Sensor\",100)],Class(\"Pair_Sensor_Action\",70),[0.101442 0.152166 … -0.135076 0.142246; -0.0734232 -0.011729 … 0.0400371 0.0821175; … ; 0.153848 -0.105139 … -0.150045 -0.12013; -0.0435359 -0.0589919 … 0.101126 -0.0157753],Transformation(sigmoid,dsigmoid),0.01),Dict{Any,Any}(),Tree[Tree(:xy,Dict{Any,Any}(),Tree[]),Tree(:x,Dict{Any,Any}(),Tree[])])]))),Axiom(Tree(DFunction(Class[Class(\"Pair_Sensor_Action\",70),Class(\"Action\",120)],Class(\"Pair_Sensor_Action\",70),[0.0937549 0.183786 … -0.0593573 0.026526; -0.0237484 -0.0974287 … 0.0441853 -0.0401045; … ; -0.117211 0.0436745 … -0.00851502 -0.164209; 0.1325 0.0246719 … -0.0416886 -0.0157677],Transformation(sigmoid,dsigmoid),0.01),Dict{Any,Any}(),Tree[Tree(:xy,Dict{Any,Any}(),Tree[]),Tree(:y,Dict{Any,Any}(),Tree[])]),Tree(DFunction(Class[Class(\"Sensor\",100),Class(\"Action\",120)],Class(\"Pair_Sensor_Action\",70),[0.146261 -0.00646268 … -0.0548569 -0.156312; 0.0628807 0.0530601 … -0.032838 0.080063; … ; -0.0389415 0.0176908 … 0.0565643 0.000140122; -0.0270495 -0.00805829 … -0.126768 -0.0759482],Transformation(sigmoid,dsigmoid),0.01),Dict{Any,Any}(),Tree[Tree(DFunction(Class[Class(\"Pair_Sensor_Action\",70)],Class(\"Sensor\",100),[0.0202242 -0.0950912 … -0.0973063 -0.048941; -0.0533638 -0.0772041 … -0.0251807 0.0571982; … ; 0.0334116 0.0874565 … -0.00851222 0.0967547; -0.162913 0.00978382 … 0.00290663 0.0750028],Transformation(sigmoid,dsigmoid),0.01),Dict{Any,Any}(),Tree[Tree(:xy,Dict{Any,Any}(),Tree[])]),Tree(:y,Dict{Any,Any}(),Tree[])]),Dict{Any,Any}(Pair{Any,Any}(:xy,Any[Tree(:xy,Dict{Any,Any}(),Tree[]),Tree(:xy,Dict{Any,Any}(),Tree[])]),Pair{Any,Any}(:y,Any[Tree(:y,Dict{Any,Any}(),Tree[]),Tree(:y,Dict{Any,Any}(),Tree[])]),Pair{Any,Any}(DFunction(Class[Class(\"Pair_Sensor_Action\",70),Class(\"Action\",120)],Class(\"Pair_Sensor_Action\",70),[0.0937549 0.183786 … -0.0593573 0.026526; -0.0237484 -0.0974287 … 0.0441853 -0.0401045; … ; -0.117211 0.0436745 … -0.00851502 -0.164209; 0.1325 0.0246719 … -0.0416886 -0.0157677],Transformation(sigmoid,dsigmoid),0.01),Tree[Tree(DFunction(Class[Class(\"Pair_Sensor_Action\",70),Class(\"Action\",120)],Class(\"Pair_Sensor_Action\",70),[0.0937549 0.183786 … -0.0593573 0.026526; -0.0237484 -0.0974287 … 0.0441853 -0.0401045; … ; -0.117211 0.0436745 … -0.00851502 -0.164209; 0.1325 0.0246719 … -0.0416886 -0.0157677],Transformation(sigmoid,dsigmoid),0.01),Dict{Any,Any}(),Tree[Tree(:xy,Dict{Any,Any}(),Tree[]),Tree(:y,Dict{Any,Any}(),Tree[])])]),Pair{Any,Any}(DFunction(Class[Class(\"Sensor\",100),Class(\"Action\",120)],Class(\"Pair_Sensor_Action\",70),[0.146261 -0.00646268 … -0.0548569 -0.156312; 0.0628807 0.0530601 … -0.032838 0.080063; … ; -0.0389415 0.0176908 … 0.0565643 0.000140122; -0.0270495 -0.00805829 … -0.126768 -0.0759482],Transformation(sigmoid,dsigmoid),0.01),Any[Tree(DFunction(Class[Class(\"Sensor\",100),Class(\"Action\",120)],Class(\"Pair_Sensor_Action\",70),[0.146261 -0.00646268 … -0.0548569 -0.156312; 0.0628807 0.0530601 … -0.032838 0.080063; … ; -0.0389415 0.0176908 … 0.0565643 0.000140122; -0.0270495 -0.00805829 … -0.126768 -0.0759482],Transformation(sigmoid,dsigmoid),0.01),Dict{Any,Any}(),Tree[Tree(DFunction(Class[Class(\"Pair_Sensor_Action\",70)],Class(\"Sensor\",100),[0.0202242 -0.0950912 … -0.0973063 -0.048941; -0.0533638 -0.0772041 … -0.0251807 0.0571982; … ; 0.0334116 0.0874565 … -0.00851222 0.0967547; -0.162913 0.00978382 … 0.00290663 0.0750028],Transformation(sigmoid,dsigmoid),0.01),Dict{Any,Any}(),Tree[Tree(:xy,Dict{Any,Any}(),Tree[])]),Tree(:y,Dict{Any,Any}(),Tree[])])]),Pair{Any,Any}(DFunction(Class[Class(\"Pair_Sensor_Action\",70)],Class(\"Sensor\",100),[0.0202242 -0.0950912 … -0.0973063 -0.048941; -0.0533638 -0.0772041 … -0.0251807 0.0571982; … ; 0.0334116 0.0874565 … -0.00851222 0.0967547; -0.162913 0.00978382 … 0.00290663 0.0750028],Transformation(sigmoid,dsigmoid),0.01),Any[Tree(DFunction(Class[Class(\"Pair_Sensor_Action\",70)],Class(\"Sensor\",100),[0.0202242 -0.0950912 … -0.0973063 -0.048941; -0.0533638 -0.0772041 … -0.0251807 0.0571982; … ; 0.0334116 0.0874565 … -0.00851222 0.0967547; -0.162913 0.00978382 … 0.00290663 0.0750028],Transformation(sigmoid,dsigmoid),0.01),Dict{Any,Any}(),Tree[Tree(:xy,Dict{Any,Any}(),Tree[])])]))))"
      ]
     },
     "execution_count": 15,
     "metadata": {},
     "output_type": "execute_result"
    }
   ],
   "source": [
    "type Pair\n",
    "    class :: Class\n",
    "    \n",
    "    pair :: DFunction\n",
    "    first :: DFunction\n",
    "    second :: DFunction\n",
    "    first! :: DFunction\n",
    "    second! :: DFunction\n",
    "    \n",
    "    axiom_first :: Axiom\n",
    "    axiom_second :: Axiom\n",
    "    axiom_first! :: Axiom\n",
    "    axiom_second! :: Axiom\n",
    "end\n",
    "\n",
    "function Pair(class1 :: Class, class2 :: Class, pclass :: Class)\n",
    "    pair = DFunction([class1, class2], pclass)\n",
    "    first = DFunction([pclass], class1)\n",
    "    second = DFunction([pclass], class2)\n",
    "    first! = DFunction([pclass, class1], pclass)\n",
    "    second! = DFunction([pclass, class2], pclass)\n",
    "    \n",
    "    axiom_first = Axiom([first, [pair, :x, :y]], :x)\n",
    "    axiom_second = Axiom([second, [pair, :x, :y]], :y)\n",
    "    axiom_first! = Axiom([first!, :xy, :x], [pair, :x, [second, :xy]])\n",
    "    axiom_second! = Axiom([second!, :xy, :y], [pair, [first, :xy], :y])\n",
    "    \n",
    "    Pair(pclass, pair, first, second, first!, second!, axiom_first, axiom_second, axiom_first!, axiom_second!)\n",
    "end\n",
    "\n",
    "function Pair(class1 :: Class, class2 :: Class, type_len :: Int64)\n",
    "    post_name = string(\"_\", class1.class_name, \"_\", class2.class_name)\n",
    "    pair_name = string(\"Pair\", post_name)\n",
    "    pclass = Class(pair_name, type_len)\n",
    "    Pair(class1, class2, pclass)\n",
    "end\n",
    "\n",
    "@time p = Pair(Sensor, Action, 70)"
   ]
  },
  {
   "cell_type": "code",
   "execution_count": 16,
   "metadata": {
    "collapsed": false
   },
   "outputs": [
    {
     "ename": "LoadError",
     "evalue": "LoadError: UndefVarError: lclass not defined\nwhile loading In[16], in expression starting on line 184",
     "output_type": "error",
     "traceback": [
      "LoadError: UndefVarError: lclass not defined\nwhile loading In[16], in expression starting on line 184",
      "",
      " in List(::Class, ::Int64) at ./In[16]:38"
     ]
    }
   ],
   "source": [
    "type List\n",
    "    class :: Class\n",
    "    \n",
    "    empty :: Object\n",
    "\n",
    "    cons :: DFunction\n",
    "    first :: DFunction\n",
    "    rest :: DFunction\n",
    "    first! :: DFunction\n",
    "    rest! :: DFunction\n",
    "    \n",
    "    axiom_first :: Axiom\n",
    "    axiom_rest :: Axiom\n",
    "    axiom_first! :: Axiom\n",
    "    axiom_rest! :: Axiom\n",
    "end\n",
    "\n",
    "function List(class :: Class, lclass :: Class)\n",
    "    empty = Object(lclass)\n",
    "    empty.value .= 0.\n",
    "    \n",
    "    cons = DFunction([class, lclass], lclass)\n",
    "    first = DFunction([lclass], class)\n",
    "    rest = DFunction([lclass], lclass)\n",
    "    first! = DFunction([lclass, class], lclass)\n",
    "    rest! = DFunction([lclass, lclass], lclass)\n",
    "    \n",
    "    axiom_first = Axiom([first, [cons, :x, :xs]], :x)\n",
    "    axiom_rest = Axiom([rest, [cons, :x, :xs]], :xs)\n",
    "    axiom_first! = Axiom([first!, :xxs, :x], [cons, :x, [rest, :xxs]])\n",
    "    axiom_rest! = Axiom([rest!, :xxs, :xs], [cons, [first, :xxs], :xs])\n",
    "    \n",
    "    List(lclass, empty, cons, first, rest, first!, rest!, axiom_first, axiom_rest, axiom_first!, axiom_rest!)\n",
    "end\n",
    "\n",
    "function List(class :: Class, type_len :: Int64)\n",
    "    list_name = string(\"List\", \"_\", class.class_name)\n",
    "    lclass = Class(list_name, type_len)\n",
    "    List(class, lclass)\n",
    "end\n",
    "\n",
    "@time l = List(Sensor, 70)"
   ]
  },
  {
   "cell_type": "code",
   "execution_count": 17,
   "metadata": {
    "collapsed": false
   },
   "outputs": [
    {
     "ename": "LoadError",
     "evalue": "LoadError: UndefVarError: lclass not defined\nwhile loading In[17], in expression starting on line 4",
     "output_type": "error",
     "traceback": [
      "LoadError: UndefVarError: lclass not defined\nwhile loading In[17], in expression starting on line 4",
      "",
      " in List(::Class, ::Int64) at ./In[16]:38"
     ]
    }
   ],
   "source": [
    "## Binding, Frame and Environment\n",
    "\n",
    "Binding = Pair(Variable, LambdaTerm, 100)\n",
    "Frame = List(Binding.class, 100)\n",
    "Environment = List(Frame.class, 200)\n"
   ]
  },
  {
   "cell_type": "code",
   "execution_count": null,
   "metadata": {
    "collapsed": true
   },
   "outputs": [],
   "source": []
  }
 ],
 "metadata": {
  "anaconda-cloud": {},
  "kernelspec": {
   "display_name": "Julia 0.5.0",
   "language": "julia",
   "name": "julia-0.5"
  },
  "language_info": {
   "file_extension": ".jl",
   "mimetype": "application/julia",
   "name": "julia",
   "version": "0.5.0"
  }
 },
 "nbformat": 4,
 "nbformat_minor": 1
}
